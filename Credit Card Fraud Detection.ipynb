{
 "cells": [
  {
   "cell_type": "markdown",
   "metadata": {},
   "source": [
    "### Qinhui Xu 09/13/2018\n",
    "\n",
    "#### Data Source: https://www.kaggle.com/mlg-ulb/creditcardfraud"
   ]
  },
  {
   "cell_type": "markdown",
   "metadata": {},
   "source": [
    "### There are 31 variables in total in the dataset, variable Class is target variable. And target variable is a really imbalanced one, which happens a lot in our real life. \n",
    "\n",
    "#### It is a binary classification problem, therefore the following modeling methods will be used: \n",
    "#### 1. Logistic Regression\n",
    "#### 2. Naive Bayes Classifier\n",
    "#### 3. Gradient Boosting Machine\n",
    "#### 4. Random Forest Model\n",
    "#### 5. XGBoost\n",
    "\n",
    "#### In this case, it is easy to get a high specificity (True Negative Rate) but it is hard to get a high sensitivity (True Positive Rate), which is more important for detecting fraud.\n",
    "#### Packages: pandas, numpy, h2o, scikit-learn will be used for data exploration/transformation and modeling."
   ]
  },
  {
   "cell_type": "markdown",
   "metadata": {},
   "source": [
    "##### Reference"
   ]
  },
  {
   "cell_type": "code",
   "execution_count": 1,
   "metadata": {},
   "outputs": [
    {
     "name": "stderr",
     "output_type": "stream",
     "text": [
      "C:\\Users\\Tiffany Xu\\Anaconda3\\lib\\site-packages\\sklearn\\cross_validation.py:41: DeprecationWarning: This module was deprecated in version 0.18 in favor of the model_selection module into which all the refactored classes and functions are moved. Also note that the interface of the new CV iterators are different from that of this module. This module will be removed in 0.20.\n",
      "  \"This module will be removed in 0.20.\", DeprecationWarning)\n"
     ]
    }
   ],
   "source": [
    "import pandas as pd\n",
    "import numpy as np\n",
    "import matplotlib.pyplot as plt\n",
    "import seaborn as sns\n",
    "%matplotlib inline\n",
    "\n",
    "from sklearn.preprocessing import StandardScaler\n",
    "from sklearn.cross_validation import train_test_split\n",
    "from sklearn.linear_model import LogisticRegression\n",
    "from sklearn.metrics import recall_score,accuracy_score\n",
    "from sklearn.metrics import confusion_matrix\n"
   ]
  },
  {
   "cell_type": "code",
   "execution_count": 2,
   "metadata": {},
   "outputs": [],
   "source": [
    "df = pd.read_csv(\"C:/Users/Tiffany Xu/Documents/MachineLearningStudy/DeepLearning/creditcard.csv\")"
   ]
  },
  {
   "cell_type": "markdown",
   "metadata": {},
   "source": [
    "### Data Exploration"
   ]
  },
  {
   "cell_type": "code",
   "execution_count": 3,
   "metadata": {},
   "outputs": [
    {
     "data": {
      "text/html": [
       "<div>\n",
       "<style scoped>\n",
       "    .dataframe tbody tr th:only-of-type {\n",
       "        vertical-align: middle;\n",
       "    }\n",
       "\n",
       "    .dataframe tbody tr th {\n",
       "        vertical-align: top;\n",
       "    }\n",
       "\n",
       "    .dataframe thead th {\n",
       "        text-align: right;\n",
       "    }\n",
       "</style>\n",
       "<table border=\"1\" class=\"dataframe\">\n",
       "  <thead>\n",
       "    <tr style=\"text-align: right;\">\n",
       "      <th></th>\n",
       "      <th>Time</th>\n",
       "      <th>V1</th>\n",
       "      <th>V2</th>\n",
       "      <th>V3</th>\n",
       "      <th>V4</th>\n",
       "      <th>V5</th>\n",
       "      <th>V6</th>\n",
       "      <th>V7</th>\n",
       "      <th>V8</th>\n",
       "      <th>V9</th>\n",
       "      <th>...</th>\n",
       "      <th>V21</th>\n",
       "      <th>V22</th>\n",
       "      <th>V23</th>\n",
       "      <th>V24</th>\n",
       "      <th>V25</th>\n",
       "      <th>V26</th>\n",
       "      <th>V27</th>\n",
       "      <th>V28</th>\n",
       "      <th>Amount</th>\n",
       "      <th>Class</th>\n",
       "    </tr>\n",
       "  </thead>\n",
       "  <tbody>\n",
       "    <tr>\n",
       "      <th>count</th>\n",
       "      <td>284807.000000</td>\n",
       "      <td>2.848070e+05</td>\n",
       "      <td>2.848070e+05</td>\n",
       "      <td>2.848070e+05</td>\n",
       "      <td>2.848070e+05</td>\n",
       "      <td>2.848070e+05</td>\n",
       "      <td>2.848070e+05</td>\n",
       "      <td>2.848070e+05</td>\n",
       "      <td>2.848070e+05</td>\n",
       "      <td>2.848070e+05</td>\n",
       "      <td>...</td>\n",
       "      <td>2.848070e+05</td>\n",
       "      <td>2.848070e+05</td>\n",
       "      <td>2.848070e+05</td>\n",
       "      <td>2.848070e+05</td>\n",
       "      <td>2.848070e+05</td>\n",
       "      <td>2.848070e+05</td>\n",
       "      <td>2.848070e+05</td>\n",
       "      <td>2.848070e+05</td>\n",
       "      <td>284807.000000</td>\n",
       "      <td>284807.000000</td>\n",
       "    </tr>\n",
       "    <tr>\n",
       "      <th>mean</th>\n",
       "      <td>94813.859575</td>\n",
       "      <td>3.919560e-15</td>\n",
       "      <td>5.688174e-16</td>\n",
       "      <td>-8.769071e-15</td>\n",
       "      <td>2.782312e-15</td>\n",
       "      <td>-1.552563e-15</td>\n",
       "      <td>2.010663e-15</td>\n",
       "      <td>-1.694249e-15</td>\n",
       "      <td>-1.927028e-16</td>\n",
       "      <td>-3.137024e-15</td>\n",
       "      <td>...</td>\n",
       "      <td>1.537294e-16</td>\n",
       "      <td>7.959909e-16</td>\n",
       "      <td>5.367590e-16</td>\n",
       "      <td>4.458112e-15</td>\n",
       "      <td>1.453003e-15</td>\n",
       "      <td>1.699104e-15</td>\n",
       "      <td>-3.660161e-16</td>\n",
       "      <td>-1.206049e-16</td>\n",
       "      <td>88.349619</td>\n",
       "      <td>0.001727</td>\n",
       "    </tr>\n",
       "    <tr>\n",
       "      <th>std</th>\n",
       "      <td>47488.145955</td>\n",
       "      <td>1.958696e+00</td>\n",
       "      <td>1.651309e+00</td>\n",
       "      <td>1.516255e+00</td>\n",
       "      <td>1.415869e+00</td>\n",
       "      <td>1.380247e+00</td>\n",
       "      <td>1.332271e+00</td>\n",
       "      <td>1.237094e+00</td>\n",
       "      <td>1.194353e+00</td>\n",
       "      <td>1.098632e+00</td>\n",
       "      <td>...</td>\n",
       "      <td>7.345240e-01</td>\n",
       "      <td>7.257016e-01</td>\n",
       "      <td>6.244603e-01</td>\n",
       "      <td>6.056471e-01</td>\n",
       "      <td>5.212781e-01</td>\n",
       "      <td>4.822270e-01</td>\n",
       "      <td>4.036325e-01</td>\n",
       "      <td>3.300833e-01</td>\n",
       "      <td>250.120109</td>\n",
       "      <td>0.041527</td>\n",
       "    </tr>\n",
       "    <tr>\n",
       "      <th>min</th>\n",
       "      <td>0.000000</td>\n",
       "      <td>-5.640751e+01</td>\n",
       "      <td>-7.271573e+01</td>\n",
       "      <td>-4.832559e+01</td>\n",
       "      <td>-5.683171e+00</td>\n",
       "      <td>-1.137433e+02</td>\n",
       "      <td>-2.616051e+01</td>\n",
       "      <td>-4.355724e+01</td>\n",
       "      <td>-7.321672e+01</td>\n",
       "      <td>-1.343407e+01</td>\n",
       "      <td>...</td>\n",
       "      <td>-3.483038e+01</td>\n",
       "      <td>-1.093314e+01</td>\n",
       "      <td>-4.480774e+01</td>\n",
       "      <td>-2.836627e+00</td>\n",
       "      <td>-1.029540e+01</td>\n",
       "      <td>-2.604551e+00</td>\n",
       "      <td>-2.256568e+01</td>\n",
       "      <td>-1.543008e+01</td>\n",
       "      <td>0.000000</td>\n",
       "      <td>0.000000</td>\n",
       "    </tr>\n",
       "    <tr>\n",
       "      <th>25%</th>\n",
       "      <td>54201.500000</td>\n",
       "      <td>-9.203734e-01</td>\n",
       "      <td>-5.985499e-01</td>\n",
       "      <td>-8.903648e-01</td>\n",
       "      <td>-8.486401e-01</td>\n",
       "      <td>-6.915971e-01</td>\n",
       "      <td>-7.682956e-01</td>\n",
       "      <td>-5.540759e-01</td>\n",
       "      <td>-2.086297e-01</td>\n",
       "      <td>-6.430976e-01</td>\n",
       "      <td>...</td>\n",
       "      <td>-2.283949e-01</td>\n",
       "      <td>-5.423504e-01</td>\n",
       "      <td>-1.618463e-01</td>\n",
       "      <td>-3.545861e-01</td>\n",
       "      <td>-3.171451e-01</td>\n",
       "      <td>-3.269839e-01</td>\n",
       "      <td>-7.083953e-02</td>\n",
       "      <td>-5.295979e-02</td>\n",
       "      <td>5.600000</td>\n",
       "      <td>0.000000</td>\n",
       "    </tr>\n",
       "    <tr>\n",
       "      <th>50%</th>\n",
       "      <td>84692.000000</td>\n",
       "      <td>1.810880e-02</td>\n",
       "      <td>6.548556e-02</td>\n",
       "      <td>1.798463e-01</td>\n",
       "      <td>-1.984653e-02</td>\n",
       "      <td>-5.433583e-02</td>\n",
       "      <td>-2.741871e-01</td>\n",
       "      <td>4.010308e-02</td>\n",
       "      <td>2.235804e-02</td>\n",
       "      <td>-5.142873e-02</td>\n",
       "      <td>...</td>\n",
       "      <td>-2.945017e-02</td>\n",
       "      <td>6.781943e-03</td>\n",
       "      <td>-1.119293e-02</td>\n",
       "      <td>4.097606e-02</td>\n",
       "      <td>1.659350e-02</td>\n",
       "      <td>-5.213911e-02</td>\n",
       "      <td>1.342146e-03</td>\n",
       "      <td>1.124383e-02</td>\n",
       "      <td>22.000000</td>\n",
       "      <td>0.000000</td>\n",
       "    </tr>\n",
       "    <tr>\n",
       "      <th>75%</th>\n",
       "      <td>139320.500000</td>\n",
       "      <td>1.315642e+00</td>\n",
       "      <td>8.037239e-01</td>\n",
       "      <td>1.027196e+00</td>\n",
       "      <td>7.433413e-01</td>\n",
       "      <td>6.119264e-01</td>\n",
       "      <td>3.985649e-01</td>\n",
       "      <td>5.704361e-01</td>\n",
       "      <td>3.273459e-01</td>\n",
       "      <td>5.971390e-01</td>\n",
       "      <td>...</td>\n",
       "      <td>1.863772e-01</td>\n",
       "      <td>5.285536e-01</td>\n",
       "      <td>1.476421e-01</td>\n",
       "      <td>4.395266e-01</td>\n",
       "      <td>3.507156e-01</td>\n",
       "      <td>2.409522e-01</td>\n",
       "      <td>9.104512e-02</td>\n",
       "      <td>7.827995e-02</td>\n",
       "      <td>77.165000</td>\n",
       "      <td>0.000000</td>\n",
       "    </tr>\n",
       "    <tr>\n",
       "      <th>max</th>\n",
       "      <td>172792.000000</td>\n",
       "      <td>2.454930e+00</td>\n",
       "      <td>2.205773e+01</td>\n",
       "      <td>9.382558e+00</td>\n",
       "      <td>1.687534e+01</td>\n",
       "      <td>3.480167e+01</td>\n",
       "      <td>7.330163e+01</td>\n",
       "      <td>1.205895e+02</td>\n",
       "      <td>2.000721e+01</td>\n",
       "      <td>1.559499e+01</td>\n",
       "      <td>...</td>\n",
       "      <td>2.720284e+01</td>\n",
       "      <td>1.050309e+01</td>\n",
       "      <td>2.252841e+01</td>\n",
       "      <td>4.584549e+00</td>\n",
       "      <td>7.519589e+00</td>\n",
       "      <td>3.517346e+00</td>\n",
       "      <td>3.161220e+01</td>\n",
       "      <td>3.384781e+01</td>\n",
       "      <td>25691.160000</td>\n",
       "      <td>1.000000</td>\n",
       "    </tr>\n",
       "  </tbody>\n",
       "</table>\n",
       "<p>8 rows × 31 columns</p>\n",
       "</div>"
      ],
      "text/plain": [
       "                Time            V1            V2            V3            V4  \\\n",
       "count  284807.000000  2.848070e+05  2.848070e+05  2.848070e+05  2.848070e+05   \n",
       "mean    94813.859575  3.919560e-15  5.688174e-16 -8.769071e-15  2.782312e-15   \n",
       "std     47488.145955  1.958696e+00  1.651309e+00  1.516255e+00  1.415869e+00   \n",
       "min         0.000000 -5.640751e+01 -7.271573e+01 -4.832559e+01 -5.683171e+00   \n",
       "25%     54201.500000 -9.203734e-01 -5.985499e-01 -8.903648e-01 -8.486401e-01   \n",
       "50%     84692.000000  1.810880e-02  6.548556e-02  1.798463e-01 -1.984653e-02   \n",
       "75%    139320.500000  1.315642e+00  8.037239e-01  1.027196e+00  7.433413e-01   \n",
       "max    172792.000000  2.454930e+00  2.205773e+01  9.382558e+00  1.687534e+01   \n",
       "\n",
       "                 V5            V6            V7            V8            V9  \\\n",
       "count  2.848070e+05  2.848070e+05  2.848070e+05  2.848070e+05  2.848070e+05   \n",
       "mean  -1.552563e-15  2.010663e-15 -1.694249e-15 -1.927028e-16 -3.137024e-15   \n",
       "std    1.380247e+00  1.332271e+00  1.237094e+00  1.194353e+00  1.098632e+00   \n",
       "min   -1.137433e+02 -2.616051e+01 -4.355724e+01 -7.321672e+01 -1.343407e+01   \n",
       "25%   -6.915971e-01 -7.682956e-01 -5.540759e-01 -2.086297e-01 -6.430976e-01   \n",
       "50%   -5.433583e-02 -2.741871e-01  4.010308e-02  2.235804e-02 -5.142873e-02   \n",
       "75%    6.119264e-01  3.985649e-01  5.704361e-01  3.273459e-01  5.971390e-01   \n",
       "max    3.480167e+01  7.330163e+01  1.205895e+02  2.000721e+01  1.559499e+01   \n",
       "\n",
       "           ...                 V21           V22           V23           V24  \\\n",
       "count      ...        2.848070e+05  2.848070e+05  2.848070e+05  2.848070e+05   \n",
       "mean       ...        1.537294e-16  7.959909e-16  5.367590e-16  4.458112e-15   \n",
       "std        ...        7.345240e-01  7.257016e-01  6.244603e-01  6.056471e-01   \n",
       "min        ...       -3.483038e+01 -1.093314e+01 -4.480774e+01 -2.836627e+00   \n",
       "25%        ...       -2.283949e-01 -5.423504e-01 -1.618463e-01 -3.545861e-01   \n",
       "50%        ...       -2.945017e-02  6.781943e-03 -1.119293e-02  4.097606e-02   \n",
       "75%        ...        1.863772e-01  5.285536e-01  1.476421e-01  4.395266e-01   \n",
       "max        ...        2.720284e+01  1.050309e+01  2.252841e+01  4.584549e+00   \n",
       "\n",
       "                V25           V26           V27           V28         Amount  \\\n",
       "count  2.848070e+05  2.848070e+05  2.848070e+05  2.848070e+05  284807.000000   \n",
       "mean   1.453003e-15  1.699104e-15 -3.660161e-16 -1.206049e-16      88.349619   \n",
       "std    5.212781e-01  4.822270e-01  4.036325e-01  3.300833e-01     250.120109   \n",
       "min   -1.029540e+01 -2.604551e+00 -2.256568e+01 -1.543008e+01       0.000000   \n",
       "25%   -3.171451e-01 -3.269839e-01 -7.083953e-02 -5.295979e-02       5.600000   \n",
       "50%    1.659350e-02 -5.213911e-02  1.342146e-03  1.124383e-02      22.000000   \n",
       "75%    3.507156e-01  2.409522e-01  9.104512e-02  7.827995e-02      77.165000   \n",
       "max    7.519589e+00  3.517346e+00  3.161220e+01  3.384781e+01   25691.160000   \n",
       "\n",
       "               Class  \n",
       "count  284807.000000  \n",
       "mean        0.001727  \n",
       "std         0.041527  \n",
       "min         0.000000  \n",
       "25%         0.000000  \n",
       "50%         0.000000  \n",
       "75%         0.000000  \n",
       "max         1.000000  \n",
       "\n",
       "[8 rows x 31 columns]"
      ]
     },
     "execution_count": 3,
     "metadata": {},
     "output_type": "execute_result"
    }
   ],
   "source": [
    "df.describe()"
   ]
  },
  {
   "cell_type": "markdown",
   "metadata": {},
   "source": [
    "std can show the variance of each Independent Variable from the dataset"
   ]
  },
  {
   "cell_type": "code",
   "execution_count": 4,
   "metadata": {},
   "outputs": [
    {
     "data": {
      "text/html": [
       "<div>\n",
       "<style scoped>\n",
       "    .dataframe tbody tr th:only-of-type {\n",
       "        vertical-align: middle;\n",
       "    }\n",
       "\n",
       "    .dataframe tbody tr th {\n",
       "        vertical-align: top;\n",
       "    }\n",
       "\n",
       "    .dataframe thead th {\n",
       "        text-align: right;\n",
       "    }\n",
       "</style>\n",
       "<table border=\"1\" class=\"dataframe\">\n",
       "  <thead>\n",
       "    <tr style=\"text-align: right;\">\n",
       "      <th></th>\n",
       "      <th>Class</th>\n",
       "      <th>V28</th>\n",
       "      <th>V27</th>\n",
       "      <th>V26</th>\n",
       "      <th>V25</th>\n",
       "      <th>V24</th>\n",
       "      <th>V23</th>\n",
       "      <th>V22</th>\n",
       "      <th>V21</th>\n",
       "      <th>V20</th>\n",
       "      <th>...</th>\n",
       "      <th>V8</th>\n",
       "      <th>V7</th>\n",
       "      <th>V6</th>\n",
       "      <th>V5</th>\n",
       "      <th>V4</th>\n",
       "      <th>V3</th>\n",
       "      <th>V2</th>\n",
       "      <th>V1</th>\n",
       "      <th>Amount</th>\n",
       "      <th>Time</th>\n",
       "    </tr>\n",
       "  </thead>\n",
       "  <tbody>\n",
       "    <tr>\n",
       "      <th>count</th>\n",
       "      <td>284807.000000</td>\n",
       "      <td>2.848070e+05</td>\n",
       "      <td>2.848070e+05</td>\n",
       "      <td>2.848070e+05</td>\n",
       "      <td>2.848070e+05</td>\n",
       "      <td>2.848070e+05</td>\n",
       "      <td>2.848070e+05</td>\n",
       "      <td>2.848070e+05</td>\n",
       "      <td>2.848070e+05</td>\n",
       "      <td>2.848070e+05</td>\n",
       "      <td>...</td>\n",
       "      <td>2.848070e+05</td>\n",
       "      <td>2.848070e+05</td>\n",
       "      <td>2.848070e+05</td>\n",
       "      <td>2.848070e+05</td>\n",
       "      <td>2.848070e+05</td>\n",
       "      <td>2.848070e+05</td>\n",
       "      <td>2.848070e+05</td>\n",
       "      <td>2.848070e+05</td>\n",
       "      <td>284807.000000</td>\n",
       "      <td>284807.000000</td>\n",
       "    </tr>\n",
       "    <tr>\n",
       "      <th>mean</th>\n",
       "      <td>0.001727</td>\n",
       "      <td>-1.206049e-16</td>\n",
       "      <td>-3.660161e-16</td>\n",
       "      <td>1.699104e-15</td>\n",
       "      <td>1.453003e-15</td>\n",
       "      <td>4.458112e-15</td>\n",
       "      <td>5.367590e-16</td>\n",
       "      <td>7.959909e-16</td>\n",
       "      <td>1.537294e-16</td>\n",
       "      <td>5.085503e-16</td>\n",
       "      <td>...</td>\n",
       "      <td>-1.927028e-16</td>\n",
       "      <td>-1.694249e-15</td>\n",
       "      <td>2.010663e-15</td>\n",
       "      <td>-1.552563e-15</td>\n",
       "      <td>2.782312e-15</td>\n",
       "      <td>-8.769071e-15</td>\n",
       "      <td>5.688174e-16</td>\n",
       "      <td>3.919560e-15</td>\n",
       "      <td>88.349619</td>\n",
       "      <td>94813.859575</td>\n",
       "    </tr>\n",
       "    <tr>\n",
       "      <th>std</th>\n",
       "      <td>0.041527</td>\n",
       "      <td>3.300833e-01</td>\n",
       "      <td>4.036325e-01</td>\n",
       "      <td>4.822270e-01</td>\n",
       "      <td>5.212781e-01</td>\n",
       "      <td>6.056471e-01</td>\n",
       "      <td>6.244603e-01</td>\n",
       "      <td>7.257016e-01</td>\n",
       "      <td>7.345240e-01</td>\n",
       "      <td>7.709250e-01</td>\n",
       "      <td>...</td>\n",
       "      <td>1.194353e+00</td>\n",
       "      <td>1.237094e+00</td>\n",
       "      <td>1.332271e+00</td>\n",
       "      <td>1.380247e+00</td>\n",
       "      <td>1.415869e+00</td>\n",
       "      <td>1.516255e+00</td>\n",
       "      <td>1.651309e+00</td>\n",
       "      <td>1.958696e+00</td>\n",
       "      <td>250.120109</td>\n",
       "      <td>47488.145955</td>\n",
       "    </tr>\n",
       "    <tr>\n",
       "      <th>min</th>\n",
       "      <td>0.000000</td>\n",
       "      <td>-1.543008e+01</td>\n",
       "      <td>-2.256568e+01</td>\n",
       "      <td>-2.604551e+00</td>\n",
       "      <td>-1.029540e+01</td>\n",
       "      <td>-2.836627e+00</td>\n",
       "      <td>-4.480774e+01</td>\n",
       "      <td>-1.093314e+01</td>\n",
       "      <td>-3.483038e+01</td>\n",
       "      <td>-5.449772e+01</td>\n",
       "      <td>...</td>\n",
       "      <td>-7.321672e+01</td>\n",
       "      <td>-4.355724e+01</td>\n",
       "      <td>-2.616051e+01</td>\n",
       "      <td>-1.137433e+02</td>\n",
       "      <td>-5.683171e+00</td>\n",
       "      <td>-4.832559e+01</td>\n",
       "      <td>-7.271573e+01</td>\n",
       "      <td>-5.640751e+01</td>\n",
       "      <td>0.000000</td>\n",
       "      <td>0.000000</td>\n",
       "    </tr>\n",
       "    <tr>\n",
       "      <th>25%</th>\n",
       "      <td>0.000000</td>\n",
       "      <td>-5.295979e-02</td>\n",
       "      <td>-7.083953e-02</td>\n",
       "      <td>-3.269839e-01</td>\n",
       "      <td>-3.171451e-01</td>\n",
       "      <td>-3.545861e-01</td>\n",
       "      <td>-1.618463e-01</td>\n",
       "      <td>-5.423504e-01</td>\n",
       "      <td>-2.283949e-01</td>\n",
       "      <td>-2.117214e-01</td>\n",
       "      <td>...</td>\n",
       "      <td>-2.086297e-01</td>\n",
       "      <td>-5.540759e-01</td>\n",
       "      <td>-7.682956e-01</td>\n",
       "      <td>-6.915971e-01</td>\n",
       "      <td>-8.486401e-01</td>\n",
       "      <td>-8.903648e-01</td>\n",
       "      <td>-5.985499e-01</td>\n",
       "      <td>-9.203734e-01</td>\n",
       "      <td>5.600000</td>\n",
       "      <td>54201.500000</td>\n",
       "    </tr>\n",
       "    <tr>\n",
       "      <th>50%</th>\n",
       "      <td>0.000000</td>\n",
       "      <td>1.124383e-02</td>\n",
       "      <td>1.342146e-03</td>\n",
       "      <td>-5.213911e-02</td>\n",
       "      <td>1.659350e-02</td>\n",
       "      <td>4.097606e-02</td>\n",
       "      <td>-1.119293e-02</td>\n",
       "      <td>6.781943e-03</td>\n",
       "      <td>-2.945017e-02</td>\n",
       "      <td>-6.248109e-02</td>\n",
       "      <td>...</td>\n",
       "      <td>2.235804e-02</td>\n",
       "      <td>4.010308e-02</td>\n",
       "      <td>-2.741871e-01</td>\n",
       "      <td>-5.433583e-02</td>\n",
       "      <td>-1.984653e-02</td>\n",
       "      <td>1.798463e-01</td>\n",
       "      <td>6.548556e-02</td>\n",
       "      <td>1.810880e-02</td>\n",
       "      <td>22.000000</td>\n",
       "      <td>84692.000000</td>\n",
       "    </tr>\n",
       "    <tr>\n",
       "      <th>75%</th>\n",
       "      <td>0.000000</td>\n",
       "      <td>7.827995e-02</td>\n",
       "      <td>9.104512e-02</td>\n",
       "      <td>2.409522e-01</td>\n",
       "      <td>3.507156e-01</td>\n",
       "      <td>4.395266e-01</td>\n",
       "      <td>1.476421e-01</td>\n",
       "      <td>5.285536e-01</td>\n",
       "      <td>1.863772e-01</td>\n",
       "      <td>1.330408e-01</td>\n",
       "      <td>...</td>\n",
       "      <td>3.273459e-01</td>\n",
       "      <td>5.704361e-01</td>\n",
       "      <td>3.985649e-01</td>\n",
       "      <td>6.119264e-01</td>\n",
       "      <td>7.433413e-01</td>\n",
       "      <td>1.027196e+00</td>\n",
       "      <td>8.037239e-01</td>\n",
       "      <td>1.315642e+00</td>\n",
       "      <td>77.165000</td>\n",
       "      <td>139320.500000</td>\n",
       "    </tr>\n",
       "    <tr>\n",
       "      <th>max</th>\n",
       "      <td>1.000000</td>\n",
       "      <td>3.384781e+01</td>\n",
       "      <td>3.161220e+01</td>\n",
       "      <td>3.517346e+00</td>\n",
       "      <td>7.519589e+00</td>\n",
       "      <td>4.584549e+00</td>\n",
       "      <td>2.252841e+01</td>\n",
       "      <td>1.050309e+01</td>\n",
       "      <td>2.720284e+01</td>\n",
       "      <td>3.942090e+01</td>\n",
       "      <td>...</td>\n",
       "      <td>2.000721e+01</td>\n",
       "      <td>1.205895e+02</td>\n",
       "      <td>7.330163e+01</td>\n",
       "      <td>3.480167e+01</td>\n",
       "      <td>1.687534e+01</td>\n",
       "      <td>9.382558e+00</td>\n",
       "      <td>2.205773e+01</td>\n",
       "      <td>2.454930e+00</td>\n",
       "      <td>25691.160000</td>\n",
       "      <td>172792.000000</td>\n",
       "    </tr>\n",
       "  </tbody>\n",
       "</table>\n",
       "<p>8 rows × 31 columns</p>\n",
       "</div>"
      ],
      "text/plain": [
       "               Class           V28           V27           V26           V25  \\\n",
       "count  284807.000000  2.848070e+05  2.848070e+05  2.848070e+05  2.848070e+05   \n",
       "mean        0.001727 -1.206049e-16 -3.660161e-16  1.699104e-15  1.453003e-15   \n",
       "std         0.041527  3.300833e-01  4.036325e-01  4.822270e-01  5.212781e-01   \n",
       "min         0.000000 -1.543008e+01 -2.256568e+01 -2.604551e+00 -1.029540e+01   \n",
       "25%         0.000000 -5.295979e-02 -7.083953e-02 -3.269839e-01 -3.171451e-01   \n",
       "50%         0.000000  1.124383e-02  1.342146e-03 -5.213911e-02  1.659350e-02   \n",
       "75%         0.000000  7.827995e-02  9.104512e-02  2.409522e-01  3.507156e-01   \n",
       "max         1.000000  3.384781e+01  3.161220e+01  3.517346e+00  7.519589e+00   \n",
       "\n",
       "                V24           V23           V22           V21           V20  \\\n",
       "count  2.848070e+05  2.848070e+05  2.848070e+05  2.848070e+05  2.848070e+05   \n",
       "mean   4.458112e-15  5.367590e-16  7.959909e-16  1.537294e-16  5.085503e-16   \n",
       "std    6.056471e-01  6.244603e-01  7.257016e-01  7.345240e-01  7.709250e-01   \n",
       "min   -2.836627e+00 -4.480774e+01 -1.093314e+01 -3.483038e+01 -5.449772e+01   \n",
       "25%   -3.545861e-01 -1.618463e-01 -5.423504e-01 -2.283949e-01 -2.117214e-01   \n",
       "50%    4.097606e-02 -1.119293e-02  6.781943e-03 -2.945017e-02 -6.248109e-02   \n",
       "75%    4.395266e-01  1.476421e-01  5.285536e-01  1.863772e-01  1.330408e-01   \n",
       "max    4.584549e+00  2.252841e+01  1.050309e+01  2.720284e+01  3.942090e+01   \n",
       "\n",
       "           ...                  V8            V7            V6            V5  \\\n",
       "count      ...        2.848070e+05  2.848070e+05  2.848070e+05  2.848070e+05   \n",
       "mean       ...       -1.927028e-16 -1.694249e-15  2.010663e-15 -1.552563e-15   \n",
       "std        ...        1.194353e+00  1.237094e+00  1.332271e+00  1.380247e+00   \n",
       "min        ...       -7.321672e+01 -4.355724e+01 -2.616051e+01 -1.137433e+02   \n",
       "25%        ...       -2.086297e-01 -5.540759e-01 -7.682956e-01 -6.915971e-01   \n",
       "50%        ...        2.235804e-02  4.010308e-02 -2.741871e-01 -5.433583e-02   \n",
       "75%        ...        3.273459e-01  5.704361e-01  3.985649e-01  6.119264e-01   \n",
       "max        ...        2.000721e+01  1.205895e+02  7.330163e+01  3.480167e+01   \n",
       "\n",
       "                 V4            V3            V2            V1         Amount  \\\n",
       "count  2.848070e+05  2.848070e+05  2.848070e+05  2.848070e+05  284807.000000   \n",
       "mean   2.782312e-15 -8.769071e-15  5.688174e-16  3.919560e-15      88.349619   \n",
       "std    1.415869e+00  1.516255e+00  1.651309e+00  1.958696e+00     250.120109   \n",
       "min   -5.683171e+00 -4.832559e+01 -7.271573e+01 -5.640751e+01       0.000000   \n",
       "25%   -8.486401e-01 -8.903648e-01 -5.985499e-01 -9.203734e-01       5.600000   \n",
       "50%   -1.984653e-02  1.798463e-01  6.548556e-02  1.810880e-02      22.000000   \n",
       "75%    7.433413e-01  1.027196e+00  8.037239e-01  1.315642e+00      77.165000   \n",
       "max    1.687534e+01  9.382558e+00  2.205773e+01  2.454930e+00   25691.160000   \n",
       "\n",
       "                Time  \n",
       "count  284807.000000  \n",
       "mean    94813.859575  \n",
       "std     47488.145955  \n",
       "min         0.000000  \n",
       "25%     54201.500000  \n",
       "50%     84692.000000  \n",
       "75%    139320.500000  \n",
       "max    172792.000000  \n",
       "\n",
       "[8 rows x 31 columns]"
      ]
     },
     "execution_count": 4,
     "metadata": {},
     "output_type": "execute_result"
    }
   ],
   "source": [
    "df_info = df.describe()\n",
    "df_info.iloc[:, np.argsort(df_info.loc['std'])]"
   ]
  },
  {
   "cell_type": "code",
   "execution_count": 5,
   "metadata": {},
   "outputs": [
    {
     "data": {
      "text/plain": [
       "(284807, 31)"
      ]
     },
     "execution_count": 5,
     "metadata": {},
     "output_type": "execute_result"
    }
   ],
   "source": [
    "df.shape"
   ]
  },
  {
   "cell_type": "code",
   "execution_count": 6,
   "metadata": {},
   "outputs": [],
   "source": [
    "df_class = df['Class'].value_counts()\n",
    "df_class = pd.DataFrame(df_class)"
   ]
  },
  {
   "cell_type": "code",
   "execution_count": 7,
   "metadata": {},
   "outputs": [
    {
     "name": "stdout",
     "output_type": "stream",
     "text": [
      "The percentage of fraud record is 0.1727485630620034\n"
     ]
    }
   ],
   "source": [
    "print(\"The percentage of fraud record is\",df_class[\"Class\"][1]/len(df)*100)"
   ]
  },
  {
   "cell_type": "markdown",
   "metadata": {},
   "source": [
    "#### There are 294807 rows and 31 columns in the dataset. Targe variable is really imbalanced one as only 0.17% of the records is fraud. Then, we will look at the distribution of independent variables for fraud transactions and non-fraud transactions seperately."
   ]
  },
  {
   "cell_type": "code",
   "execution_count": 8,
   "metadata": {},
   "outputs": [],
   "source": [
    "df_notfraud = df[df[\"Class\"]==0]\n",
    "df_fraud = df[df[\"Class\"]==1]"
   ]
  },
  {
   "cell_type": "code",
   "execution_count": 9,
   "metadata": {},
   "outputs": [
    {
     "data": {
      "text/plain": [
       "<matplotlib.axes._subplots.AxesSubplot at 0x274299feac8>"
      ]
     },
     "execution_count": 9,
     "metadata": {},
     "output_type": "execute_result"
    },
    {
     "data": {
      "image/png": "[encoded data removed]",
      "text/plain": [
       "<Figure size 864x432 with 2 Axes>"
      ]
     },
     "metadata": {},
     "output_type": "display_data"
    }
   ],
   "source": [
    "plt.figure(figsize = (12,6))\n",
    "plt.subplot(121)\n",
    "df_notfraud[\"Amount\"].plot.hist(title = \"Amount Distribution for Non-Fraud Transaction\")\n",
    "plt.subplot(122)\n",
    "df_fraud[\"Amount\"].plot.hist(title = \"Amount Distribution for Fraud Transaction\")"
   ]
  },
  {
   "cell_type": "markdown",
   "metadata": {},
   "source": [
    "We can see that most of the Amount distribution is located in range 0 - 2500. So I will make a subset of non-fraud dataframe and look into the distribution of Amount again."
   ]
  },
  {
   "cell_type": "code",
   "execution_count": 10,
   "metadata": {},
   "outputs": [
    {
     "data": {
      "text/plain": [
       "<matplotlib.axes._subplots.AxesSubplot at 0x27429b19d30>"
      ]
     },
     "execution_count": 10,
     "metadata": {},
     "output_type": "execute_result"
    },
    {
     "data": {
      "image/png": "[encoded data removed]",
      "text/plain": [
       "<Figure size 864x432 with 2 Axes>"
      ]
     },
     "metadata": {},
     "output_type": "display_data"
    }
   ],
   "source": [
    "df_notfraud_subset = df_notfraud[df_notfraud[\"Amount\"]<2500]\n",
    "plt.figure(figsize = (12,6))\n",
    "plt.subplot(121)\n",
    "df_notfraud_subset[\"Amount\"].plot.hist(title = \"Amount Distribution for Non-Fraud Transaction\")\n",
    "plt.subplot(122)\n",
    "df_fraud[\"Amount\"].plot.hist(title = \"Amount Distribution for Fraud Transaction\")"
   ]
  },
  {
   "cell_type": "markdown",
   "metadata": {},
   "source": [
    "After we do subset for non-fraud transactions, we can see that there is no specific pattern for the fraud transactions in Amount Distribution."
   ]
  },
  {
   "cell_type": "code",
   "execution_count": 11,
   "metadata": {},
   "outputs": [
    {
     "data": {
      "text/plain": [
       "<matplotlib.axes._subplots.AxesSubplot at 0x2742a5844a8>"
      ]
     },
     "execution_count": 11,
     "metadata": {},
     "output_type": "execute_result"
    },
    {
     "data": {
      "image/png": "[encoded data removed]",
      "text/plain": [
       "<Figure size 864x432 with 2 Axes>"
      ]
     },
     "metadata": {},
     "output_type": "display_data"
    }
   ],
   "source": [
    "plt.figure(figsize = (12,6))\n",
    "plt.subplot(121)\n",
    "df_notfraud[\"V1\"].plot.hist(title = \"V1 Distribution for Non-Fraud Transaction\")\n",
    "plt.subplot(122)\n",
    "df_fraud[\"V1\"].plot.hist(title = \"V1 Distribution for Fraud Transaction\")"
   ]
  },
  {
   "cell_type": "code",
   "execution_count": 12,
   "metadata": {},
   "outputs": [
    {
     "data": {
      "text/plain": [
       "<matplotlib.axes._subplots.AxesSubplot at 0x2742a660438>"
      ]
     },
     "execution_count": 12,
     "metadata": {},
     "output_type": "execute_result"
    },
    {
     "data": {
      "image/png": "[encoded data removed]",
      "text/plain": [
       "<Figure size 864x432 with 2 Axes>"
      ]
     },
     "metadata": {},
     "output_type": "display_data"
    }
   ],
   "source": [
    "plt.figure(figsize = (12,6))\n",
    "plt.subplot(121)\n",
    "df_notfraud[\"V2\"].plot.hist(title = \"V2 Distribution for Non-Fraud Transaction\")\n",
    "plt.subplot(122)\n",
    "df_fraud[\"V2\"].plot.hist(title = \"V2 Distribution for Fraud Transaction\")"
   ]
  },
  {
   "cell_type": "code",
   "execution_count": 13,
   "metadata": {},
   "outputs": [
    {
     "data": {
      "text/plain": [
       "<matplotlib.axes._subplots.AxesSubplot at 0x2742a73d2b0>"
      ]
     },
     "execution_count": 13,
     "metadata": {},
     "output_type": "execute_result"
    },
    {
     "data": {
      "image/png": "[encoded data removed]",
      "text/plain": [
       "<Figure size 864x432 with 2 Axes>"
      ]
     },
     "metadata": {},
     "output_type": "display_data"
    }
   ],
   "source": [
    "df_notfraud_subset = df_notfraud[df_notfraud[\"V2\"]>-20]\n",
    "plt.figure(figsize = (12,6))\n",
    "plt.subplot(121)\n",
    "df_notfraud_subset[\"V2\"].plot.hist(title = \"V2 Distribution for Non-Fraud Transaction\")\n",
    "plt.subplot(122)\n",
    "df_fraud[\"V2\"].plot.hist(title = \"V2 Distribution for Fraud Transaction\")"
   ]
  },
  {
   "cell_type": "markdown",
   "metadata": {},
   "source": [
    "### Deal With Imbalance in the Dataset"
   ]
  },
  {
   "cell_type": "markdown",
   "metadata": {},
   "source": [
    "First, lets build a simple logistic regression model and look at confusion matrix before dealing with imbalance."
   ]
  },
  {
   "cell_type": "code",
   "execution_count": 14,
   "metadata": {},
   "outputs": [],
   "source": [
    "df['normalized_amount'] = StandardScaler().fit_transform(df['Amount'].values.reshape(-1,1))\n",
    "df = df.drop(['Amount','Time'], axis=1)\n",
    "X = df.loc[:,df.columns != 'Class']\n",
    "y = df.loc[:,df.columns == 'Class']\n",
    "X_train, X_test, y_train, y_test = train_test_split(X,y,test_size = 0.3, random_state = 0)"
   ]
  },
  {
   "cell_type": "code",
   "execution_count": 15,
   "metadata": {},
   "outputs": [
    {
     "name": "stderr",
     "output_type": "stream",
     "text": [
      "C:\\Users\\Tiffany Xu\\Anaconda3\\lib\\site-packages\\sklearn\\utils\\validation.py:578: DataConversionWarning: A column-vector y was passed when a 1d array was expected. Please change the shape of y to (n_samples, ), for example using ravel().\n",
      "  y = column_or_1d(y, warn=True)\n"
     ]
    },
    {
     "name": "stdout",
     "output_type": "stream",
     "text": [
      "Sensitivity/Recall is: 0.6190476190476191\n",
      "Specificity is: 0.9998593134496342\n"
     ]
    }
   ],
   "source": [
    "lr = LogisticRegression()\n",
    "lr.fit(X_train,y_train)\n",
    "y_pred = lr.predict(X_test)\n",
    "tn, fp, fn, tp = confusion_matrix(y_test, y_pred).ravel()\n",
    "print(\"Sensitivity/Recall is:\",tp/(tp+fn))\n",
    "print(\"Specificity is:\",tn/(tn+fp))"
   ]
  },
  {
   "cell_type": "markdown",
   "metadata": {},
   "source": [
    "Compared to Specificity, Recall is pretty low,which is only a little bit better than random guess.\n",
    "\n",
    "So, we need to deal with imbalanced data. \n",
    "What can we do to deal with this problem? 1) We can decrease the size of majority part. 2) We can increase the size of minority part.\n",
    "The first option is called *Undersamplint*, and the second option is called *Oversampling*."
   ]
  },
  {
   "cell_type": "markdown",
   "metadata": {},
   "source": [
    "#### Undersampling - reduce the size of majority (non-fraud) to match the minority (fraud)."
   ]
  },
  {
   "cell_type": "markdown",
   "metadata": {},
   "source": [
    "1. Random Undersampling Try"
   ]
  },
  {
   "cell_type": "code",
   "execution_count": 16,
   "metadata": {},
   "outputs": [],
   "source": [
    "df_notfraud_sample = df_notfraud.sample(len(df_fraud))\n",
    "df_random_undersample = pd.concat([df_notfraud_sample,df_fraud],axis=0)"
   ]
  },
  {
   "cell_type": "code",
   "execution_count": 17,
   "metadata": {},
   "outputs": [
    {
     "name": "stdout",
     "output_type": "stream",
     "text": [
      "Sensitivity/Recall is: 0.87248322147651\n",
      "Specificity is: 0.9863945578231292\n"
     ]
    },
    {
     "name": "stderr",
     "output_type": "stream",
     "text": [
      "C:\\Users\\Tiffany Xu\\Anaconda3\\lib\\site-packages\\sklearn\\utils\\validation.py:578: DataConversionWarning: A column-vector y was passed when a 1d array was expected. Please change the shape of y to (n_samples, ), for example using ravel().\n",
      "  y = column_or_1d(y, warn=True)\n"
     ]
    }
   ],
   "source": [
    "df_random_undersample['normalized_amount'] = StandardScaler().fit_transform(df_random_undersample['Amount'].values.reshape(-1,1))\n",
    "df_random_undersample = df_random_undersample.drop(['Amount','Time'], axis=1)\n",
    "X_random_under = df_random_undersample.loc[:,df_random_undersample.columns != 'Class']\n",
    "y_random_under = df_random_undersample.loc[:,df_random_undersample.columns == 'Class']\n",
    "X_under_train, X_under_test, y_under_train, y_under_test = train_test_split(X_random_under,y_random_under,test_size = 0.3, random_state = 0)\n",
    "\n",
    "lr = LogisticRegression()\n",
    "lr.fit(X_under_train,y_under_train)\n",
    "y_pred = lr.predict(X_under_test)\n",
    "tn, fp, fn, tp = confusion_matrix(y_under_test, y_pred).ravel()\n",
    "print(\"Sensitivity/Recall is:\",tp/(tp+fn))\n",
    "print(\"Specificity is:\",tn/(tn+fp))"
   ]
  },
  {
   "cell_type": "markdown",
   "metadata": {},
   "source": [
    "Using random undersampling,we can increase sensitivity.But random undersampling will cause the loss of information.\n",
    "But we can do undersampling based on clusters. In this way, we can extract a specific number of cluster centroid, which represent characteristics of each cluster to prevent information loss.\n",
    "2. Cluster based Undersampling"
   ]
  },
  {
   "cell_type": "code",
   "execution_count": 18,
   "metadata": {},
   "outputs": [
    {
     "name": "stdout",
     "output_type": "stream",
     "text": [
      "Checking whether there is an H2O instance running at http://localhost:54321..... not found.\n",
      "Attempting to start a local H2O server...\n",
      "; Java HotSpot(TM) 64-Bit Server VM (build 25.171-b11, mixed mode)\n",
      "  Starting server from C:\\Users\\Tiffany Xu\\Anaconda3\\lib\\site-packages\\h2o\\backend\\bin\\h2o.jar\n",
      "  Ice root: C:\\Users\\TIFFAN~1\\AppData\\Local\\Temp\\tmpisqnjf8x\n",
      "  JVM stdout: C:\\Users\\TIFFAN~1\\AppData\\Local\\Temp\\tmpisqnjf8x\\h2o_Tiffany_Xu_started_from_python.out\n",
      "  JVM stderr: C:\\Users\\TIFFAN~1\\AppData\\Local\\Temp\\tmpisqnjf8x\\h2o_Tiffany_Xu_started_from_python.err\n",
      "  Server is running at http://127.0.0.1:54321\n",
      "Connecting to H2O server at http://127.0.0.1:54321... successful.\n"
     ]
    },
    {
     "data": {
      "text/html": [
       "<div style=\"overflow:auto\"><table style=\"width:50%\"><tr><td>H2O cluster uptime:</td>\n",
       "<td>06 secs</td></tr>\n",
       "<tr><td>H2O cluster timezone:</td>\n",
       "<td>America/New_York</td></tr>\n",
       "<tr><td>H2O data parsing timezone:</td>\n",
       "<td>UTC</td></tr>\n",
       "<tr><td>H2O cluster version:</td>\n",
       "<td>3.20.0.2</td></tr>\n",
       "<tr><td>H2O cluster version age:</td>\n",
       "<td>2 months and 29 days </td></tr>\n",
       "<tr><td>H2O cluster name:</td>\n",
       "<td>H2O_from_python_Tiffany_Xu_ltvohf</td></tr>\n",
       "<tr><td>H2O cluster total nodes:</td>\n",
       "<td>1</td></tr>\n",
       "<tr><td>H2O cluster free memory:</td>\n",
       "<td>3.492 Gb</td></tr>\n",
       "<tr><td>H2O cluster total cores:</td>\n",
       "<td>4</td></tr>\n",
       "<tr><td>H2O cluster allowed cores:</td>\n",
       "<td>4</td></tr>\n",
       "<tr><td>H2O cluster status:</td>\n",
       "<td>accepting new members, healthy</td></tr>\n",
       "<tr><td>H2O connection url:</td>\n",
       "<td>http://127.0.0.1:54321</td></tr>\n",
       "<tr><td>H2O connection proxy:</td>\n",
       "<td>None</td></tr>\n",
       "<tr><td>H2O internal security:</td>\n",
       "<td>False</td></tr>\n",
       "<tr><td>H2O API Extensions:</td>\n",
       "<td>Algos, AutoML, Core V3, Core V4</td></tr>\n",
       "<tr><td>Python version:</td>\n",
       "<td>3.6.5 final</td></tr></table></div>"
      ],
      "text/plain": [
       "--------------------------  ---------------------------------\n",
       "H2O cluster uptime:         06 secs\n",
       "H2O cluster timezone:       America/New_York\n",
       "H2O data parsing timezone:  UTC\n",
       "H2O cluster version:        3.20.0.2\n",
       "H2O cluster version age:    2 months and 29 days\n",
       "H2O cluster name:           H2O_from_python_Tiffany_Xu_ltvohf\n",
       "H2O cluster total nodes:    1\n",
       "H2O cluster free memory:    3.492 Gb\n",
       "H2O cluster total cores:    4\n",
       "H2O cluster allowed cores:  4\n",
       "H2O cluster status:         accepting new members, healthy\n",
       "H2O connection url:         http://127.0.0.1:54321\n",
       "H2O connection proxy:\n",
       "H2O internal security:      False\n",
       "H2O API Extensions:         Algos, AutoML, Core V3, Core V4\n",
       "Python version:             3.6.5 final\n",
       "--------------------------  ---------------------------------"
      ]
     },
     "metadata": {},
     "output_type": "display_data"
    }
   ],
   "source": [
    "import h2o\n",
    "h2o.init()\n",
    "import imp\n",
    "from h2o.estimators.kmeans import H2OKMeansEstimator"
   ]
  },
  {
   "cell_type": "code",
   "execution_count": 30,
   "metadata": {},
   "outputs": [
    {
     "name": "stderr",
     "output_type": "stream",
     "text": [
      "C:\\Users\\Tiffany Xu\\Anaconda3\\lib\\site-packages\\h2o\\utils\\shared_utils.py:177: FutureWarning: Method .as_matrix will be removed in a future version. Use .values instead.\n",
      "  data = _handle_python_lists(python_obj.as_matrix().tolist(), -1)[1]\n"
     ]
    },
    {
     "name": "stdout",
     "output_type": "stream",
     "text": [
      "Parse progress: |█████████████████████████████████████████████████████████| 100%\n"
     ]
    }
   ],
   "source": [
    "df_kmeans_notfraud = df_notfraud.drop(['Time','Class'], axis=1)\n",
    "hf = h2o.H2OFrame(df_kmeans_notfraud)"
   ]
  },
  {
   "cell_type": "code",
   "execution_count": 31,
   "metadata": {},
   "outputs": [
    {
     "name": "stdout",
     "output_type": "stream",
     "text": [
      "kmeans Model Build progress: |████████████████████████████████████████████| 100%\n"
     ]
    }
   ],
   "source": [
    "cls = H2OKMeansEstimator(k=len(df_fraud), standardize=True)\n",
    "cls.train(x=hf.columns, training_frame=hf)"
   ]
  },
  {
   "cell_type": "code",
   "execution_count": 33,
   "metadata": {},
   "outputs": [],
   "source": [
    "df_centers = pd.DataFrame(cls.centers())\n",
    "df_centers.columns = hf.columns"
   ]
  },
  {
   "cell_type": "code",
   "execution_count": 34,
   "metadata": {},
   "outputs": [
    {
     "data": {
      "text/html": [
       "<div>\n",
       "<style scoped>\n",
       "    .dataframe tbody tr th:only-of-type {\n",
       "        vertical-align: middle;\n",
       "    }\n",
       "\n",
       "    .dataframe tbody tr th {\n",
       "        vertical-align: top;\n",
       "    }\n",
       "\n",
       "    .dataframe thead th {\n",
       "        text-align: right;\n",
       "    }\n",
       "</style>\n",
       "<table border=\"1\" class=\"dataframe\">\n",
       "  <thead>\n",
       "    <tr style=\"text-align: right;\">\n",
       "      <th></th>\n",
       "      <th>V1</th>\n",
       "      <th>V2</th>\n",
       "      <th>V3</th>\n",
       "      <th>V4</th>\n",
       "      <th>V5</th>\n",
       "      <th>V6</th>\n",
       "      <th>V7</th>\n",
       "      <th>V8</th>\n",
       "      <th>V9</th>\n",
       "      <th>V10</th>\n",
       "      <th>...</th>\n",
       "      <th>V20</th>\n",
       "      <th>V21</th>\n",
       "      <th>V22</th>\n",
       "      <th>V23</th>\n",
       "      <th>V24</th>\n",
       "      <th>V25</th>\n",
       "      <th>V26</th>\n",
       "      <th>V27</th>\n",
       "      <th>V28</th>\n",
       "      <th>Amount</th>\n",
       "    </tr>\n",
       "  </thead>\n",
       "  <tbody>\n",
       "    <tr>\n",
       "      <th>0</th>\n",
       "      <td>1.419490</td>\n",
       "      <td>0.017010</td>\n",
       "      <td>-0.070688</td>\n",
       "      <td>0.401104</td>\n",
       "      <td>-0.302427</td>\n",
       "      <td>-0.741899</td>\n",
       "      <td>0.031414</td>\n",
       "      <td>-0.122099</td>\n",
       "      <td>0.143667</td>\n",
       "      <td>-0.034498</td>\n",
       "      <td>...</td>\n",
       "      <td>-0.094188</td>\n",
       "      <td>-0.219809</td>\n",
       "      <td>-0.661218</td>\n",
       "      <td>0.157199</td>\n",
       "      <td>0.125153</td>\n",
       "      <td>0.035201</td>\n",
       "      <td>0.271488</td>\n",
       "      <td>-0.052461</td>\n",
       "      <td>-0.006771</td>\n",
       "      <td>24.972286</td>\n",
       "    </tr>\n",
       "    <tr>\n",
       "      <th>1</th>\n",
       "      <td>-35.548539</td>\n",
       "      <td>-31.850484</td>\n",
       "      <td>-48.325589</td>\n",
       "      <td>15.304184</td>\n",
       "      <td>-113.743307</td>\n",
       "      <td>73.301626</td>\n",
       "      <td>120.589494</td>\n",
       "      <td>-27.347360</td>\n",
       "      <td>-3.872425</td>\n",
       "      <td>-12.005487</td>\n",
       "      <td>...</td>\n",
       "      <td>-54.497720</td>\n",
       "      <td>-21.620120</td>\n",
       "      <td>5.712303</td>\n",
       "      <td>-1.581098</td>\n",
       "      <td>4.584549</td>\n",
       "      <td>4.554683</td>\n",
       "      <td>3.415636</td>\n",
       "      <td>31.612198</td>\n",
       "      <td>-15.430084</td>\n",
       "      <td>25691.160000</td>\n",
       "    </tr>\n",
       "    <tr>\n",
       "      <th>2</th>\n",
       "      <td>-56.407510</td>\n",
       "      <td>-72.715728</td>\n",
       "      <td>-6.605265</td>\n",
       "      <td>16.491217</td>\n",
       "      <td>34.801666</td>\n",
       "      <td>-26.160506</td>\n",
       "      <td>-19.399981</td>\n",
       "      <td>-1.501300</td>\n",
       "      <td>6.967698</td>\n",
       "      <td>9.537780</td>\n",
       "      <td>...</td>\n",
       "      <td>-12.360962</td>\n",
       "      <td>-6.266878</td>\n",
       "      <td>-1.272167</td>\n",
       "      <td>7.893082</td>\n",
       "      <td>0.767805</td>\n",
       "      <td>5.376595</td>\n",
       "      <td>0.163672</td>\n",
       "      <td>-8.358317</td>\n",
       "      <td>33.847808</td>\n",
       "      <td>1201.830000</td>\n",
       "    </tr>\n",
       "    <tr>\n",
       "      <th>3</th>\n",
       "      <td>-36.802320</td>\n",
       "      <td>-63.344698</td>\n",
       "      <td>-20.645794</td>\n",
       "      <td>16.715537</td>\n",
       "      <td>-20.672064</td>\n",
       "      <td>7.694002</td>\n",
       "      <td>24.956587</td>\n",
       "      <td>-4.730111</td>\n",
       "      <td>-2.687312</td>\n",
       "      <td>-8.423404</td>\n",
       "      <td>...</td>\n",
       "      <td>39.420904</td>\n",
       "      <td>11.455313</td>\n",
       "      <td>-10.933144</td>\n",
       "      <td>-17.173665</td>\n",
       "      <td>1.180700</td>\n",
       "      <td>-7.025783</td>\n",
       "      <td>-2.534330</td>\n",
       "      <td>-3.602479</td>\n",
       "      <td>3.450224</td>\n",
       "      <td>19656.530000</td>\n",
       "    </tr>\n",
       "    <tr>\n",
       "      <th>4</th>\n",
       "      <td>-14.904340</td>\n",
       "      <td>12.793880</td>\n",
       "      <td>-7.888739</td>\n",
       "      <td>0.512373</td>\n",
       "      <td>-7.661829</td>\n",
       "      <td>16.614054</td>\n",
       "      <td>-31.764946</td>\n",
       "      <td>-73.216718</td>\n",
       "      <td>-6.290730</td>\n",
       "      <td>-14.741096</td>\n",
       "      <td>...</td>\n",
       "      <td>16.756448</td>\n",
       "      <td>-34.830382</td>\n",
       "      <td>10.503090</td>\n",
       "      <td>4.245073</td>\n",
       "      <td>-1.412813</td>\n",
       "      <td>-0.730374</td>\n",
       "      <td>0.133557</td>\n",
       "      <td>-0.394370</td>\n",
       "      <td>0.942177</td>\n",
       "      <td>500.000000</td>\n",
       "    </tr>\n",
       "  </tbody>\n",
       "</table>\n",
       "<p>5 rows × 29 columns</p>\n",
       "</div>"
      ],
      "text/plain": [
       "          V1         V2         V3         V4          V5         V6  \\\n",
       "0   1.419490   0.017010  -0.070688   0.401104   -0.302427  -0.741899   \n",
       "1 -35.548539 -31.850484 -48.325589  15.304184 -113.743307  73.301626   \n",
       "2 -56.407510 -72.715728  -6.605265  16.491217   34.801666 -26.160506   \n",
       "3 -36.802320 -63.344698 -20.645794  16.715537  -20.672064   7.694002   \n",
       "4 -14.904340  12.793880  -7.888739   0.512373   -7.661829  16.614054   \n",
       "\n",
       "           V7         V8        V9        V10      ...             V20  \\\n",
       "0    0.031414  -0.122099  0.143667  -0.034498      ...       -0.094188   \n",
       "1  120.589494 -27.347360 -3.872425 -12.005487      ...      -54.497720   \n",
       "2  -19.399981  -1.501300  6.967698   9.537780      ...      -12.360962   \n",
       "3   24.956587  -4.730111 -2.687312  -8.423404      ...       39.420904   \n",
       "4  -31.764946 -73.216718 -6.290730 -14.741096      ...       16.756448   \n",
       "\n",
       "         V21        V22        V23       V24       V25       V26        V27  \\\n",
       "0  -0.219809  -0.661218   0.157199  0.125153  0.035201  0.271488  -0.052461   \n",
       "1 -21.620120   5.712303  -1.581098  4.584549  4.554683  3.415636  31.612198   \n",
       "2  -6.266878  -1.272167   7.893082  0.767805  5.376595  0.163672  -8.358317   \n",
       "3  11.455313 -10.933144 -17.173665  1.180700 -7.025783 -2.534330  -3.602479   \n",
       "4 -34.830382  10.503090   4.245073 -1.412813 -0.730374  0.133557  -0.394370   \n",
       "\n",
       "         V28        Amount  \n",
       "0  -0.006771     24.972286  \n",
       "1 -15.430084  25691.160000  \n",
       "2  33.847808   1201.830000  \n",
       "3   3.450224  19656.530000  \n",
       "4   0.942177    500.000000  \n",
       "\n",
       "[5 rows x 29 columns]"
      ]
     },
     "execution_count": 34,
     "metadata": {},
     "output_type": "execute_result"
    }
   ],
   "source": [
    "df_centers.head()"
   ]
  },
  {
   "cell_type": "code",
   "execution_count": null,
   "metadata": {},
   "outputs": [],
   "source": []
  }
 ],
 "metadata": {
  "kernelspec": {
   "display_name": "Python 3",
   "language": "python",
   "name": "python3"
  },
  "language_info": {
   "codemirror_mode": {
    "name": "ipython",
    "version": 3
   },
   "file_extension": ".py",
   "mimetype": "text/x-python",
   "name": "python",
   "nbconvert_exporter": "python",
   "pygments_lexer": "ipython3",
   "version": "3.6.5"
  }
 },
 "nbformat": 4,
 "nbformat_minor": 2
}
