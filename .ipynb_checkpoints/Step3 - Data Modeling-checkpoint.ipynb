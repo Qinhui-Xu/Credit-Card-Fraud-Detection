{
 "cells": [
  {
   "cell_type": "markdown",
   "metadata": {},
   "source": [
    "### Qinhui Xu 09/19/2018\n",
    "\n",
    "#### Data Source: https://www.kaggle.com/mlg-ulb/creditcardfraud"
   ]
  },
  {
   "cell_type": "markdown",
   "metadata": {},
   "source": [
    "As I mentioned in dealing with imbalance step shows, I will prepare two dataset - one come from cluster based undersampling - the other one come from only SMOTE method.\n",
    "\n",
    "I will use following different models to make predictions:\n",
    "\n",
    "1. Logistic Regression\n",
    "2. Gradient Boosting Machine\n",
    "3. Random Forest Model\n",
    "4. XGBoost\n",
    "5. Neural Network"
   ]
  },
  {
   "cell_type": "markdown",
   "metadata": {},
   "source": [
    "#### Data Preprocessing"
   ]
  },
  {
   "cell_type": "markdown",
   "metadata": {},
   "source": [
    "- Feature Engineering"
   ]
  },
  {
   "cell_type": "code",
   "execution_count": 1,
   "metadata": {},
   "outputs": [
    {
     "name": "stderr",
     "output_type": "stream",
     "text": [
      "C:\\Users\\Tiffany Xu\\Anaconda3\\lib\\site-packages\\sklearn\\cross_validation.py:41: DeprecationWarning: This module was deprecated in version 0.18 in favor of the model_selection module into which all the refactored classes and functions are moved. Also note that the interface of the new CV iterators are different from that of this module. This module will be removed in 0.20.\n",
      "  \"This module will be removed in 0.20.\", DeprecationWarning)\n"
     ]
    }
   ],
   "source": [
    "import pandas as pd\n",
    "import numpy as np\n",
    "import matplotlib.pyplot as plt\n",
    "import seaborn as sns\n",
    "import warnings\n",
    "warnings.filterwarnings(\"ignore\")\n",
    "%matplotlib inline\n",
    "\n",
    "from sklearn.preprocessing import StandardScaler\n",
    "from sklearn.cross_validation import train_test_split\n",
    "from sklearn.linear_model import LogisticRegression\n",
    "from sklearn.metrics import recall_score,accuracy_score\n",
    "from sklearn.metrics import confusion_matrix"
   ]
  },
  {
   "cell_type": "code",
   "execution_count": 2,
   "metadata": {},
   "outputs": [],
   "source": [
    "# Data Preprocessing based on Data Exploration / Feature Engineering\n",
    "df = pd.read_csv(\"C:/Users/Tiffany Xu/Documents/MachineLearningStudy/DeepLearning/creditcard.csv\")\n",
    "\n",
    "df['V1_'] = df.V1.map(lambda x: 1 if x < -3 else 0)\n",
    "df['V2_'] = df.V2.map(lambda x: 1 if x > 2.5 else 0)\n",
    "df['V3_'] = df.V3.map(lambda x: 1 if x < -4 else 0)\n",
    "df['V4_'] = df.V4.map(lambda x: 1 if x > 2.5 else 0)\n",
    "df['V5_'] = df.V5.map(lambda x: 1 if x < -4.5 else 0)\n",
    "df['V6_'] = df.V6.map(lambda x: 1 if x < -2.5 else 0)\n",
    "df['V7_'] = df.V7.map(lambda x: 1 if x < -3 else 0)\n",
    "df['V9_'] = df.V9.map(lambda x: 1 if x < -2 else 0)\n",
    "df['V10_'] = df.V10.map(lambda x: 1 if x < -2.5 else 0)\n",
    "df['V11_'] = df.V11.map(lambda x: 1 if x > 2 else 0)\n",
    "df['V12_'] = df.V12.map(lambda x: 1 if x < -2 else 0)\n",
    "df['V14_'] = df.V14.map(lambda x: 1 if x < -2.5 else 0)\n",
    "df['V16_'] = df.V16.map(lambda x: 1 if x < -2 else 0)\n",
    "df['V17_'] = df.V17.map(lambda x: 1 if x < -2 else 0)\n",
    "df['V18_'] = df.V18.map(lambda x: 1 if x < -2 else 0)\n",
    "df['V19_'] = df.V19.map(lambda x: 1 if x > 1.5 else 0)\n",
    "df['V21_'] = df.V21.map(lambda x: 1 if x > 0.6 else 0)\n",
    "\n",
    "df['normalized_amount'] = StandardScaler().fit_transform(df['Amount'].values.reshape(-1,1))\n",
    "df = df.drop(['Amount','Time'], axis=1)\n",
    "\n",
    "df_nn = df\n",
    "df = df.drop(['V28','V27','V26','V25','V24','V23','V22','V20','V15','V13','V8'], axis =1)"
   ]
  },
  {
   "cell_type": "markdown",
   "metadata": {},
   "source": [
    "- Cluster Based on Undersampling"
   ]
  },
  {
   "cell_type": "code",
   "execution_count": 3,
   "metadata": {},
   "outputs": [
    {
     "name": "stdout",
     "output_type": "stream",
     "text": [
      "Checking whether there is an H2O instance running at http://localhost:54321..... not found.\n",
      "Attempting to start a local H2O server...\n",
      "; Java HotSpot(TM) 64-Bit Server VM (build 25.171-b11, mixed mode)\n",
      "  Starting server from C:\\Users\\Tiffany Xu\\Anaconda3\\lib\\site-packages\\h2o\\backend\\bin\\h2o.jar\n",
      "  Ice root: C:\\Users\\TIFFAN~1\\AppData\\Local\\Temp\\tmpc22jfn45\n",
      "  JVM stdout: C:\\Users\\TIFFAN~1\\AppData\\Local\\Temp\\tmpc22jfn45\\h2o_Tiffany_Xu_started_from_python.out\n",
      "  JVM stderr: C:\\Users\\TIFFAN~1\\AppData\\Local\\Temp\\tmpc22jfn45\\h2o_Tiffany_Xu_started_from_python.err\n",
      "  Server is running at http://127.0.0.1:54321\n",
      "Connecting to H2O server at http://127.0.0.1:54321... successful.\n"
     ]
    },
    {
     "data": {
      "text/html": [
       "<div style=\"overflow:auto\"><table style=\"width:50%\"><tr><td>H2O cluster uptime:</td>\n",
       "<td>06 secs</td></tr>\n",
       "<tr><td>H2O cluster timezone:</td>\n",
       "<td>America/New_York</td></tr>\n",
       "<tr><td>H2O data parsing timezone:</td>\n",
       "<td>UTC</td></tr>\n",
       "<tr><td>H2O cluster version:</td>\n",
       "<td>3.20.0.2</td></tr>\n",
       "<tr><td>H2O cluster version age:</td>\n",
       "<td>3 months and 4 days </td></tr>\n",
       "<tr><td>H2O cluster name:</td>\n",
       "<td>H2O_from_python_Tiffany_Xu_mvrztd</td></tr>\n",
       "<tr><td>H2O cluster total nodes:</td>\n",
       "<td>1</td></tr>\n",
       "<tr><td>H2O cluster free memory:</td>\n",
       "<td>3.492 Gb</td></tr>\n",
       "<tr><td>H2O cluster total cores:</td>\n",
       "<td>4</td></tr>\n",
       "<tr><td>H2O cluster allowed cores:</td>\n",
       "<td>4</td></tr>\n",
       "<tr><td>H2O cluster status:</td>\n",
       "<td>accepting new members, healthy</td></tr>\n",
       "<tr><td>H2O connection url:</td>\n",
       "<td>http://127.0.0.1:54321</td></tr>\n",
       "<tr><td>H2O connection proxy:</td>\n",
       "<td>None</td></tr>\n",
       "<tr><td>H2O internal security:</td>\n",
       "<td>False</td></tr>\n",
       "<tr><td>H2O API Extensions:</td>\n",
       "<td>Algos, AutoML, Core V3, Core V4</td></tr>\n",
       "<tr><td>Python version:</td>\n",
       "<td>3.6.5 final</td></tr></table></div>"
      ],
      "text/plain": [
       "--------------------------  ---------------------------------\n",
       "H2O cluster uptime:         06 secs\n",
       "H2O cluster timezone:       America/New_York\n",
       "H2O data parsing timezone:  UTC\n",
       "H2O cluster version:        3.20.0.2\n",
       "H2O cluster version age:    3 months and 4 days\n",
       "H2O cluster name:           H2O_from_python_Tiffany_Xu_mvrztd\n",
       "H2O cluster total nodes:    1\n",
       "H2O cluster free memory:    3.492 Gb\n",
       "H2O cluster total cores:    4\n",
       "H2O cluster allowed cores:  4\n",
       "H2O cluster status:         accepting new members, healthy\n",
       "H2O connection url:         http://127.0.0.1:54321\n",
       "H2O connection proxy:\n",
       "H2O internal security:      False\n",
       "H2O API Extensions:         Algos, AutoML, Core V3, Core V4\n",
       "Python version:             3.6.5 final\n",
       "--------------------------  ---------------------------------"
      ]
     },
     "metadata": {},
     "output_type": "display_data"
    },
    {
     "name": "stdout",
     "output_type": "stream",
     "text": [
      "Parse progress: |█████████████████████████████████████████████████████████| 100%\n",
      "kmeans Model Build progress: |████████████████████████████████████████████| 100%\n"
     ]
    }
   ],
   "source": [
    "##### K-mean Cluster Based on Undersampling\n",
    "import h2o\n",
    "h2o.init()\n",
    "import imp\n",
    "from h2o.estimators.kmeans import H2OKMeansEstimator\n",
    "\n",
    "df_notfraud = df[df[\"Class\"]==0]\n",
    "df_fraud = df[df[\"Class\"]==1]\n",
    "\n",
    "df_kmeans_notfraud = df_notfraud.drop(['Class'], axis=1)\n",
    "hf = h2o.H2OFrame(df_kmeans_notfraud)\n",
    "cls = H2OKMeansEstimator(k=len(df_fraud), standardize=True)\n",
    "cls.train(x=hf.columns, training_frame=hf)\n",
    "\n",
    "df_centers = pd.DataFrame(cls.centers())\n",
    "df_centers.columns = hf.columns\n",
    "df_centers[\"Class\"] = 0\n",
    "df_kmeans_undersample = pd.concat([df_centers,df_fraud],axis=0)\n",
    "\n",
    "X_Kmeans_under = df_kmeans_undersample.loc[:,df_kmeans_undersample.columns != 'Class']\n",
    "y_Kmeans_under = df_kmeans_undersample.loc[:,df_kmeans_undersample.columns == 'Class']"
   ]
  },
  {
   "cell_type": "code",
   "execution_count": 4,
   "metadata": {},
   "outputs": [],
   "source": [
    "df_X_Kmenas = pd.DataFrame(X_Kmeans_under,columns = df_kmeans_notfraud.columns)\n",
    "df_Y_Kmenas = pd.DataFrame(y_Kmeans_under,columns = [\"Class\"])\n",
    "df_Kmeans = pd.concat([df_X_Kmenas,df_Y_Kmenas],axis=1)"
   ]
  },
  {
   "cell_type": "code",
   "execution_count": 5,
   "metadata": {
    "scrolled": true
   },
   "outputs": [
    {
     "data": {
      "text/html": [
       "<div>\n",
       "<style scoped>\n",
       "    .dataframe tbody tr th:only-of-type {\n",
       "        vertical-align: middle;\n",
       "    }\n",
       "\n",
       "    .dataframe tbody tr th {\n",
       "        vertical-align: top;\n",
       "    }\n",
       "\n",
       "    .dataframe thead th {\n",
       "        text-align: right;\n",
       "    }\n",
       "</style>\n",
       "<table border=\"1\" class=\"dataframe\">\n",
       "  <thead>\n",
       "    <tr style=\"text-align: right;\">\n",
       "      <th></th>\n",
       "      <th>V1</th>\n",
       "      <th>V2</th>\n",
       "      <th>V3</th>\n",
       "      <th>V4</th>\n",
       "      <th>V5</th>\n",
       "      <th>V6</th>\n",
       "      <th>V7</th>\n",
       "      <th>V9</th>\n",
       "      <th>V10</th>\n",
       "      <th>V11</th>\n",
       "      <th>...</th>\n",
       "      <th>V11_</th>\n",
       "      <th>V12_</th>\n",
       "      <th>V14_</th>\n",
       "      <th>V16_</th>\n",
       "      <th>V17_</th>\n",
       "      <th>V18_</th>\n",
       "      <th>V19_</th>\n",
       "      <th>V21_</th>\n",
       "      <th>normalized_amount</th>\n",
       "      <th>Class</th>\n",
       "    </tr>\n",
       "  </thead>\n",
       "  <tbody>\n",
       "    <tr>\n",
       "      <th>0</th>\n",
       "      <td>-0.727143</td>\n",
       "      <td>0.723674</td>\n",
       "      <td>0.562859</td>\n",
       "      <td>-0.306942</td>\n",
       "      <td>0.588354</td>\n",
       "      <td>0.002418</td>\n",
       "      <td>0.448408</td>\n",
       "      <td>-0.263796</td>\n",
       "      <td>-0.451045</td>\n",
       "      <td>-0.254869</td>\n",
       "      <td>...</td>\n",
       "      <td>-1.318390e-16</td>\n",
       "      <td>4.996004e-16</td>\n",
       "      <td>-1.526557e-16</td>\n",
       "      <td>4.649059e-16</td>\n",
       "      <td>-3.382711e-17</td>\n",
       "      <td>3.764350e-16</td>\n",
       "      <td>-5.134781e-16</td>\n",
       "      <td>8.326673e-16</td>\n",
       "      <td>-0.223390</td>\n",
       "      <td>0</td>\n",
       "    </tr>\n",
       "    <tr>\n",
       "      <th>1</th>\n",
       "      <td>-35.548539</td>\n",
       "      <td>-31.850484</td>\n",
       "      <td>-48.325589</td>\n",
       "      <td>15.304184</td>\n",
       "      <td>-113.743307</td>\n",
       "      <td>73.301626</td>\n",
       "      <td>120.589494</td>\n",
       "      <td>-3.872425</td>\n",
       "      <td>-12.005487</td>\n",
       "      <td>6.853897</td>\n",
       "      <td>...</td>\n",
       "      <td>1.000000e+00</td>\n",
       "      <td>1.000000e+00</td>\n",
       "      <td>1.000000e+00</td>\n",
       "      <td>0.000000e+00</td>\n",
       "      <td>1.000000e+00</td>\n",
       "      <td>0.000000e+00</td>\n",
       "      <td>1.000000e+00</td>\n",
       "      <td>0.000000e+00</td>\n",
       "      <td>102.362243</td>\n",
       "      <td>0</td>\n",
       "    </tr>\n",
       "    <tr>\n",
       "      <th>2</th>\n",
       "      <td>-36.802320</td>\n",
       "      <td>-63.344698</td>\n",
       "      <td>-20.645794</td>\n",
       "      <td>16.715537</td>\n",
       "      <td>-20.672064</td>\n",
       "      <td>7.694002</td>\n",
       "      <td>24.956587</td>\n",
       "      <td>-2.687312</td>\n",
       "      <td>-8.423404</td>\n",
       "      <td>1.186360</td>\n",
       "      <td>...</td>\n",
       "      <td>0.000000e+00</td>\n",
       "      <td>0.000000e+00</td>\n",
       "      <td>0.000000e+00</td>\n",
       "      <td>0.000000e+00</td>\n",
       "      <td>0.000000e+00</td>\n",
       "      <td>0.000000e+00</td>\n",
       "      <td>0.000000e+00</td>\n",
       "      <td>1.000000e+00</td>\n",
       "      <td>78.235272</td>\n",
       "      <td>0</td>\n",
       "    </tr>\n",
       "    <tr>\n",
       "      <th>3</th>\n",
       "      <td>-56.407510</td>\n",
       "      <td>-72.715728</td>\n",
       "      <td>-6.605265</td>\n",
       "      <td>16.491217</td>\n",
       "      <td>34.801666</td>\n",
       "      <td>-26.160506</td>\n",
       "      <td>-19.399981</td>\n",
       "      <td>6.967698</td>\n",
       "      <td>9.537780</td>\n",
       "      <td>3.089395</td>\n",
       "      <td>...</td>\n",
       "      <td>1.000000e+00</td>\n",
       "      <td>0.000000e+00</td>\n",
       "      <td>1.000000e+00</td>\n",
       "      <td>0.000000e+00</td>\n",
       "      <td>0.000000e+00</td>\n",
       "      <td>0.000000e+00</td>\n",
       "      <td>1.000000e+00</td>\n",
       "      <td>0.000000e+00</td>\n",
       "      <td>4.451791</td>\n",
       "      <td>0</td>\n",
       "    </tr>\n",
       "    <tr>\n",
       "      <th>4</th>\n",
       "      <td>-14.904340</td>\n",
       "      <td>12.793880</td>\n",
       "      <td>-7.888739</td>\n",
       "      <td>0.512373</td>\n",
       "      <td>-7.661829</td>\n",
       "      <td>16.614054</td>\n",
       "      <td>-31.764946</td>\n",
       "      <td>-6.290730</td>\n",
       "      <td>-14.741096</td>\n",
       "      <td>-3.038237</td>\n",
       "      <td>...</td>\n",
       "      <td>0.000000e+00</td>\n",
       "      <td>0.000000e+00</td>\n",
       "      <td>0.000000e+00</td>\n",
       "      <td>0.000000e+00</td>\n",
       "      <td>0.000000e+00</td>\n",
       "      <td>0.000000e+00</td>\n",
       "      <td>0.000000e+00</td>\n",
       "      <td>0.000000e+00</td>\n",
       "      <td>1.645814</td>\n",
       "      <td>0</td>\n",
       "    </tr>\n",
       "  </tbody>\n",
       "</table>\n",
       "<p>5 rows × 36 columns</p>\n",
       "</div>"
      ],
      "text/plain": [
       "          V1         V2         V3         V4          V5         V6  \\\n",
       "0  -0.727143   0.723674   0.562859  -0.306942    0.588354   0.002418   \n",
       "1 -35.548539 -31.850484 -48.325589  15.304184 -113.743307  73.301626   \n",
       "2 -36.802320 -63.344698 -20.645794  16.715537  -20.672064   7.694002   \n",
       "3 -56.407510 -72.715728  -6.605265  16.491217   34.801666 -26.160506   \n",
       "4 -14.904340  12.793880  -7.888739   0.512373   -7.661829  16.614054   \n",
       "\n",
       "           V7        V9        V10       V11  ...            V11_  \\\n",
       "0    0.448408 -0.263796  -0.451045 -0.254869  ...   -1.318390e-16   \n",
       "1  120.589494 -3.872425 -12.005487  6.853897  ...    1.000000e+00   \n",
       "2   24.956587 -2.687312  -8.423404  1.186360  ...    0.000000e+00   \n",
       "3  -19.399981  6.967698   9.537780  3.089395  ...    1.000000e+00   \n",
       "4  -31.764946 -6.290730 -14.741096 -3.038237  ...    0.000000e+00   \n",
       "\n",
       "           V12_          V14_          V16_          V17_          V18_  \\\n",
       "0  4.996004e-16 -1.526557e-16  4.649059e-16 -3.382711e-17  3.764350e-16   \n",
       "1  1.000000e+00  1.000000e+00  0.000000e+00  1.000000e+00  0.000000e+00   \n",
       "2  0.000000e+00  0.000000e+00  0.000000e+00  0.000000e+00  0.000000e+00   \n",
       "3  0.000000e+00  1.000000e+00  0.000000e+00  0.000000e+00  0.000000e+00   \n",
       "4  0.000000e+00  0.000000e+00  0.000000e+00  0.000000e+00  0.000000e+00   \n",
       "\n",
       "           V19_          V21_  normalized_amount  Class  \n",
       "0 -5.134781e-16  8.326673e-16          -0.223390      0  \n",
       "1  1.000000e+00  0.000000e+00         102.362243      0  \n",
       "2  0.000000e+00  1.000000e+00          78.235272      0  \n",
       "3  1.000000e+00  0.000000e+00           4.451791      0  \n",
       "4  0.000000e+00  0.000000e+00           1.645814      0  \n",
       "\n",
       "[5 rows x 36 columns]"
      ]
     },
     "execution_count": 5,
     "metadata": {},
     "output_type": "execute_result"
    }
   ],
   "source": [
    "df_Kmeans.head()"
   ]
  },
  {
   "cell_type": "markdown",
   "metadata": {},
   "source": [
    "- SMOTE: Oversampling"
   ]
  },
  {
   "cell_type": "code",
   "execution_count": 6,
   "metadata": {},
   "outputs": [
    {
     "name": "stderr",
     "output_type": "stream",
     "text": [
      "C:\\Users\\Tiffany Xu\\Anaconda3\\lib\\site-packages\\sklearn\\utils\\deprecation.py:77: DeprecationWarning: Function _ratio_float is deprecated; Use a float for 'ratio' is deprecated from version 0.2. The support will be removed in 0.4. Use a dict, str, or a callable instead.\n",
      "  warnings.warn(msg, category=DeprecationWarning)\n"
     ]
    }
   ],
   "source": [
    "##### SMOTE\n",
    "from imblearn.over_sampling import SMOTE\n",
    "\n",
    "df_features = df.drop(['Class'], axis=1)\n",
    "df_target = df[\"Class\"]\n",
    "\n",
    "sm = SMOTE(random_state=12, ratio=1.0)\n",
    "x_res,y_res = sm.fit_sample(df_features,df_target)"
   ]
  },
  {
   "cell_type": "code",
   "execution_count": 7,
   "metadata": {},
   "outputs": [],
   "source": [
    "df_X_SMOTE = pd.DataFrame(x_res,columns = df_kmeans_notfraud.columns)\n",
    "df_Y_SMOTE = pd.DataFrame(y_res,columns = [\"Class\"])\n",
    "df_SMOTE = pd.concat([df_X_SMOTE,df_Y_SMOTE],axis=1)"
   ]
  },
  {
   "cell_type": "code",
   "execution_count": 8,
   "metadata": {
    "scrolled": true
   },
   "outputs": [
    {
     "data": {
      "text/html": [
       "<div>\n",
       "<style scoped>\n",
       "    .dataframe tbody tr th:only-of-type {\n",
       "        vertical-align: middle;\n",
       "    }\n",
       "\n",
       "    .dataframe tbody tr th {\n",
       "        vertical-align: top;\n",
       "    }\n",
       "\n",
       "    .dataframe thead th {\n",
       "        text-align: right;\n",
       "    }\n",
       "</style>\n",
       "<table border=\"1\" class=\"dataframe\">\n",
       "  <thead>\n",
       "    <tr style=\"text-align: right;\">\n",
       "      <th></th>\n",
       "      <th>V1</th>\n",
       "      <th>V2</th>\n",
       "      <th>V3</th>\n",
       "      <th>V4</th>\n",
       "      <th>V5</th>\n",
       "      <th>V6</th>\n",
       "      <th>V7</th>\n",
       "      <th>V9</th>\n",
       "      <th>V10</th>\n",
       "      <th>V11</th>\n",
       "      <th>...</th>\n",
       "      <th>V11_</th>\n",
       "      <th>V12_</th>\n",
       "      <th>V14_</th>\n",
       "      <th>V16_</th>\n",
       "      <th>V17_</th>\n",
       "      <th>V18_</th>\n",
       "      <th>V19_</th>\n",
       "      <th>V21_</th>\n",
       "      <th>normalized_amount</th>\n",
       "      <th>Class</th>\n",
       "    </tr>\n",
       "  </thead>\n",
       "  <tbody>\n",
       "    <tr>\n",
       "      <th>0</th>\n",
       "      <td>-1.359807</td>\n",
       "      <td>-0.072781</td>\n",
       "      <td>2.536347</td>\n",
       "      <td>1.378155</td>\n",
       "      <td>-0.338321</td>\n",
       "      <td>0.462388</td>\n",
       "      <td>0.239599</td>\n",
       "      <td>0.363787</td>\n",
       "      <td>0.090794</td>\n",
       "      <td>-0.551600</td>\n",
       "      <td>...</td>\n",
       "      <td>0.0</td>\n",
       "      <td>0.0</td>\n",
       "      <td>0.0</td>\n",
       "      <td>0.0</td>\n",
       "      <td>0.0</td>\n",
       "      <td>0.0</td>\n",
       "      <td>0.0</td>\n",
       "      <td>0.0</td>\n",
       "      <td>0.244964</td>\n",
       "      <td>0</td>\n",
       "    </tr>\n",
       "    <tr>\n",
       "      <th>1</th>\n",
       "      <td>1.191857</td>\n",
       "      <td>0.266151</td>\n",
       "      <td>0.166480</td>\n",
       "      <td>0.448154</td>\n",
       "      <td>0.060018</td>\n",
       "      <td>-0.082361</td>\n",
       "      <td>-0.078803</td>\n",
       "      <td>-0.255425</td>\n",
       "      <td>-0.166974</td>\n",
       "      <td>1.612727</td>\n",
       "      <td>...</td>\n",
       "      <td>0.0</td>\n",
       "      <td>0.0</td>\n",
       "      <td>0.0</td>\n",
       "      <td>0.0</td>\n",
       "      <td>0.0</td>\n",
       "      <td>0.0</td>\n",
       "      <td>0.0</td>\n",
       "      <td>0.0</td>\n",
       "      <td>-0.342475</td>\n",
       "      <td>0</td>\n",
       "    </tr>\n",
       "    <tr>\n",
       "      <th>2</th>\n",
       "      <td>-1.358354</td>\n",
       "      <td>-1.340163</td>\n",
       "      <td>1.773209</td>\n",
       "      <td>0.379780</td>\n",
       "      <td>-0.503198</td>\n",
       "      <td>1.800499</td>\n",
       "      <td>0.791461</td>\n",
       "      <td>-1.514654</td>\n",
       "      <td>0.207643</td>\n",
       "      <td>0.624501</td>\n",
       "      <td>...</td>\n",
       "      <td>0.0</td>\n",
       "      <td>0.0</td>\n",
       "      <td>0.0</td>\n",
       "      <td>1.0</td>\n",
       "      <td>0.0</td>\n",
       "      <td>0.0</td>\n",
       "      <td>0.0</td>\n",
       "      <td>0.0</td>\n",
       "      <td>1.160686</td>\n",
       "      <td>0</td>\n",
       "    </tr>\n",
       "    <tr>\n",
       "      <th>3</th>\n",
       "      <td>-0.966272</td>\n",
       "      <td>-0.185226</td>\n",
       "      <td>1.792993</td>\n",
       "      <td>-0.863291</td>\n",
       "      <td>-0.010309</td>\n",
       "      <td>1.247203</td>\n",
       "      <td>0.237609</td>\n",
       "      <td>-1.387024</td>\n",
       "      <td>-0.054952</td>\n",
       "      <td>-0.226487</td>\n",
       "      <td>...</td>\n",
       "      <td>0.0</td>\n",
       "      <td>0.0</td>\n",
       "      <td>0.0</td>\n",
       "      <td>0.0</td>\n",
       "      <td>0.0</td>\n",
       "      <td>0.0</td>\n",
       "      <td>0.0</td>\n",
       "      <td>0.0</td>\n",
       "      <td>0.140534</td>\n",
       "      <td>0</td>\n",
       "    </tr>\n",
       "    <tr>\n",
       "      <th>4</th>\n",
       "      <td>-1.158233</td>\n",
       "      <td>0.877737</td>\n",
       "      <td>1.548718</td>\n",
       "      <td>0.403034</td>\n",
       "      <td>-0.407193</td>\n",
       "      <td>0.095921</td>\n",
       "      <td>0.592941</td>\n",
       "      <td>0.817739</td>\n",
       "      <td>0.753074</td>\n",
       "      <td>-0.822843</td>\n",
       "      <td>...</td>\n",
       "      <td>0.0</td>\n",
       "      <td>0.0</td>\n",
       "      <td>0.0</td>\n",
       "      <td>0.0</td>\n",
       "      <td>0.0</td>\n",
       "      <td>0.0</td>\n",
       "      <td>0.0</td>\n",
       "      <td>0.0</td>\n",
       "      <td>-0.073403</td>\n",
       "      <td>0</td>\n",
       "    </tr>\n",
       "  </tbody>\n",
       "</table>\n",
       "<p>5 rows × 36 columns</p>\n",
       "</div>"
      ],
      "text/plain": [
       "         V1        V2        V3        V4        V5        V6        V7  \\\n",
       "0 -1.359807 -0.072781  2.536347  1.378155 -0.338321  0.462388  0.239599   \n",
       "1  1.191857  0.266151  0.166480  0.448154  0.060018 -0.082361 -0.078803   \n",
       "2 -1.358354 -1.340163  1.773209  0.379780 -0.503198  1.800499  0.791461   \n",
       "3 -0.966272 -0.185226  1.792993 -0.863291 -0.010309  1.247203  0.237609   \n",
       "4 -1.158233  0.877737  1.548718  0.403034 -0.407193  0.095921  0.592941   \n",
       "\n",
       "         V9       V10       V11  ...    V11_  V12_  V14_  V16_  V17_  V18_  \\\n",
       "0  0.363787  0.090794 -0.551600  ...     0.0   0.0   0.0   0.0   0.0   0.0   \n",
       "1 -0.255425 -0.166974  1.612727  ...     0.0   0.0   0.0   0.0   0.0   0.0   \n",
       "2 -1.514654  0.207643  0.624501  ...     0.0   0.0   0.0   1.0   0.0   0.0   \n",
       "3 -1.387024 -0.054952 -0.226487  ...     0.0   0.0   0.0   0.0   0.0   0.0   \n",
       "4  0.817739  0.753074 -0.822843  ...     0.0   0.0   0.0   0.0   0.0   0.0   \n",
       "\n",
       "   V19_  V21_  normalized_amount  Class  \n",
       "0   0.0   0.0           0.244964      0  \n",
       "1   0.0   0.0          -0.342475      0  \n",
       "2   0.0   0.0           1.160686      0  \n",
       "3   0.0   0.0           0.140534      0  \n",
       "4   0.0   0.0          -0.073403      0  \n",
       "\n",
       "[5 rows x 36 columns]"
      ]
     },
     "execution_count": 8,
     "metadata": {},
     "output_type": "execute_result"
    }
   ],
   "source": [
    "df_SMOTE.head()"
   ]
  },
  {
   "cell_type": "markdown",
   "metadata": {},
   "source": [
    "#### Logistic Regression"
   ]
  },
  {
   "cell_type": "code",
   "execution_count": 9,
   "metadata": {},
   "outputs": [
    {
     "name": "stdout",
     "output_type": "stream",
     "text": [
      "Kmeans: Logistic Regression Sensitivity/Recall is: 0.9407894736842105\n",
      "Kmeans: Logistic Regression Specificity is: 0.9375\n"
     ]
    }
   ],
   "source": [
    "X_under_train, X_under_test, y_under_train, y_under_test = train_test_split(X_Kmeans_under,y_Kmeans_under,test_size = 0.3, random_state = 12)\n",
    "lr = LogisticRegression()\n",
    "lr.fit(X_under_train,y_under_train)\n",
    "y_pred = lr.predict(X_under_test)\n",
    "tn, fp, fn, tp = confusion_matrix(y_under_test, y_pred).ravel()\n",
    "print(\"Kmeans: Logistic Regression Sensitivity/Recall is:\",tp/(tp+fn))\n",
    "print(\"Kmeans: Logistic Regression Specificity is:\",tn/(tn+fp))"
   ]
  },
  {
   "cell_type": "code",
   "execution_count": 10,
   "metadata": {},
   "outputs": [
    {
     "name": "stdout",
     "output_type": "stream",
     "text": [
      "SMOTE: Logistic Regression Sensitivity/Recall is: 0.9192237421530965\n",
      "SMOTE: Logistic Regression Specificity is: 0.9706824716859339\n"
     ]
    }
   ],
   "source": [
    "x_train_res, x_val_res, y_train_res, y_val_res = train_test_split(x_res,\n",
    "                                                    y_res,\n",
    "                                                    test_size = .3,\n",
    "                                                    random_state=12)\n",
    "\n",
    "lr = LogisticRegression()\n",
    "lr.fit(x_train_res,y_train_res)\n",
    "y_pred = lr.predict(x_val_res)\n",
    "tn, fp, fn, tp = confusion_matrix(y_val_res, y_pred).ravel()\n",
    "print(\"SMOTE: Logistic Regression Sensitivity/Recall is:\",tp/(tp+fn))\n",
    "print(\"SMOTE: Logistic Regression Specificity is:\",tn/(tn+fp))"
   ]
  },
  {
   "cell_type": "code",
   "execution_count": 18,
   "metadata": {},
   "outputs": [
    {
     "name": "stdout",
     "output_type": "stream",
     "text": [
      "Parse progress: |█████████████████████████████████████████████████████████| 100%\n",
      "Parse progress: |█████████████████████████████████████████████████████████| 100%\n"
     ]
    }
   ],
   "source": [
    "#### Kmeans H2OFrame\n",
    "hf_Kmeans = h2o.H2OFrame(df_Kmeans)\n",
    "hf_Kmeans[\"Class\"] = hf_Kmeans[\"Class\"].asfactor()\n",
    "\n",
    "train_Kmeans, valid_Kmeans = hf_Kmeans.split_frame(\n",
    "    ratios=[0.7], \n",
    "    seed=12, \n",
    "    destination_frames=['train_Kmeans.hex','valid_Kmeans.hex']\n",
    ")\n",
    "\n",
    "#### SMOTE H2OFrame\n",
    "hf_SMOTE = h2o.H2OFrame(df_SMOTE)\n",
    "hf_SMOTE[\"Class\"] = hf_SMOTE[\"Class\"].asfactor()\n",
    "\n",
    "train_SMOTE, valid_SMOTE = hf_SMOTE.split_frame(\n",
    "    ratios=[0.7], \n",
    "    seed=12, \n",
    "    destination_frames=['train_SMOTE.hex','valid_SMOTE.hex']\n",
    ")\n",
    "\n"
   ]
  },
  {
   "cell_type": "markdown",
   "metadata": {},
   "source": [
    "#### Gradient Boosting Machine"
   ]
  },
  {
   "cell_type": "code",
   "execution_count": null,
   "metadata": {},
   "outputs": [],
   "source": [
    "from h2o.estimators.gbm import H2OGradientBoostingEstimator"
   ]
  },
  {
   "cell_type": "code",
   "execution_count": 12,
   "metadata": {},
   "outputs": [
    {
     "name": "stdout",
     "output_type": "stream",
     "text": [
      "Parse progress: |█████████████████████████████████████████████████████████| 100%\n",
      "gbm Model Build progress: |███████████████████████████████████████████████| 100%\n",
      "Confusion Matrix (Act/Pred) for max f1 @ threshold = 0.5979462663399188: \n"
     ]
    },
    {
     "data": {
      "text/html": [
       "<div style=\"overflow:auto\"><table style=\"width:50%\"><tr><td><b></b></td>\n",
       "<td><b>0</b></td>\n",
       "<td><b>1</b></td>\n",
       "<td><b>Error</b></td>\n",
       "<td><b>Rate</b></td></tr>\n",
       "<tr><td>0</td>\n",
       "<td>144.0</td>\n",
       "<td>6.0</td>\n",
       "<td>0.04</td>\n",
       "<td> (6.0/150.0)</td></tr>\n",
       "<tr><td>1</td>\n",
       "<td>2.0</td>\n",
       "<td>144.0</td>\n",
       "<td>0.0137</td>\n",
       "<td> (2.0/146.0)</td></tr>\n",
       "<tr><td>Total</td>\n",
       "<td>146.0</td>\n",
       "<td>150.0</td>\n",
       "<td>0.027</td>\n",
       "<td> (8.0/296.0)</td></tr></table></div>"
      ],
      "text/plain": [
       "       0    1    Error    Rate\n",
       "-----  ---  ---  -------  -----------\n",
       "0      144  6    0.04     (6.0/150.0)\n",
       "1      2    144  0.0137   (2.0/146.0)\n",
       "Total  146  150  0.027    (8.0/296.0)"
      ]
     },
     "metadata": {},
     "output_type": "display_data"
    },
    {
     "data": {
      "text/plain": []
     },
     "execution_count": 12,
     "metadata": {},
     "output_type": "execute_result"
    }
   ],
   "source": [
    "predictors = hf_Kmeans.columns\n",
    "del predictors[-1]\n",
    "response = \"Class\"\n",
    "\n",
    "gbm = H2OGradientBoostingEstimator(\n",
    "  ntrees = 10000,                                                            \n",
    "  learn_rate = 0.01,                                                         \n",
    "  stopping_rounds = 20, stopping_tolerance = 1e-4, stopping_metric = \"AUC\", \n",
    "  sample_rate = 0.8,\n",
    "  col_sample_rate = 0.8,\n",
    "  seed = 12,\n",
    "  score_tree_interval = 10)\n",
    "\n",
    "gbm.train(x=predictors, y=response, training_frame=train_Kmeans,\n",
    "         validation_frame = valid_Kmeans)\n",
    "\n",
    "perf = gbm.model_performance(valid = True)\n",
    "gbm.confusion_matrix(valid = True)"
   ]
  },
  {
   "cell_type": "code",
   "execution_count": 14,
   "metadata": {},
   "outputs": [
    {
     "name": "stdout",
     "output_type": "stream",
     "text": [
      "Kmeans: GBM Sensitivity/Recall is: 0.96\n",
      "Kmeans: GBM Specificity is: 0.96\n"
     ]
    }
   ],
   "source": [
    "print(\"Kmeans: GBM Sensitivity/Recall is:\",144/150)\n",
    "print(\"Kmeans: GBM Specificity is:\",144/150)"
   ]
  },
  {
   "cell_type": "code",
   "execution_count": 15,
   "metadata": {
    "scrolled": true
   },
   "outputs": [
    {
     "name": "stdout",
     "output_type": "stream",
     "text": [
      "Parse progress: |█████████████████████████████████████████████████████████| 100%\n",
      "gbm Model Build progress: |███████████████████████████████████████████████| 100%\n",
      "Confusion Matrix (Act/Pred) for max f1 @ threshold = 0.4556398035662969: \n"
     ]
    },
    {
     "data": {
      "text/html": [
       "<div style=\"overflow:auto\"><table style=\"width:50%\"><tr><td><b></b></td>\n",
       "<td><b>0</b></td>\n",
       "<td><b>1</b></td>\n",
       "<td><b>Error</b></td>\n",
       "<td><b>Rate</b></td></tr>\n",
       "<tr><td>0</td>\n",
       "<td>84629.0</td>\n",
       "<td>407.0</td>\n",
       "<td>0.0048</td>\n",
       "<td> (407.0/85036.0)</td></tr>\n",
       "<tr><td>1</td>\n",
       "<td>274.0</td>\n",
       "<td>85158.0</td>\n",
       "<td>0.0032</td>\n",
       "<td> (274.0/85432.0)</td></tr>\n",
       "<tr><td>Total</td>\n",
       "<td>84903.0</td>\n",
       "<td>85565.0</td>\n",
       "<td>0.004</td>\n",
       "<td> (681.0/170468.0)</td></tr></table></div>"
      ],
      "text/plain": [
       "       0      1      Error    Rate\n",
       "-----  -----  -----  -------  ----------------\n",
       "0      84629  407    0.0048   (407.0/85036.0)\n",
       "1      274    85158  0.0032   (274.0/85432.0)\n",
       "Total  84903  85565  0.004    (681.0/170468.0)"
      ]
     },
     "metadata": {},
     "output_type": "display_data"
    },
    {
     "data": {
      "text/plain": []
     },
     "execution_count": 15,
     "metadata": {},
     "output_type": "execute_result"
    }
   ],
   "source": [
    "predictors = hf_SMOTE.columns\n",
    "del predictors[-1]\n",
    "response = \"Class\"\n",
    "\n",
    "gbm = H2OGradientBoostingEstimator(\n",
    "  ntrees = 10000,                                               \n",
    "  learn_rate = 0.01,                                                         \n",
    "  stopping_rounds = 20, stopping_tolerance = 1e-4, stopping_metric = \"AUC\", \n",
    "  sample_rate = 0.8,\n",
    "  col_sample_rate = 0.8,\n",
    "  seed = 12,\n",
    "  score_tree_interval = 10)\n",
    "\n",
    "gbm.train(x=predictors, y=response, training_frame=train_SMOTE,\n",
    "         validation_frame = valid_SMOTE)\n",
    "\n",
    "perf = gbm.model_performance(valid = True)\n",
    "gbm.confusion_matrix(valid = True)"
   ]
  },
  {
   "cell_type": "code",
   "execution_count": 16,
   "metadata": {},
   "outputs": [
    {
     "name": "stdout",
     "output_type": "stream",
     "text": [
      "SMOTE: GBM Sensitivity/Recall is: 0.9952433822240402\n",
      "SMOTE: GBM Specificity is: 0.9952137918058234\n"
     ]
    }
   ],
   "source": [
    "print(\"SMOTE: GBM Sensitivity/Recall is:\",85158/85565)\n",
    "print(\"SMOTE: GBM Specificity is:\",84629/85036)"
   ]
  },
  {
   "cell_type": "markdown",
   "metadata": {},
   "source": [
    "#### Random Forest Model"
   ]
  },
  {
   "cell_type": "code",
   "execution_count": 17,
   "metadata": {},
   "outputs": [],
   "source": [
    "from h2o.estimators.random_forest import H2ORandomForestEstimator"
   ]
  },
  {
   "cell_type": "code",
   "execution_count": 23,
   "metadata": {},
   "outputs": [
    {
     "name": "stdout",
     "output_type": "stream",
     "text": [
      "drf Model Build progress: |███████████████████████████████████████████████| 100%\n",
      "Confusion Matrix (Act/Pred) for max f1 @ threshold = 0.6170212765957447: \n"
     ]
    },
    {
     "data": {
      "text/html": [
       "<div style=\"overflow:auto\"><table style=\"width:50%\"><tr><td><b></b></td>\n",
       "<td><b>0</b></td>\n",
       "<td><b>1</b></td>\n",
       "<td><b>Error</b></td>\n",
       "<td><b>Rate</b></td></tr>\n",
       "<tr><td>0</td>\n",
       "<td>146.0</td>\n",
       "<td>4.0</td>\n",
       "<td>0.0267</td>\n",
       "<td> (4.0/150.0)</td></tr>\n",
       "<tr><td>1</td>\n",
       "<td>7.0</td>\n",
       "<td>139.0</td>\n",
       "<td>0.0479</td>\n",
       "<td> (7.0/146.0)</td></tr>\n",
       "<tr><td>Total</td>\n",
       "<td>153.0</td>\n",
       "<td>143.0</td>\n",
       "<td>0.0372</td>\n",
       "<td> (11.0/296.0)</td></tr></table></div>"
      ],
      "text/plain": [
       "       0    1    Error    Rate\n",
       "-----  ---  ---  -------  ------------\n",
       "0      146  4    0.0267   (4.0/150.0)\n",
       "1      7    139  0.0479   (7.0/146.0)\n",
       "Total  153  143  0.0372   (11.0/296.0)"
      ]
     },
     "metadata": {},
     "output_type": "display_data"
    },
    {
     "data": {
      "text/plain": []
     },
     "execution_count": 23,
     "metadata": {},
     "output_type": "execute_result"
    }
   ],
   "source": [
    "predictors = hf_Kmeans.columns\n",
    "del predictors[-1]\n",
    "response = \"Class\"\n",
    "\n",
    "rf_kmeans = H2ORandomForestEstimator(\n",
    "    model_id=\"rf_kmeans\",\n",
    "    ntrees = 10000, \n",
    "    stopping_rounds=20,\n",
    "    score_each_iteration=True,\n",
    "    seed=12)\n",
    "\n",
    "rf_kmeans.train(x=predictors, y=response, training_frame=train_Kmeans,\n",
    "         validation_frame = valid_Kmeans)\n",
    "\n",
    "perf = rf_kmeans.model_performance(valid = True)\n",
    "rf_kmeans.confusion_matrix(valid = True)"
   ]
  },
  {
   "cell_type": "code",
   "execution_count": 24,
   "metadata": {},
   "outputs": [
    {
     "name": "stdout",
     "output_type": "stream",
     "text": [
      "Kmeans: RFM Sensitivity/Recall is: 0.9788732394366197\n",
      "Kmeans: RFM Specificity is: 0.9733333333333334\n"
     ]
    }
   ],
   "source": [
    "print(\"Kmeans: RFM Sensitivity/Recall is:\",139/143)\n",
    "print(\"Kmeans: RFM Specificity is:\",146/150)"
   ]
  },
  {
   "cell_type": "code",
   "execution_count": 25,
   "metadata": {},
   "outputs": [
    {
     "name": "stdout",
     "output_type": "stream",
     "text": [
      "drf Model Build progress: |███████████████████████████████████████████████| 100%\n",
      "Confusion Matrix (Act/Pred) for max f1 @ threshold = 0.5470289682056039: \n"
     ]
    },
    {
     "data": {
      "text/html": [
       "<div style=\"overflow:auto\"><table style=\"width:50%\"><tr><td><b></b></td>\n",
       "<td><b>0</b></td>\n",
       "<td><b>1</b></td>\n",
       "<td><b>Error</b></td>\n",
       "<td><b>Rate</b></td></tr>\n",
       "<tr><td>0</td>\n",
       "<td>85020.0</td>\n",
       "<td>16.0</td>\n",
       "<td>0.0002</td>\n",
       "<td> (16.0/85036.0)</td></tr>\n",
       "<tr><td>1</td>\n",
       "<td>11.0</td>\n",
       "<td>85421.0</td>\n",
       "<td>0.0001</td>\n",
       "<td> (11.0/85432.0)</td></tr>\n",
       "<tr><td>Total</td>\n",
       "<td>85031.0</td>\n",
       "<td>85437.0</td>\n",
       "<td>0.0002</td>\n",
       "<td> (27.0/170468.0)</td></tr></table></div>"
      ],
      "text/plain": [
       "       0      1      Error    Rate\n",
       "-----  -----  -----  -------  ---------------\n",
       "0      85020  16     0.0002   (16.0/85036.0)\n",
       "1      11     85421  0.0001   (11.0/85432.0)\n",
       "Total  85031  85437  0.0002   (27.0/170468.0)"
      ]
     },
     "metadata": {},
     "output_type": "display_data"
    },
    {
     "data": {
      "text/plain": []
     },
     "execution_count": 25,
     "metadata": {},
     "output_type": "execute_result"
    }
   ],
   "source": [
    "predictors = hf_Kmeans.columns\n",
    "del predictors[-1]\n",
    "response = \"Class\"\n",
    "\n",
    "rf_SMOTE = H2ORandomForestEstimator(\n",
    "    model_id=\"rf_SMOTE\",\n",
    "    ntrees = 10000,      \n",
    "    stopping_rounds=20,\n",
    "    score_each_iteration=True,\n",
    "    seed=12)\n",
    "\n",
    "rf_SMOTE.train(x=predictors, y=response, training_frame=train_SMOTE,\n",
    "         validation_frame = valid_SMOTE)\n",
    "\n",
    "perf = rf_SMOTE.model_performance(valid = True)\n",
    "rf_SMOTE.confusion_matrix(valid = True)"
   ]
  },
  {
   "cell_type": "code",
   "execution_count": 113,
   "metadata": {},
   "outputs": [
    {
     "name": "stdout",
     "output_type": "stream",
     "text": [
      "SMOTE: RFM Sensitivity/Recall is: 0.9998127275068179\n",
      "SMOTE: RFM Specificity is: 0.9998118443953149\n"
     ]
    }
   ],
   "source": [
    "print(\"SMOTE: RFM Sensitivity/Recall is:\", 85421/85437)\n",
    "print(\"SMOTE: RFM Specificity is:\",85020/85036)"
   ]
  },
  {
   "cell_type": "markdown",
   "metadata": {},
   "source": [
    "#### XGBoost"
   ]
  },
  {
   "cell_type": "code",
   "execution_count": 47,
   "metadata": {},
   "outputs": [],
   "source": [
    "from h2o.estimators import H2OXGBoostEstimator"
   ]
  },
  {
   "cell_type": "code",
   "execution_count": 53,
   "metadata": {},
   "outputs": [
    {
     "ename": "H2OResponseError",
     "evalue": "Server error water.exceptions.H2ONotFoundArgumentException:\n  Error: POST /3/ModelBuilders/xgboost not found\n  Request: POST /3/ModelBuilders/xgboost\n    data: {'model_id': 'xgb_Kmeans', 'ntrees': '10000', 'learn_rate': '0.005', 'sample_rate': '0.1', 'col_sample_rate': '0.8', 'max_depth': '5', 'nfolds': '3', 'keep_cross_validation_predictions': 'True', 'stopping_rounds': '10', 'seed': '12', 'distribution': 'bernoulli', 'training_frame': 'train_Kmeans.hex', 'validation_frame': 'valid_Kmeans.hex', 'response_column': 'Class'}\n",
     "output_type": "error",
     "traceback": [
      "\u001b[1;31m---------------------------------------------------------------------------\u001b[0m",
      "\u001b[1;31mH2OResponseError\u001b[0m                          Traceback (most recent call last)",
      "\u001b[1;32m<ipython-input-53-079df1207b9f>\u001b[0m in \u001b[0;36m<module>\u001b[1;34m()\u001b[0m\n\u001b[0;32m     16\u001b[0m     distribution = 'bernoulli')\n\u001b[0;32m     17\u001b[0m \u001b[1;33m\u001b[0m\u001b[0m\n\u001b[1;32m---> 18\u001b[1;33m \u001b[0mxgb_Kmeans\u001b[0m\u001b[1;33m.\u001b[0m\u001b[0mtrain\u001b[0m\u001b[1;33m(\u001b[0m\u001b[0mx\u001b[0m\u001b[1;33m=\u001b[0m\u001b[0mpredictors\u001b[0m\u001b[1;33m,\u001b[0m \u001b[0my\u001b[0m\u001b[1;33m=\u001b[0m\u001b[0mresponse\u001b[0m\u001b[1;33m,\u001b[0m \u001b[0mtraining_frame\u001b[0m\u001b[1;33m=\u001b[0m\u001b[0mtrain_Kmeans\u001b[0m\u001b[1;33m,\u001b[0m \u001b[0mvalidation_frame\u001b[0m \u001b[1;33m=\u001b[0m \u001b[0mvalid_Kmeans\u001b[0m\u001b[1;33m)\u001b[0m\u001b[1;33m\u001b[0m\u001b[0m\n\u001b[0m",
      "\u001b[1;32m~\\Anaconda3\\lib\\site-packages\\h2o\\estimators\\estimator_base.py\u001b[0m in \u001b[0;36mtrain\u001b[1;34m(self, x, y, training_frame, offset_column, fold_column, weights_column, validation_frame, max_runtime_secs, ignored_columns, model_id, verbose)\u001b[0m\n\u001b[0;32m    224\u001b[0m         \u001b[0mrest_ver\u001b[0m \u001b[1;33m=\u001b[0m \u001b[0mparms\u001b[0m\u001b[1;33m.\u001b[0m\u001b[0mpop\u001b[0m\u001b[1;33m(\u001b[0m\u001b[1;34m\"_rest_version\"\u001b[0m\u001b[1;33m)\u001b[0m \u001b[1;32mif\u001b[0m \u001b[1;34m\"_rest_version\"\u001b[0m \u001b[1;32min\u001b[0m \u001b[0mparms\u001b[0m \u001b[1;32melse\u001b[0m \u001b[1;36m3\u001b[0m\u001b[1;33m\u001b[0m\u001b[0m\n\u001b[0;32m    225\u001b[0m \u001b[1;33m\u001b[0m\u001b[0m\n\u001b[1;32m--> 226\u001b[1;33m         \u001b[0mmodel_builder_json\u001b[0m \u001b[1;33m=\u001b[0m \u001b[0mh2o\u001b[0m\u001b[1;33m.\u001b[0m\u001b[0mapi\u001b[0m\u001b[1;33m(\u001b[0m\u001b[1;34m\"POST /%d/ModelBuilders/%s\"\u001b[0m \u001b[1;33m%\u001b[0m \u001b[1;33m(\u001b[0m\u001b[0mrest_ver\u001b[0m\u001b[1;33m,\u001b[0m \u001b[0mself\u001b[0m\u001b[1;33m.\u001b[0m\u001b[0malgo\u001b[0m\u001b[1;33m)\u001b[0m\u001b[1;33m,\u001b[0m \u001b[0mdata\u001b[0m\u001b[1;33m=\u001b[0m\u001b[0mparms\u001b[0m\u001b[1;33m)\u001b[0m\u001b[1;33m\u001b[0m\u001b[0m\n\u001b[0m\u001b[0;32m    227\u001b[0m         \u001b[0mmodel\u001b[0m \u001b[1;33m=\u001b[0m \u001b[0mH2OJob\u001b[0m\u001b[1;33m(\u001b[0m\u001b[0mmodel_builder_json\u001b[0m\u001b[1;33m,\u001b[0m \u001b[0mjob_type\u001b[0m\u001b[1;33m=\u001b[0m\u001b[1;33m(\u001b[0m\u001b[0mself\u001b[0m\u001b[1;33m.\u001b[0m\u001b[0malgo\u001b[0m \u001b[1;33m+\u001b[0m \u001b[1;34m\" Model Build\"\u001b[0m\u001b[1;33m)\u001b[0m\u001b[1;33m)\u001b[0m\u001b[1;33m\u001b[0m\u001b[0m\n\u001b[0;32m    228\u001b[0m \u001b[1;33m\u001b[0m\u001b[0m\n",
      "\u001b[1;32m~\\Anaconda3\\lib\\site-packages\\h2o\\h2o.py\u001b[0m in \u001b[0;36mapi\u001b[1;34m(endpoint, data, json, filename, save_to)\u001b[0m\n\u001b[0;32m    101\u001b[0m     \u001b[1;31m# type checks are performed in H2OConnection class\u001b[0m\u001b[1;33m\u001b[0m\u001b[1;33m\u001b[0m\u001b[0m\n\u001b[0;32m    102\u001b[0m     \u001b[0m_check_connection\u001b[0m\u001b[1;33m(\u001b[0m\u001b[1;33m)\u001b[0m\u001b[1;33m\u001b[0m\u001b[0m\n\u001b[1;32m--> 103\u001b[1;33m     \u001b[1;32mreturn\u001b[0m \u001b[0mh2oconn\u001b[0m\u001b[1;33m.\u001b[0m\u001b[0mrequest\u001b[0m\u001b[1;33m(\u001b[0m\u001b[0mendpoint\u001b[0m\u001b[1;33m,\u001b[0m \u001b[0mdata\u001b[0m\u001b[1;33m=\u001b[0m\u001b[0mdata\u001b[0m\u001b[1;33m,\u001b[0m \u001b[0mjson\u001b[0m\u001b[1;33m=\u001b[0m\u001b[0mjson\u001b[0m\u001b[1;33m,\u001b[0m \u001b[0mfilename\u001b[0m\u001b[1;33m=\u001b[0m\u001b[0mfilename\u001b[0m\u001b[1;33m,\u001b[0m \u001b[0msave_to\u001b[0m\u001b[1;33m=\u001b[0m\u001b[0msave_to\u001b[0m\u001b[1;33m)\u001b[0m\u001b[1;33m\u001b[0m\u001b[0m\n\u001b[0m\u001b[0;32m    104\u001b[0m \u001b[1;33m\u001b[0m\u001b[0m\n\u001b[0;32m    105\u001b[0m \u001b[1;33m\u001b[0m\u001b[0m\n",
      "\u001b[1;32m~\\Anaconda3\\lib\\site-packages\\h2o\\backend\\connection.py\u001b[0m in \u001b[0;36mrequest\u001b[1;34m(self, endpoint, data, json, filename, save_to)\u001b[0m\n\u001b[0;32m    400\u001b[0m                                     auth=self._auth, verify=self._verify_ssl_cert, proxies=self._proxies)\n\u001b[0;32m    401\u001b[0m             \u001b[0mself\u001b[0m\u001b[1;33m.\u001b[0m\u001b[0m_log_end_transaction\u001b[0m\u001b[1;33m(\u001b[0m\u001b[0mstart_time\u001b[0m\u001b[1;33m,\u001b[0m \u001b[0mresp\u001b[0m\u001b[1;33m)\u001b[0m\u001b[1;33m\u001b[0m\u001b[0m\n\u001b[1;32m--> 402\u001b[1;33m             \u001b[1;32mreturn\u001b[0m \u001b[0mself\u001b[0m\u001b[1;33m.\u001b[0m\u001b[0m_process_response\u001b[0m\u001b[1;33m(\u001b[0m\u001b[0mresp\u001b[0m\u001b[1;33m,\u001b[0m \u001b[0msave_to\u001b[0m\u001b[1;33m)\u001b[0m\u001b[1;33m\u001b[0m\u001b[0m\n\u001b[0m\u001b[0;32m    403\u001b[0m \u001b[1;33m\u001b[0m\u001b[0m\n\u001b[0;32m    404\u001b[0m         \u001b[1;32mexcept\u001b[0m \u001b[1;33m(\u001b[0m\u001b[0mrequests\u001b[0m\u001b[1;33m.\u001b[0m\u001b[0mexceptions\u001b[0m\u001b[1;33m.\u001b[0m\u001b[0mConnectionError\u001b[0m\u001b[1;33m,\u001b[0m \u001b[0mrequests\u001b[0m\u001b[1;33m.\u001b[0m\u001b[0mexceptions\u001b[0m\u001b[1;33m.\u001b[0m\u001b[0mHTTPError\u001b[0m\u001b[1;33m)\u001b[0m \u001b[1;32mas\u001b[0m \u001b[0me\u001b[0m\u001b[1;33m:\u001b[0m\u001b[1;33m\u001b[0m\u001b[0m\n",
      "\u001b[1;32m~\\Anaconda3\\lib\\site-packages\\h2o\\backend\\connection.py\u001b[0m in \u001b[0;36m_process_response\u001b[1;34m(response, save_to)\u001b[0m\n\u001b[0;32m    723\u001b[0m         \u001b[1;31m# Client errors (400 = \"Bad Request\", 404 = \"Not Found\", 412 = \"Precondition Failed\")\u001b[0m\u001b[1;33m\u001b[0m\u001b[1;33m\u001b[0m\u001b[0m\n\u001b[0;32m    724\u001b[0m         \u001b[1;32mif\u001b[0m \u001b[0mstatus_code\u001b[0m \u001b[1;32min\u001b[0m \u001b[1;33m{\u001b[0m\u001b[1;36m400\u001b[0m\u001b[1;33m,\u001b[0m \u001b[1;36m404\u001b[0m\u001b[1;33m,\u001b[0m \u001b[1;36m412\u001b[0m\u001b[1;33m}\u001b[0m \u001b[1;32mand\u001b[0m \u001b[0misinstance\u001b[0m\u001b[1;33m(\u001b[0m\u001b[0mdata\u001b[0m\u001b[1;33m,\u001b[0m \u001b[1;33m(\u001b[0m\u001b[0mH2OErrorV3\u001b[0m\u001b[1;33m,\u001b[0m \u001b[0mH2OModelBuilderErrorV3\u001b[0m\u001b[1;33m)\u001b[0m\u001b[1;33m)\u001b[0m\u001b[1;33m:\u001b[0m\u001b[1;33m\u001b[0m\u001b[0m\n\u001b[1;32m--> 725\u001b[1;33m             \u001b[1;32mraise\u001b[0m \u001b[0mH2OResponseError\u001b[0m\u001b[1;33m(\u001b[0m\u001b[0mdata\u001b[0m\u001b[1;33m)\u001b[0m\u001b[1;33m\u001b[0m\u001b[0m\n\u001b[0m\u001b[0;32m    726\u001b[0m \u001b[1;33m\u001b[0m\u001b[0m\n\u001b[0;32m    727\u001b[0m         \u001b[1;31m# Server errors (notably 500 = \"Server Error\")\u001b[0m\u001b[1;33m\u001b[0m\u001b[1;33m\u001b[0m\u001b[0m\n",
      "\u001b[1;31mH2OResponseError\u001b[0m: Server error water.exceptions.H2ONotFoundArgumentException:\n  Error: POST /3/ModelBuilders/xgboost not found\n  Request: POST /3/ModelBuilders/xgboost\n    data: {'model_id': 'xgb_Kmeans', 'ntrees': '10000', 'learn_rate': '0.005', 'sample_rate': '0.1', 'col_sample_rate': '0.8', 'max_depth': '5', 'nfolds': '3', 'keep_cross_validation_predictions': 'True', 'stopping_rounds': '10', 'seed': '12', 'distribution': 'bernoulli', 'training_frame': 'train_Kmeans.hex', 'validation_frame': 'valid_Kmeans.hex', 'response_column': 'Class'}\n"
     ]
    }
   ],
   "source": [
    "predictors = hf_Kmeans.columns\n",
    "del predictors[-1]\n",
    "response = \"Class\"\n",
    "\n",
    "xgb_Kmeans = H2OXGBoostEstimator(\n",
    "    model_id=\"xgb_Kmeans\",\n",
    "    ntrees = 10000,\n",
    "    learn_rate = 0.005,\n",
    "    sample_rate = 0.1, \n",
    "    col_sample_rate = 0.8,\n",
    "    max_depth = 5,\n",
    "    nfolds = 3,\n",
    "    keep_cross_validation_predictions=True,\n",
    "    stopping_rounds = 10,\n",
    "    seed = 12,\n",
    "    distribution = 'bernoulli')\n",
    "\n",
    "xgb_Kmeans.train(x=predictors, y=response, training_frame=train_Kmeans, validation_frame = valid_Kmeans)"
   ]
  },
  {
   "cell_type": "code",
   "execution_count": null,
   "metadata": {},
   "outputs": [],
   "source": [
    "print(\"Kmeans: XGBoost Sensitivity/Recall is:\",139/142)\n",
    "print(\"Kmeans: XGBoost Specificity is:\",146/150)"
   ]
  },
  {
   "cell_type": "code",
   "execution_count": null,
   "metadata": {},
   "outputs": [],
   "source": [
    "predictors = hf_SMOTE.columns\n",
    "del predictors[-1]\n",
    "response = \"Class\"\n",
    "\n",
    "xgb_SMOTE = H2OXGBoostEstimator(\n",
    "    model_id=\"xgb_SMOTE\",\n",
    "    ntrees = 10000,\n",
    "    learn_rate = 0.005,\n",
    "    sample_rate = 0.1, \n",
    "    col_sample_rate = 0.8,\n",
    "    max_depth = 5,\n",
    "    nfolds = 3,\n",
    "    keep_cross_validation_predictions=True,\n",
    "    stopping_rounds = 10,\n",
    "    seed = 12,\n",
    "    distribution = 'bernoulli')\n",
    "\n",
    "xgb_Kmeans.train(x=predictors, y=response, training_frame=train_SMOTE, validation_frame = valid_SMOTE)"
   ]
  },
  {
   "cell_type": "code",
   "execution_count": null,
   "metadata": {},
   "outputs": [],
   "source": [
    "print(\"SMOTE: XGBoost Sensitivity/Recall is:\",139/142)\n",
    "print(\"SMOTE: XGBoost Specificity is:\",146/150)"
   ]
  },
  {
   "cell_type": "markdown",
   "metadata": {},
   "source": [
    "#### Neural Network"
   ]
  },
  {
   "cell_type": "code",
   "execution_count": 61,
   "metadata": {},
   "outputs": [],
   "source": [
    "from h2o.estimators.deeplearning import H2ODeepLearningEstimator"
   ]
  },
  {
   "cell_type": "code",
   "execution_count": 68,
   "metadata": {},
   "outputs": [
    {
     "name": "stdout",
     "output_type": "stream",
     "text": [
      "Parse progress: |█████████████████████████████████████████████████████████| 100%\n",
      "kmeans Model Build progress: |████████████████████████████████████████████| 100%\n"
     ]
    }
   ],
   "source": [
    "##### K-mean Cluster Based on Undersampling - Neural Network Dataset\n",
    "df_notfraud_nn = df_nn[df_nn[\"Class\"]==0]\n",
    "df_fraud_nn = df_nn[df_nn[\"Class\"]==1]\n",
    "\n",
    "df_kmeans_notfraud_nn = df_notfraud_nn.drop(['Class'], axis=1)\n",
    "hf_nn = h2o.H2OFrame(df_kmeans_notfraud_nn)\n",
    "cls_nn = H2OKMeansEstimator(k=len(df_fraud_nn), standardize=True)\n",
    "cls_nn.train(x=hf_nn.columns, training_frame=hf_nn)\n",
    "\n",
    "df_centers_nn = pd.DataFrame(cls_nn.centers())\n",
    "df_centers_nn.columns = hf_nn.columns\n",
    "df_centers_nn[\"Class\"] = 0\n",
    "df_kmeans_undersample_nn = pd.concat([df_centers_nn,df_fraud_nn],axis=0)\n",
    "\n",
    "X_Kmeans_under_nn = df_kmeans_undersample_nn.loc[:,df_kmeans_undersample_nn.columns != 'Class']\n",
    "y_Kmeans_under_nn = df_kmeans_undersample_nn.loc[:,df_kmeans_undersample_nn.columns == 'Class']"
   ]
  },
  {
   "cell_type": "code",
   "execution_count": 69,
   "metadata": {},
   "outputs": [],
   "source": [
    "df_X_Kmenas_nn = pd.DataFrame(X_Kmeans_under_nn,columns = df_kmeans_notfraud_nn.columns)\n",
    "df_Y_Kmenas_nn = pd.DataFrame(y_Kmeans_under_nn,columns = [\"Class\"])\n",
    "df_Kmeans_nn = pd.concat([df_X_Kmenas_nn,df_Y_Kmenas_nn],axis=1)"
   ]
  },
  {
   "cell_type": "code",
   "execution_count": 70,
   "metadata": {},
   "outputs": [
    {
     "name": "stderr",
     "output_type": "stream",
     "text": [
      "C:\\Users\\Tiffany Xu\\Anaconda3\\lib\\site-packages\\sklearn\\utils\\deprecation.py:77: DeprecationWarning: Function _ratio_float is deprecated; Use a float for 'ratio' is deprecated from version 0.2. The support will be removed in 0.4. Use a dict, str, or a callable instead.\n",
      "  warnings.warn(msg, category=DeprecationWarning)\n"
     ]
    }
   ],
   "source": [
    "##### SMOTE\n",
    "df_features_nn = df_nn.drop(['Class'], axis=1)\n",
    "df_target_nn = df_nn[\"Class\"]\n",
    "\n",
    "sm = SMOTE(random_state=12, ratio=1.0)\n",
    "x_res_nn,y_res_nn = sm.fit_sample(df_features_nn,df_target_nn)"
   ]
  },
  {
   "cell_type": "code",
   "execution_count": 71,
   "metadata": {},
   "outputs": [],
   "source": [
    "df_X_SMOTE_nn = pd.DataFrame(x_res_nn,columns = df_kmeans_notfraud_nn.columns)\n",
    "df_Y_SMOTE_nn = pd.DataFrame(y_res_nn,columns = [\"Class\"])\n",
    "df_SMOTE_nn = pd.concat([df_X_SMOTE_nn,df_Y_SMOTE_nn],axis=1)"
   ]
  },
  {
   "cell_type": "code",
   "execution_count": 73,
   "metadata": {},
   "outputs": [
    {
     "name": "stdout",
     "output_type": "stream",
     "text": [
      "Parse progress: |█████████████████████████████████████████████████████████| 100%\n",
      "Parse progress: |█████████████████████████████████████████████████████████| 100%\n"
     ]
    }
   ],
   "source": [
    "#### Kmeans H2OFrame\n",
    "hf_Kmeans_nn = h2o.H2OFrame(df_Kmeans_nn)\n",
    "hf_Kmeans_nn[\"Class\"] = hf_Kmeans_nn[\"Class\"].asfactor()\n",
    "\n",
    "train_Kmeans_nn, valid_Kmeans_nn = hf_Kmeans_nn.split_frame(\n",
    "    ratios=[0.7], \n",
    "    seed=12, \n",
    "    destination_frames=['train_Kmeans_nn.hex','valid_Kmeans_nn.hex']\n",
    ")\n",
    "\n",
    "#### SMOTE H2OFrame\n",
    "hf_SMOTE_nn = h2o.H2OFrame(df_SMOTE_nn)\n",
    "hf_SMOTE_nn[\"Class\"] = hf_SMOTE_nn[\"Class\"].asfactor()\n",
    "\n",
    "train_SMOTE_nn, valid_SMOTE_nn = hf_SMOTE_nn.split_frame(\n",
    "    ratios=[0.7], \n",
    "    seed=12, \n",
    "    destination_frames=['train_SMOTE_nn.hex','valid_SMOTE_nn.hex']\n",
    ")\n",
    "\n"
   ]
  },
  {
   "cell_type": "code",
   "execution_count": 77,
   "metadata": {},
   "outputs": [
    {
     "name": "stdout",
     "output_type": "stream",
     "text": [
      "deeplearning Model Build progress: |██████████████████████████████████████| 100%\n"
     ]
    }
   ],
   "source": [
    "predictors = hf_Kmeans_nn.columns\n",
    "del predictors[-1]\n",
    "response = \"Class\"\n",
    "\n",
    "nn_Kmeans = H2ODeepLearningEstimator(\n",
    "    model_id=\"nn_Kmeans\",\n",
    "    hidden=[32,32,32],                  ## small network, runs faster\n",
    "    epochs=1000000,                      ## hopefully converges earlier...\n",
    "    score_validation_samples=10000,      ## sample the validation dataset (faster)\n",
    "    stopping_rounds=2,\n",
    "    stopping_metric=\"misclassification\", ## could be \"MSE\",\"logloss\",\"r2\"\n",
    "    stopping_tolerance=0.01,\n",
    "    seed = 12,\n",
    "    distribution = 'bernoulli')\n",
    "\n",
    "nn_Kmeans.train(x=predictors, y=response, training_frame=train_Kmeans_nn, validation_frame = valid_Kmeans_nn)\n",
    "nn_Kmeans.confusion_matrix(valid = True)"
   ]
  },
  {
   "cell_type": "code",
   "execution_count": 80,
   "metadata": {},
   "outputs": [
    {
     "name": "stdout",
     "output_type": "stream",
     "text": [
      "Kmeans: RFM Sensitivity/Recall is: 0.8875\n",
      "Kmeans: RFM Specificity is: 0.88\n"
     ]
    }
   ],
   "source": [
    "print(\"Kmeans: Neural Network Sensitivity/Recall is:\",142/160)\n",
    "print(\"Kmeans: Neural Network Specificity is:\",132/150)"
   ]
  },
  {
   "cell_type": "code",
   "execution_count": 96,
   "metadata": {
    "scrolled": true
   },
   "outputs": [
    {
     "name": "stdout",
     "output_type": "stream",
     "text": [
      "deeplearning Model Build progress: |██████████████████████████████████████| 100%\n",
      "Confusion Matrix (Act/Pred) for max f1 @ threshold = 7.396273239463468e-05: \n"
     ]
    },
    {
     "data": {
      "text/html": [
       "<div style=\"overflow:auto\"><table style=\"width:50%\"><tr><td><b></b></td>\n",
       "<td><b>0</b></td>\n",
       "<td><b>1</b></td>\n",
       "<td><b>Error</b></td>\n",
       "<td><b>Rate</b></td></tr>\n",
       "<tr><td>0</td>\n",
       "<td>84929.0</td>\n",
       "<td>107.0</td>\n",
       "<td>0.0013</td>\n",
       "<td> (107.0/85036.0)</td></tr>\n",
       "<tr><td>1</td>\n",
       "<td>11741.0</td>\n",
       "<td>73691.0</td>\n",
       "<td>0.1374</td>\n",
       "<td> (11741.0/85432.0)</td></tr>\n",
       "<tr><td>Total</td>\n",
       "<td>96670.0</td>\n",
       "<td>73798.0</td>\n",
       "<td>0.0695</td>\n",
       "<td> (11848.0/170468.0)</td></tr></table></div>"
      ],
      "text/plain": [
       "       0      1      Error    Rate\n",
       "-----  -----  -----  -------  ------------------\n",
       "0      84929  107    0.0013   (107.0/85036.0)\n",
       "1      11741  73691  0.1374   (11741.0/85432.0)\n",
       "Total  96670  73798  0.0695   (11848.0/170468.0)"
      ]
     },
     "metadata": {},
     "output_type": "display_data"
    },
    {
     "data": {
      "text/plain": []
     },
     "execution_count": 96,
     "metadata": {},
     "output_type": "execute_result"
    }
   ],
   "source": [
    "predictors = hf_SMOTE_nn.columns\n",
    "del predictors[-1]\n",
    "response = \"Class\"\n",
    "\n",
    "nn_SMOTE = H2ODeepLearningEstimator(\n",
    "    model_id=\"nn_SMOTE\",\n",
    "    hidden=[32,32,32],                  ## small network, runs faster\n",
    "    epochs=1000000,                      ## hopefully converges earlier...\n",
    "    #score_validation_samples=10000,      ## sample the validation dataset (faster)\n",
    "    stopping_rounds=2,\n",
    "    stopping_metric=\"misclassification\", ## could be \"MSE\",\"logloss\",\"r2\"\n",
    "    stopping_tolerance=0.01,\n",
    "    seed = 12,\n",
    "    distribution = 'bernoulli')\n",
    "\n",
    "nn_SMOTE.train(x=predictors, y=response, training_frame=train_SMOTE_nn, validation_frame = valid_SMOTE_nn)\n",
    "nn_SMOTE.confusion_matrix(valid= True)"
   ]
  },
  {
   "cell_type": "code",
   "execution_count": 97,
   "metadata": {},
   "outputs": [
    {
     "name": "stdout",
     "output_type": "stream",
     "text": [
      "SMOTE: Neural Network Sensitivity/Recall is: 0.9985500962085694\n",
      "SMOTE: Neural Network Specificity is: 0.9987417093936686\n"
     ]
    }
   ],
   "source": [
    "print(\"SMOTE: Neural Network Sensitivity/Recall is:\",73691/73798)\n",
    "print(\"SMOTE: Neural Network Specificity is:\",84929/85036)"
   ]
  },
  {
   "cell_type": "markdown",
   "metadata": {},
   "source": [
    "#### Model Comparsion"
   ]
  },
  {
   "cell_type": "code",
   "execution_count": 117,
   "metadata": {},
   "outputs": [
    {
     "data": {
      "text/plain": [
       "<matplotlib.legend.Legend at 0x17e49fff4e0>"
      ]
     },
     "execution_count": 117,
     "metadata": {},
     "output_type": "execute_result"
    },
    {
     "data": {
      "image/png": "[encoded data removed]",
      "text/plain": [
       "<Figure size 432x288 with 1 Axes>"
      ]
     },
     "metadata": {},
     "output_type": "display_data"
    }
   ],
   "source": [
    "# LR, GBM ,RFM,-XGBoost, NeuralNetwork\n",
    "Recall_Kmeans = [0.94079,0.96,0.97887,0.8875]\n",
    "Recall_SMOTE = [0.91922,0.99524,0.99981,0.99855]\n",
    "df_summary = pd.DataFrame({\"Kmeans\":Recall_Kmeans,\"SMOTE\":Recall_SMOTE})\n",
    "df_summary.index = [\"Logistic Regression\",\"GBM\",\"RFM\",\"NeuralNetwork\"]\n",
    "df_summary.plot.bar(rot = 0,alpha=0.75,)\n",
    "plt.grid(zorder=0)\n",
    "plt.legend(loc='center left', bbox_to_anchor=(1.0, 0.5),title = \"Recall Rate Comparsion\")"
   ]
  },
  {
   "cell_type": "code",
   "execution_count": 116,
   "metadata": {},
   "outputs": [
    {
     "data": {
      "text/plain": [
       "<matplotlib.legend.Legend at 0x17e49f79ba8>"
      ]
     },
     "execution_count": 116,
     "metadata": {},
     "output_type": "execute_result"
    },
    {
     "data": {
      "image/png": "[encoded data removed]",
      "text/plain": [
       "<Figure size 432x288 with 1 Axes>"
      ]
     },
     "metadata": {},
     "output_type": "display_data"
    }
   ],
   "source": [
    "# LR, GBM ,RFM,-XGBoost, NeuralNetwork\n",
    "Spec_Kmeans = [0.9375,0.96,0.97333,0.88]\n",
    "Spec_SMOTE = [0.97069,0.99521,0.99981,0.99874]\n",
    "df_summary = pd.DataFrame({\"Kmeans\":Spec_Kmeans,\"SMOTE\":Spec_SMOTE})\n",
    "df_summary.index = [\"Logistic Regression\",\"GBM\",\"RFM\",\"NeuralNetwork\"]\n",
    "df_summary.plot.bar(rot = 0,alpha=0.75,)\n",
    "plt.grid(zorder=0)\n",
    "plt.legend(loc='center left', bbox_to_anchor=(1.0, 0.5),title = \"Specificity Rate Comparsion\")"
   ]
  },
  {
   "cell_type": "markdown",
   "metadata": {},
   "source": [
    "Neural Network achieved highest Recall Rate - **0.99855** for dataset based on SMOTE transformation, which also achieved Specificity Rate as high as **0.99874**."
   ]
  },
  {
   "cell_type": "code",
   "execution_count": null,
   "metadata": {},
   "outputs": [],
   "source": []
  }
 ],
 "metadata": {
  "kernelspec": {
   "display_name": "Python 3",
   "language": "python",
   "name": "python3"
  },
  "language_info": {
   "codemirror_mode": {
    "name": "ipython",
    "version": 3
   },
   "file_extension": ".py",
   "mimetype": "text/x-python",
   "name": "python",
   "nbconvert_exporter": "python",
   "pygments_lexer": "ipython3",
   "version": "3.6.5"
  }
 },
 "nbformat": 4,
 "nbformat_minor": 2
}
