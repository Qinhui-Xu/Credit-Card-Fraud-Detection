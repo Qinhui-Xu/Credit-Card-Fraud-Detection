{
 "cells": [
  {
   "cell_type": "markdown",
   "metadata": {},
   "source": [
    "### Qinhui Xu 09/19/2018\n",
    "\n",
    "#### Data Source: https://www.kaggle.com/mlg-ulb/creditcardfraud"
   ]
  },
  {
   "cell_type": "markdown",
   "metadata": {},
   "source": [
    "As I mentioned in dealing with imbalance step shows, I will prepare two dataset - one come from cluster based undersampling - the other one come from only SMOTE method.\n",
    "\n",
    "I will use following different models to make predictions:\n",
    "\n",
    "1. Logistic Regression\n",
    "2. Gradient Boosting Machine\n",
    "3. Random Forest Model\n",
    "4. XGBoost\n",
    "5. Neural Network"
   ]
  },
  {
   "cell_type": "markdown",
   "metadata": {},
   "source": [
    "#### Data Preprocessing"
   ]
  },
  {
   "cell_type": "markdown",
   "metadata": {},
   "source": [
    "- Feature Engineering"
   ]
  },
  {
   "cell_type": "code",
   "execution_count": 1,
   "metadata": {},
   "outputs": [
    {
     "name": "stderr",
     "output_type": "stream",
     "text": [
      "C:\\Users\\Tiffany Xu\\Anaconda3\\lib\\site-packages\\sklearn\\cross_validation.py:41: DeprecationWarning: This module was deprecated in version 0.18 in favor of the model_selection module into which all the refactored classes and functions are moved. Also note that the interface of the new CV iterators are different from that of this module. This module will be removed in 0.20.\n",
      "  \"This module will be removed in 0.20.\", DeprecationWarning)\n"
     ]
    }
   ],
   "source": [
    "import pandas as pd\n",
    "import numpy as np\n",
    "import matplotlib.pyplot as plt\n",
    "import seaborn as sns\n",
    "import warnings\n",
    "warnings.filterwarnings(\"ignore\")\n",
    "%matplotlib inline\n",
    "\n",
    "from sklearn.preprocessing import StandardScaler\n",
    "from sklearn.cross_validation import train_test_split\n",
    "from sklearn.linear_model import LogisticRegression\n",
    "from sklearn.metrics import recall_score,accuracy_score\n",
    "from sklearn.metrics import confusion_matrix"
   ]
  },
  {
   "cell_type": "code",
   "execution_count": 2,
   "metadata": {},
   "outputs": [],
   "source": [
    "# Data Preprocessing based on Data Exploration / Feature Engineering\n",
    "df = pd.read_csv(\"C:/Users/Tiffany Xu/Documents/MachineLearningStudy/DeepLearning/creditcard.csv\")\n",
    "\n",
    "df['V1_'] = df.V1.map(lambda x: 1 if x < -3 else 0)\n",
    "df['V2_'] = df.V2.map(lambda x: 1 if x > 2.5 else 0)\n",
    "df['V3_'] = df.V3.map(lambda x: 1 if x < -4 else 0)\n",
    "df['V4_'] = df.V4.map(lambda x: 1 if x > 2.5 else 0)\n",
    "df['V5_'] = df.V5.map(lambda x: 1 if x < -4.5 else 0)\n",
    "df['V6_'] = df.V6.map(lambda x: 1 if x < -2.5 else 0)\n",
    "df['V7_'] = df.V7.map(lambda x: 1 if x < -3 else 0)\n",
    "df['V9_'] = df.V9.map(lambda x: 1 if x < -2 else 0)\n",
    "df['V10_'] = df.V10.map(lambda x: 1 if x < -2.5 else 0)\n",
    "df['V11_'] = df.V11.map(lambda x: 1 if x > 2 else 0)\n",
    "df['V12_'] = df.V12.map(lambda x: 1 if x < -2 else 0)\n",
    "df['V14_'] = df.V14.map(lambda x: 1 if x < -2.5 else 0)\n",
    "df['V16_'] = df.V16.map(lambda x: 1 if x < -2 else 0)\n",
    "df['V17_'] = df.V17.map(lambda x: 1 if x < -2 else 0)\n",
    "df['V18_'] = df.V18.map(lambda x: 1 if x < -2 else 0)\n",
    "df['V19_'] = df.V19.map(lambda x: 1 if x > 1.5 else 0)\n",
    "df['V21_'] = df.V21.map(lambda x: 1 if x > 0.6 else 0)\n",
    "\n",
    "df['normalized_amount'] = StandardScaler().fit_transform(df['Amount'].values.reshape(-1,1))\n",
    "df = df.drop(['Amount','Time'], axis=1)\n",
    "\n",
    "df_nn = df\n",
    "df = df.drop(['V28','V27','V26','V25','V24','V23','V22','V20','V15','V13','V8'], axis =1)"
   ]
  },
  {
   "cell_type": "markdown",
   "metadata": {},
   "source": [
    "- Cluster Based on Undersampling"
   ]
  },
  {
   "cell_type": "code",
   "execution_count": 4,
   "metadata": {
    "scrolled": false
   },
   "outputs": [
    {
     "name": "stdout",
     "output_type": "stream",
     "text": [
      "Checking whether there is an H2O instance running at http://localhost:54321. connected.\n"
     ]
    },
    {
     "data": {
      "text/html": [
       "<div style=\"overflow:auto\"><table style=\"width:50%\"><tr><td>H2O cluster uptime:</td>\n",
       "<td>3 mins 52 secs</td></tr>\n",
       "<tr><td>H2O cluster timezone:</td>\n",
       "<td>America/New_York</td></tr>\n",
       "<tr><td>H2O data parsing timezone:</td>\n",
       "<td>UTC</td></tr>\n",
       "<tr><td>H2O cluster version:</td>\n",
       "<td>3.20.0.2</td></tr>\n",
       "<tr><td>H2O cluster version age:</td>\n",
       "<td>3 months and 8 days </td></tr>\n",
       "<tr><td>H2O cluster name:</td>\n",
       "<td>H2O_from_python_Tiffany_Xu_dnartp</td></tr>\n",
       "<tr><td>H2O cluster total nodes:</td>\n",
       "<td>1</td></tr>\n",
       "<tr><td>H2O cluster free memory:</td>\n",
       "<td>3.366 Gb</td></tr>\n",
       "<tr><td>H2O cluster total cores:</td>\n",
       "<td>4</td></tr>\n",
       "<tr><td>H2O cluster allowed cores:</td>\n",
       "<td>4</td></tr>\n",
       "<tr><td>H2O cluster status:</td>\n",
       "<td>locked, healthy</td></tr>\n",
       "<tr><td>H2O connection url:</td>\n",
       "<td>http://localhost:54321</td></tr>\n",
       "<tr><td>H2O connection proxy:</td>\n",
       "<td>None</td></tr>\n",
       "<tr><td>H2O internal security:</td>\n",
       "<td>False</td></tr>\n",
       "<tr><td>H2O API Extensions:</td>\n",
       "<td>Algos, AutoML, Core V3, Core V4</td></tr>\n",
       "<tr><td>Python version:</td>\n",
       "<td>3.6.5 final</td></tr></table></div>"
      ],
      "text/plain": [
       "--------------------------  ---------------------------------\n",
       "H2O cluster uptime:         3 mins 52 secs\n",
       "H2O cluster timezone:       America/New_York\n",
       "H2O data parsing timezone:  UTC\n",
       "H2O cluster version:        3.20.0.2\n",
       "H2O cluster version age:    3 months and 8 days\n",
       "H2O cluster name:           H2O_from_python_Tiffany_Xu_dnartp\n",
       "H2O cluster total nodes:    1\n",
       "H2O cluster free memory:    3.366 Gb\n",
       "H2O cluster total cores:    4\n",
       "H2O cluster allowed cores:  4\n",
       "H2O cluster status:         locked, healthy\n",
       "H2O connection url:         http://localhost:54321\n",
       "H2O connection proxy:\n",
       "H2O internal security:      False\n",
       "H2O API Extensions:         Algos, AutoML, Core V3, Core V4\n",
       "Python version:             3.6.5 final\n",
       "--------------------------  ---------------------------------"
      ]
     },
     "metadata": {},
     "output_type": "display_data"
    },
    {
     "name": "stdout",
     "output_type": "stream",
     "text": [
      "Parse progress: |█████████████████████████████████████████████████████████| 100%\n",
      "kmeans Model Build progress: |████████████████████████████████████████████| 100%\n"
     ]
    }
   ],
   "source": [
    "##### K-mean Cluster Based on Undersampling\n",
    "import h2o\n",
    "h2o.init()\n",
    "import imp\n",
    "from h2o.estimators.kmeans import H2OKMeansEstimator\n",
    "\n",
    "df_notfraud = df[df[\"Class\"]==0]\n",
    "df_fraud = df[df[\"Class\"]==1]\n",
    "\n",
    "df_kmeans_notfraud = df_notfraud.drop(['Class'], axis=1)\n",
    "hf = h2o.H2OFrame(df_kmeans_notfraud)\n",
    "cls = H2OKMeansEstimator(k=len(df_fraud), standardize=True)\n",
    "cls.train(x=hf.columns, training_frame=hf)\n",
    "\n",
    "df_centers = pd.DataFrame(cls.centers())\n",
    "df_centers.columns = hf.columns\n",
    "df_centers[\"Class\"] = 0\n",
    "df_kmeans_undersample = pd.concat([df_centers,df_fraud],axis=0)\n",
    "\n",
    "X_Kmeans_under = df_kmeans_undersample.loc[:,df_kmeans_undersample.columns != 'Class']\n",
    "y_Kmeans_under = df_kmeans_undersample.loc[:,df_kmeans_undersample.columns == 'Class']"
   ]
  },
  {
   "cell_type": "code",
   "execution_count": 5,
   "metadata": {},
   "outputs": [],
   "source": [
    "df_X_Kmenas = pd.DataFrame(X_Kmeans_under,columns = df_kmeans_notfraud.columns)\n",
    "df_Y_Kmenas = pd.DataFrame(y_Kmeans_under,columns = [\"Class\"])\n",
    "df_Kmeans = pd.concat([df_X_Kmenas,df_Y_Kmenas],axis=1)"
   ]
  },
  {
   "cell_type": "code",
   "execution_count": 6,
   "metadata": {
    "scrolled": true
   },
   "outputs": [
    {
     "data": {
      "text/html": [
       "<div>\n",
       "<style scoped>\n",
       "    .dataframe tbody tr th:only-of-type {\n",
       "        vertical-align: middle;\n",
       "    }\n",
       "\n",
       "    .dataframe tbody tr th {\n",
       "        vertical-align: top;\n",
       "    }\n",
       "\n",
       "    .dataframe thead th {\n",
       "        text-align: right;\n",
       "    }\n",
       "</style>\n",
       "<table border=\"1\" class=\"dataframe\">\n",
       "  <thead>\n",
       "    <tr style=\"text-align: right;\">\n",
       "      <th></th>\n",
       "      <th>V1</th>\n",
       "      <th>V2</th>\n",
       "      <th>V3</th>\n",
       "      <th>V4</th>\n",
       "      <th>V5</th>\n",
       "      <th>V6</th>\n",
       "      <th>V7</th>\n",
       "      <th>V9</th>\n",
       "      <th>V10</th>\n",
       "      <th>V11</th>\n",
       "      <th>...</th>\n",
       "      <th>V11_</th>\n",
       "      <th>V12_</th>\n",
       "      <th>V14_</th>\n",
       "      <th>V16_</th>\n",
       "      <th>V17_</th>\n",
       "      <th>V18_</th>\n",
       "      <th>V19_</th>\n",
       "      <th>V21_</th>\n",
       "      <th>normalized_amount</th>\n",
       "      <th>Class</th>\n",
       "    </tr>\n",
       "  </thead>\n",
       "  <tbody>\n",
       "    <tr>\n",
       "      <th>0</th>\n",
       "      <td>1.361239</td>\n",
       "      <td>-0.213999</td>\n",
       "      <td>-0.159597</td>\n",
       "      <td>0.572173</td>\n",
       "      <td>-0.292153</td>\n",
       "      <td>-0.243940</td>\n",
       "      <td>-0.146892</td>\n",
       "      <td>0.591521</td>\n",
       "      <td>-0.104564</td>\n",
       "      <td>0.050794</td>\n",
       "      <td>...</td>\n",
       "      <td>2.463307e-16</td>\n",
       "      <td>1.526557e-16</td>\n",
       "      <td>-5.898060e-17</td>\n",
       "      <td>6.557255e-16</td>\n",
       "      <td>-4.857226e-17</td>\n",
       "      <td>1.092876e-16</td>\n",
       "      <td>-1.380840e-15</td>\n",
       "      <td>1.006140e-15</td>\n",
       "      <td>-0.118763</td>\n",
       "      <td>0</td>\n",
       "    </tr>\n",
       "    <tr>\n",
       "      <th>1</th>\n",
       "      <td>-35.548539</td>\n",
       "      <td>-31.850484</td>\n",
       "      <td>-48.325589</td>\n",
       "      <td>15.304184</td>\n",
       "      <td>-113.743307</td>\n",
       "      <td>73.301626</td>\n",
       "      <td>120.589494</td>\n",
       "      <td>-3.872425</td>\n",
       "      <td>-12.005487</td>\n",
       "      <td>6.853897</td>\n",
       "      <td>...</td>\n",
       "      <td>1.000000e+00</td>\n",
       "      <td>1.000000e+00</td>\n",
       "      <td>1.000000e+00</td>\n",
       "      <td>0.000000e+00</td>\n",
       "      <td>1.000000e+00</td>\n",
       "      <td>0.000000e+00</td>\n",
       "      <td>1.000000e+00</td>\n",
       "      <td>0.000000e+00</td>\n",
       "      <td>102.362243</td>\n",
       "      <td>0</td>\n",
       "    </tr>\n",
       "    <tr>\n",
       "      <th>2</th>\n",
       "      <td>-36.802320</td>\n",
       "      <td>-63.344698</td>\n",
       "      <td>-20.645794</td>\n",
       "      <td>16.715537</td>\n",
       "      <td>-20.672064</td>\n",
       "      <td>7.694002</td>\n",
       "      <td>24.956587</td>\n",
       "      <td>-2.687312</td>\n",
       "      <td>-8.423404</td>\n",
       "      <td>1.186360</td>\n",
       "      <td>...</td>\n",
       "      <td>0.000000e+00</td>\n",
       "      <td>0.000000e+00</td>\n",
       "      <td>0.000000e+00</td>\n",
       "      <td>0.000000e+00</td>\n",
       "      <td>0.000000e+00</td>\n",
       "      <td>0.000000e+00</td>\n",
       "      <td>0.000000e+00</td>\n",
       "      <td>1.000000e+00</td>\n",
       "      <td>78.235272</td>\n",
       "      <td>0</td>\n",
       "    </tr>\n",
       "    <tr>\n",
       "      <th>3</th>\n",
       "      <td>-37.558067</td>\n",
       "      <td>-29.335992</td>\n",
       "      <td>-24.962322</td>\n",
       "      <td>8.413616</td>\n",
       "      <td>-35.182120</td>\n",
       "      <td>21.550496</td>\n",
       "      <td>36.877368</td>\n",
       "      <td>5.046566</td>\n",
       "      <td>0.909474</td>\n",
       "      <td>3.919686</td>\n",
       "      <td>...</td>\n",
       "      <td>1.000000e+00</td>\n",
       "      <td>0.000000e+00</td>\n",
       "      <td>1.000000e+00</td>\n",
       "      <td>0.000000e+00</td>\n",
       "      <td>1.000000e+00</td>\n",
       "      <td>1.000000e+00</td>\n",
       "      <td>1.000000e+00</td>\n",
       "      <td>0.000000e+00</td>\n",
       "      <td>23.495155</td>\n",
       "      <td>0</td>\n",
       "    </tr>\n",
       "    <tr>\n",
       "      <th>4</th>\n",
       "      <td>-56.407510</td>\n",
       "      <td>-72.715728</td>\n",
       "      <td>-6.605265</td>\n",
       "      <td>16.491217</td>\n",
       "      <td>34.801666</td>\n",
       "      <td>-26.160506</td>\n",
       "      <td>-19.399981</td>\n",
       "      <td>6.967698</td>\n",
       "      <td>9.537780</td>\n",
       "      <td>3.089395</td>\n",
       "      <td>...</td>\n",
       "      <td>1.000000e+00</td>\n",
       "      <td>0.000000e+00</td>\n",
       "      <td>1.000000e+00</td>\n",
       "      <td>0.000000e+00</td>\n",
       "      <td>0.000000e+00</td>\n",
       "      <td>0.000000e+00</td>\n",
       "      <td>1.000000e+00</td>\n",
       "      <td>0.000000e+00</td>\n",
       "      <td>4.451791</td>\n",
       "      <td>0</td>\n",
       "    </tr>\n",
       "  </tbody>\n",
       "</table>\n",
       "<p>5 rows × 36 columns</p>\n",
       "</div>"
      ],
      "text/plain": [
       "          V1         V2         V3         V4          V5         V6  \\\n",
       "0   1.361239  -0.213999  -0.159597   0.572173   -0.292153  -0.243940   \n",
       "1 -35.548539 -31.850484 -48.325589  15.304184 -113.743307  73.301626   \n",
       "2 -36.802320 -63.344698 -20.645794  16.715537  -20.672064   7.694002   \n",
       "3 -37.558067 -29.335992 -24.962322   8.413616  -35.182120  21.550496   \n",
       "4 -56.407510 -72.715728  -6.605265  16.491217   34.801666 -26.160506   \n",
       "\n",
       "           V7        V9        V10       V11  ...            V11_  \\\n",
       "0   -0.146892  0.591521  -0.104564  0.050794  ...    2.463307e-16   \n",
       "1  120.589494 -3.872425 -12.005487  6.853897  ...    1.000000e+00   \n",
       "2   24.956587 -2.687312  -8.423404  1.186360  ...    0.000000e+00   \n",
       "3   36.877368  5.046566   0.909474  3.919686  ...    1.000000e+00   \n",
       "4  -19.399981  6.967698   9.537780  3.089395  ...    1.000000e+00   \n",
       "\n",
       "           V12_          V14_          V16_          V17_          V18_  \\\n",
       "0  1.526557e-16 -5.898060e-17  6.557255e-16 -4.857226e-17  1.092876e-16   \n",
       "1  1.000000e+00  1.000000e+00  0.000000e+00  1.000000e+00  0.000000e+00   \n",
       "2  0.000000e+00  0.000000e+00  0.000000e+00  0.000000e+00  0.000000e+00   \n",
       "3  0.000000e+00  1.000000e+00  0.000000e+00  1.000000e+00  1.000000e+00   \n",
       "4  0.000000e+00  1.000000e+00  0.000000e+00  0.000000e+00  0.000000e+00   \n",
       "\n",
       "           V19_          V21_  normalized_amount  Class  \n",
       "0 -1.380840e-15  1.006140e-15          -0.118763      0  \n",
       "1  1.000000e+00  0.000000e+00         102.362243      0  \n",
       "2  0.000000e+00  1.000000e+00          78.235272      0  \n",
       "3  1.000000e+00  0.000000e+00          23.495155      0  \n",
       "4  1.000000e+00  0.000000e+00           4.451791      0  \n",
       "\n",
       "[5 rows x 36 columns]"
      ]
     },
     "execution_count": 6,
     "metadata": {},
     "output_type": "execute_result"
    }
   ],
   "source": [
    "df_Kmeans.head()"
   ]
  },
  {
   "cell_type": "markdown",
   "metadata": {},
   "source": [
    "- SMOTE: Oversampling"
   ]
  },
  {
   "cell_type": "code",
   "execution_count": 7,
   "metadata": {},
   "outputs": [
    {
     "name": "stderr",
     "output_type": "stream",
     "text": [
      "C:\\Users\\Tiffany Xu\\Anaconda3\\lib\\site-packages\\sklearn\\utils\\deprecation.py:77: DeprecationWarning: Function _ratio_float is deprecated; Use a float for 'ratio' is deprecated from version 0.2. The support will be removed in 0.4. Use a dict, str, or a callable instead.\n",
      "  warnings.warn(msg, category=DeprecationWarning)\n"
     ]
    }
   ],
   "source": [
    "##### SMOTE\n",
    "from imblearn.over_sampling import SMOTE\n",
    "\n",
    "df_features = df.drop(['Class'], axis=1)\n",
    "df_target = df[\"Class\"]\n",
    "\n",
    "sm = SMOTE(random_state=12, ratio=1.0)\n",
    "x_res,y_res = sm.fit_sample(df_features,df_target)"
   ]
  },
  {
   "cell_type": "code",
   "execution_count": 8,
   "metadata": {},
   "outputs": [],
   "source": [
    "df_X_SMOTE = pd.DataFrame(x_res,columns = df_kmeans_notfraud.columns)\n",
    "df_Y_SMOTE = pd.DataFrame(y_res,columns = [\"Class\"])\n",
    "df_SMOTE = pd.concat([df_X_SMOTE,df_Y_SMOTE],axis=1)"
   ]
  },
  {
   "cell_type": "code",
   "execution_count": 9,
   "metadata": {
    "scrolled": true
   },
   "outputs": [
    {
     "data": {
      "text/html": [
       "<div>\n",
       "<style scoped>\n",
       "    .dataframe tbody tr th:only-of-type {\n",
       "        vertical-align: middle;\n",
       "    }\n",
       "\n",
       "    .dataframe tbody tr th {\n",
       "        vertical-align: top;\n",
       "    }\n",
       "\n",
       "    .dataframe thead th {\n",
       "        text-align: right;\n",
       "    }\n",
       "</style>\n",
       "<table border=\"1\" class=\"dataframe\">\n",
       "  <thead>\n",
       "    <tr style=\"text-align: right;\">\n",
       "      <th></th>\n",
       "      <th>V1</th>\n",
       "      <th>V2</th>\n",
       "      <th>V3</th>\n",
       "      <th>V4</th>\n",
       "      <th>V5</th>\n",
       "      <th>V6</th>\n",
       "      <th>V7</th>\n",
       "      <th>V9</th>\n",
       "      <th>V10</th>\n",
       "      <th>V11</th>\n",
       "      <th>...</th>\n",
       "      <th>V11_</th>\n",
       "      <th>V12_</th>\n",
       "      <th>V14_</th>\n",
       "      <th>V16_</th>\n",
       "      <th>V17_</th>\n",
       "      <th>V18_</th>\n",
       "      <th>V19_</th>\n",
       "      <th>V21_</th>\n",
       "      <th>normalized_amount</th>\n",
       "      <th>Class</th>\n",
       "    </tr>\n",
       "  </thead>\n",
       "  <tbody>\n",
       "    <tr>\n",
       "      <th>0</th>\n",
       "      <td>-1.359807</td>\n",
       "      <td>-0.072781</td>\n",
       "      <td>2.536347</td>\n",
       "      <td>1.378155</td>\n",
       "      <td>-0.338321</td>\n",
       "      <td>0.462388</td>\n",
       "      <td>0.239599</td>\n",
       "      <td>0.363787</td>\n",
       "      <td>0.090794</td>\n",
       "      <td>-0.551600</td>\n",
       "      <td>...</td>\n",
       "      <td>0.0</td>\n",
       "      <td>0.0</td>\n",
       "      <td>0.0</td>\n",
       "      <td>0.0</td>\n",
       "      <td>0.0</td>\n",
       "      <td>0.0</td>\n",
       "      <td>0.0</td>\n",
       "      <td>0.0</td>\n",
       "      <td>0.244964</td>\n",
       "      <td>0</td>\n",
       "    </tr>\n",
       "    <tr>\n",
       "      <th>1</th>\n",
       "      <td>1.191857</td>\n",
       "      <td>0.266151</td>\n",
       "      <td>0.166480</td>\n",
       "      <td>0.448154</td>\n",
       "      <td>0.060018</td>\n",
       "      <td>-0.082361</td>\n",
       "      <td>-0.078803</td>\n",
       "      <td>-0.255425</td>\n",
       "      <td>-0.166974</td>\n",
       "      <td>1.612727</td>\n",
       "      <td>...</td>\n",
       "      <td>0.0</td>\n",
       "      <td>0.0</td>\n",
       "      <td>0.0</td>\n",
       "      <td>0.0</td>\n",
       "      <td>0.0</td>\n",
       "      <td>0.0</td>\n",
       "      <td>0.0</td>\n",
       "      <td>0.0</td>\n",
       "      <td>-0.342475</td>\n",
       "      <td>0</td>\n",
       "    </tr>\n",
       "    <tr>\n",
       "      <th>2</th>\n",
       "      <td>-1.358354</td>\n",
       "      <td>-1.340163</td>\n",
       "      <td>1.773209</td>\n",
       "      <td>0.379780</td>\n",
       "      <td>-0.503198</td>\n",
       "      <td>1.800499</td>\n",
       "      <td>0.791461</td>\n",
       "      <td>-1.514654</td>\n",
       "      <td>0.207643</td>\n",
       "      <td>0.624501</td>\n",
       "      <td>...</td>\n",
       "      <td>0.0</td>\n",
       "      <td>0.0</td>\n",
       "      <td>0.0</td>\n",
       "      <td>1.0</td>\n",
       "      <td>0.0</td>\n",
       "      <td>0.0</td>\n",
       "      <td>0.0</td>\n",
       "      <td>0.0</td>\n",
       "      <td>1.160686</td>\n",
       "      <td>0</td>\n",
       "    </tr>\n",
       "    <tr>\n",
       "      <th>3</th>\n",
       "      <td>-0.966272</td>\n",
       "      <td>-0.185226</td>\n",
       "      <td>1.792993</td>\n",
       "      <td>-0.863291</td>\n",
       "      <td>-0.010309</td>\n",
       "      <td>1.247203</td>\n",
       "      <td>0.237609</td>\n",
       "      <td>-1.387024</td>\n",
       "      <td>-0.054952</td>\n",
       "      <td>-0.226487</td>\n",
       "      <td>...</td>\n",
       "      <td>0.0</td>\n",
       "      <td>0.0</td>\n",
       "      <td>0.0</td>\n",
       "      <td>0.0</td>\n",
       "      <td>0.0</td>\n",
       "      <td>0.0</td>\n",
       "      <td>0.0</td>\n",
       "      <td>0.0</td>\n",
       "      <td>0.140534</td>\n",
       "      <td>0</td>\n",
       "    </tr>\n",
       "    <tr>\n",
       "      <th>4</th>\n",
       "      <td>-1.158233</td>\n",
       "      <td>0.877737</td>\n",
       "      <td>1.548718</td>\n",
       "      <td>0.403034</td>\n",
       "      <td>-0.407193</td>\n",
       "      <td>0.095921</td>\n",
       "      <td>0.592941</td>\n",
       "      <td>0.817739</td>\n",
       "      <td>0.753074</td>\n",
       "      <td>-0.822843</td>\n",
       "      <td>...</td>\n",
       "      <td>0.0</td>\n",
       "      <td>0.0</td>\n",
       "      <td>0.0</td>\n",
       "      <td>0.0</td>\n",
       "      <td>0.0</td>\n",
       "      <td>0.0</td>\n",
       "      <td>0.0</td>\n",
       "      <td>0.0</td>\n",
       "      <td>-0.073403</td>\n",
       "      <td>0</td>\n",
       "    </tr>\n",
       "  </tbody>\n",
       "</table>\n",
       "<p>5 rows × 36 columns</p>\n",
       "</div>"
      ],
      "text/plain": [
       "         V1        V2        V3        V4        V5        V6        V7  \\\n",
       "0 -1.359807 -0.072781  2.536347  1.378155 -0.338321  0.462388  0.239599   \n",
       "1  1.191857  0.266151  0.166480  0.448154  0.060018 -0.082361 -0.078803   \n",
       "2 -1.358354 -1.340163  1.773209  0.379780 -0.503198  1.800499  0.791461   \n",
       "3 -0.966272 -0.185226  1.792993 -0.863291 -0.010309  1.247203  0.237609   \n",
       "4 -1.158233  0.877737  1.548718  0.403034 -0.407193  0.095921  0.592941   \n",
       "\n",
       "         V9       V10       V11  ...    V11_  V12_  V14_  V16_  V17_  V18_  \\\n",
       "0  0.363787  0.090794 -0.551600  ...     0.0   0.0   0.0   0.0   0.0   0.0   \n",
       "1 -0.255425 -0.166974  1.612727  ...     0.0   0.0   0.0   0.0   0.0   0.0   \n",
       "2 -1.514654  0.207643  0.624501  ...     0.0   0.0   0.0   1.0   0.0   0.0   \n",
       "3 -1.387024 -0.054952 -0.226487  ...     0.0   0.0   0.0   0.0   0.0   0.0   \n",
       "4  0.817739  0.753074 -0.822843  ...     0.0   0.0   0.0   0.0   0.0   0.0   \n",
       "\n",
       "   V19_  V21_  normalized_amount  Class  \n",
       "0   0.0   0.0           0.244964      0  \n",
       "1   0.0   0.0          -0.342475      0  \n",
       "2   0.0   0.0           1.160686      0  \n",
       "3   0.0   0.0           0.140534      0  \n",
       "4   0.0   0.0          -0.073403      0  \n",
       "\n",
       "[5 rows x 36 columns]"
      ]
     },
     "execution_count": 9,
     "metadata": {},
     "output_type": "execute_result"
    }
   ],
   "source": [
    "df_SMOTE.head()"
   ]
  },
  {
   "cell_type": "markdown",
   "metadata": {},
   "source": [
    "#### Logistic Regression"
   ]
  },
  {
   "cell_type": "code",
   "execution_count": 61,
   "metadata": {},
   "outputs": [
    {
     "name": "stdout",
     "output_type": "stream",
     "text": [
      "Kmeans: Logistic Regression Sensitivity/Recall is: 0.9407894736842105\n",
      "Kmeans: Logistic Regression Specificity is: 0.9027777777777778\n"
     ]
    }
   ],
   "source": [
    "X_under_train, X_under_test, y_under_train, y_under_test = train_test_split(X_Kmeans_under,y_Kmeans_under,test_size = 0.3, random_state = 12)\n",
    "lr = LogisticRegression()\n",
    "lr.fit(X_under_train,y_under_train)\n",
    "y_pred = lr.predict(X_under_test)\n",
    "tn, fp, fn, tp = confusion_matrix(y_under_test, y_pred).ravel()\n",
    "\n",
    "log_kmeans_recall =  tp/(tp+fn)\n",
    "log_kmeans_spec = tn/(tn+fp)\n",
    "\n",
    "print(\"Kmeans: Logistic Regression Sensitivity/Recall is:\",log_kmeans_recall)\n",
    "print(\"Kmeans: Logistic Regression Specificity is:\",log_kmeans_spec)"
   ]
  },
  {
   "cell_type": "code",
   "execution_count": 57,
   "metadata": {},
   "outputs": [
    {
     "name": "stdout",
     "output_type": "stream",
     "text": [
      "SMOTE: Logistic Regression Sensitivity/Recall is: 0.9192237421530965\n",
      "SMOTE: Logistic Regression Specificity is: 0.9706824716859339\n"
     ]
    }
   ],
   "source": [
    "x_train_res, x_val_res, y_train_res, y_val_res = train_test_split(x_res,\n",
    "                                                    y_res,\n",
    "                                                    test_size = .3,\n",
    "                                                    random_state=12)\n",
    "\n",
    "lr = LogisticRegression()\n",
    "lr.fit(x_train_res,y_train_res)\n",
    "y_pred = lr.predict(x_val_res)\n",
    "tn, fp, fn, tp = confusion_matrix(y_val_res, y_pred).ravel()\n",
    "\n",
    "log_smote_recall =  tp/(tp+fn)\n",
    "log_smote_spec = tn/(tn+fp)\n",
    "\n",
    "print(\"SMOTE: Logistic Regression Sensitivity/Recall is:\",log_smote_recall)\n",
    "print(\"SMOTE: Logistic Regression Specificity is:\",log_smote_spec)"
   ]
  },
  {
   "cell_type": "code",
   "execution_count": 12,
   "metadata": {},
   "outputs": [
    {
     "name": "stdout",
     "output_type": "stream",
     "text": [
      "Parse progress: |█████████████████████████████████████████████████████████| 100%\n",
      "Parse progress: |█████████████████████████████████████████████████████████| 100%\n"
     ]
    }
   ],
   "source": [
    "#### Kmeans H2OFrame\n",
    "hf_Kmeans = h2o.H2OFrame(df_Kmeans)\n",
    "hf_Kmeans[\"Class\"] = hf_Kmeans[\"Class\"].asfactor()\n",
    "\n",
    "train_Kmeans, valid_Kmeans = hf_Kmeans.split_frame(\n",
    "    ratios=[0.7], \n",
    "    seed=12, \n",
    "    destination_frames=['train_Kmeans.hex','valid_Kmeans.hex']\n",
    ")\n",
    "\n",
    "#### SMOTE H2OFrame\n",
    "hf_SMOTE = h2o.H2OFrame(df_SMOTE)\n",
    "hf_SMOTE[\"Class\"] = hf_SMOTE[\"Class\"].asfactor()\n",
    "\n",
    "train_SMOTE, valid_SMOTE = hf_SMOTE.split_frame(\n",
    "    ratios=[0.7], \n",
    "    seed=12, \n",
    "    destination_frames=['train_SMOTE.hex','valid_SMOTE.hex']\n",
    ")"
   ]
  },
  {
   "cell_type": "markdown",
   "metadata": {},
   "source": [
    "#### Gradient Boosting Machine"
   ]
  },
  {
   "cell_type": "code",
   "execution_count": 13,
   "metadata": {},
   "outputs": [],
   "source": [
    "from h2o.estimators.gbm import H2OGradientBoostingEstimator"
   ]
  },
  {
   "cell_type": "code",
   "execution_count": 35,
   "metadata": {},
   "outputs": [
    {
     "name": "stdout",
     "output_type": "stream",
     "text": [
      "gbm Model Build progress: |███████████████████████████████████████████████| 100%\n",
      "gbm prediction progress: |████████████████████████████████████████████████| 100%\n",
      "Kmeans: GBM Sensitivity/Recall is: 0.9794520547945206\n",
      "Kmeans: GBM Specificity is: 0.96\n"
     ]
    }
   ],
   "source": [
    "predictors = hf_Kmeans.columns\n",
    "del predictors[-1]\n",
    "response = \"Class\"\n",
    "\n",
    "gbm = H2OGradientBoostingEstimator(\n",
    "  ntrees = 10000,                                                            \n",
    "  learn_rate = 0.01,                                                         \n",
    "  stopping_rounds = 20, stopping_tolerance = 1e-4, stopping_metric = \"AUC\", \n",
    "  sample_rate = 0.8,\n",
    "  col_sample_rate = 0.8,\n",
    "  seed = 12,\n",
    "  score_tree_interval = 10)\n",
    "\n",
    "gbm.train(x=predictors, y=response, training_frame=train_Kmeans,\n",
    "         validation_frame = valid_Kmeans)\n",
    "\n",
    "perf = gbm.model_performance(valid = True)\n",
    "#gbm.confusion_matrix(valid = True)\n",
    "\n",
    "pred = gbm.predict(valid_Kmeans)\n",
    "df_kmeans_pred = pred.as_data_frame()\n",
    "kmeans_pred = df_kmeans_pred[\"p1\"]>0.5\n",
    "kmeans_pred = 1*kmeans_pred\n",
    "kmeans_actual = valid_Kmeans[\"Class\"].as_data_frame()\n",
    "#Calculate recall and sensitivity\n",
    "tn, fp, fn, tp = confusion_matrix(kmeans_actual,kmeans_pred).ravel()\n",
    "gbm_kmeans_recall = tp/(tp+fn)\n",
    "gbm_kmeans_spec = tn / (tn+fp)\n",
    "\n",
    "print(\"Kmeans: GBM Sensitivity/Recall is:\",gbm_kmeans_recall)\n",
    "print(\"Kmeans: GBM Specificity is:\",gbm_kmeans_spec)"
   ]
  },
  {
   "cell_type": "code",
   "execution_count": 36,
   "metadata": {
    "scrolled": true
   },
   "outputs": [
    {
     "name": "stdout",
     "output_type": "stream",
     "text": [
      "gbm Model Build progress: |███████████████████████████████████████████████| 100%\n",
      "gbm prediction progress: |████████████████████████████████████████████████| 100%\n",
      "SMOTE: GBM Sensitivity/Recall is: 0.9957861222960951\n",
      "SMOTE: GBM Specificity is: 0.996013453125735\n"
     ]
    }
   ],
   "source": [
    "predictors = hf_SMOTE.columns\n",
    "del predictors[-1]\n",
    "response = \"Class\"\n",
    "\n",
    "gbm = H2OGradientBoostingEstimator(\n",
    "  ntrees = 10000,                                               \n",
    "  learn_rate = 0.01,                                                         \n",
    "  stopping_rounds = 20, stopping_tolerance = 1e-4, stopping_metric = \"AUC\", \n",
    "  sample_rate = 0.8,\n",
    "  col_sample_rate = 0.8,\n",
    "  seed = 12,\n",
    "  score_tree_interval = 10)\n",
    "\n",
    "gbm.train(x=predictors, y=response, training_frame=train_SMOTE,\n",
    "         validation_frame = valid_SMOTE)\n",
    "\n",
    "perf = gbm.model_performance(valid = True)\n",
    "#gbm.confusion_matrix(valid = True)\n",
    "\n",
    "pred = gbm.predict(valid_SMOTE)\n",
    "df_smote_pred = pred.as_data_frame()\n",
    "smote_pred = df_smote_pred[\"p1\"]>0.5\n",
    "smote_pred = 1*smote_pred\n",
    "smote_actual = valid_SMOTE[\"Class\"].as_data_frame()\n",
    "#Calculate recall and sensitivity\n",
    "tn, fp, fn, tp = confusion_matrix(smote_actual,smote_pred).ravel()\n",
    "gbm_smote_recall = tp/(tp+fn)\n",
    "gbm_smote_spec = tn / (tn+fp)\n",
    "\n",
    "print(\"SMOTE: GBM Sensitivity/Recall is:\",gbm_smote_recall)\n",
    "print(\"SMOTE: GBM Specificity is:\",gbm_smote_spec)"
   ]
  },
  {
   "cell_type": "markdown",
   "metadata": {},
   "source": [
    "#### Random Forest Model"
   ]
  },
  {
   "cell_type": "code",
   "execution_count": 38,
   "metadata": {},
   "outputs": [],
   "source": [
    "from h2o.estimators.random_forest import H2ORandomForestEstimator"
   ]
  },
  {
   "cell_type": "code",
   "execution_count": 39,
   "metadata": {},
   "outputs": [
    {
     "name": "stdout",
     "output_type": "stream",
     "text": [
      "drf Model Build progress: |███████████████████████████████████████████████| 100%\n",
      "drf prediction progress: |████████████████████████████████████████████████| 100%\n",
      "Kmeans: RFM Sensitivity/Recall is: 0.9657534246575342\n",
      "Kmeans: RFM Specificity is: 0.9466666666666667\n"
     ]
    }
   ],
   "source": [
    "predictors = hf_Kmeans.columns\n",
    "del predictors[-1]\n",
    "response = \"Class\"\n",
    "\n",
    "rf_kmeans = H2ORandomForestEstimator(\n",
    "    model_id=\"rf_kmeans\",\n",
    "    ntrees = 10000, \n",
    "    stopping_rounds=20,\n",
    "    score_each_iteration=True,\n",
    "    seed=12)\n",
    "\n",
    "rf_kmeans.train(x=predictors, y=response, training_frame=train_Kmeans,\n",
    "         validation_frame = valid_Kmeans)\n",
    "\n",
    "perf = rf_kmeans.model_performance(valid = True)\n",
    "#rf_kmeans.confusion_matrix(valid = True)\n",
    "\n",
    "pred = rf_kmeans.predict(valid_Kmeans)\n",
    "df_kmeans_pred = pred.as_data_frame()\n",
    "kmeans_pred = df_kmeans_pred[\"p1\"]>0.5\n",
    "kmeans_pred = 1*kmeans_pred\n",
    "kmeans_actual = valid_Kmeans[\"Class\"].as_data_frame()\n",
    "#Calculate recall and sensitivity\n",
    "tn, fp, fn, tp = confusion_matrix(kmeans_actual,kmeans_pred).ravel()\n",
    "rf_kmeans_recall = tp/(tp+fn)\n",
    "rf_kmeans_spec = tn / (tn+fp)\n",
    "\n",
    "print(\"Kmeans: RFM Sensitivity/Recall is:\",rf_kmeans_recall)\n",
    "print(\"Kmeans: RFM Specificity is:\",rf_kmeans_spec)"
   ]
  },
  {
   "cell_type": "code",
   "execution_count": 40,
   "metadata": {},
   "outputs": [
    {
     "name": "stdout",
     "output_type": "stream",
     "text": [
      "drf Model Build progress: |███████████████████████████████████████████████| 100%\n",
      "drf prediction progress: |████████████████████████████████████████████████| 100%\n",
      "SMOTE: RFM Sensitivity/Recall is: 0.9999648843524674\n",
      "SMOTE: RFM Specificity is: 0.9996707276918011\n"
     ]
    }
   ],
   "source": [
    "predictors = hf_Kmeans.columns\n",
    "del predictors[-1]\n",
    "response = \"Class\"\n",
    "\n",
    "rf_SMOTE = H2ORandomForestEstimator(\n",
    "    model_id=\"rf_SMOTE\",\n",
    "    ntrees = 10000,      \n",
    "    stopping_rounds=20,\n",
    "    score_each_iteration=True,\n",
    "    seed=12)\n",
    "\n",
    "rf_SMOTE.train(x=predictors, y=response, training_frame=train_SMOTE,\n",
    "         validation_frame = valid_SMOTE)\n",
    "\n",
    "perf = rf_SMOTE.model_performance(valid = True)\n",
    "#rf_SMOTE.confusion_matrix(valid = True)\n",
    "\n",
    "pred = rf_SMOTE.predict(valid_SMOTE)\n",
    "df_smote_pred = pred.as_data_frame()\n",
    "smote_pred = df_smote_pred[\"p1\"]>0.5\n",
    "smote_pred = 1*smote_pred\n",
    "smote_actual = valid_SMOTE[\"Class\"].as_data_frame()\n",
    "#Calculate recall and sensitivity\n",
    "tn, fp, fn, tp = confusion_matrix(smote_actual,smote_pred).ravel()\n",
    "rf_smote_recall = tp/(tp+fn)\n",
    "rf_smote_spec = tn / (tn+fp)\n",
    "\n",
    "print(\"SMOTE: RFM Sensitivity/Recall is:\",rf_smote_recall)\n",
    "print(\"SMOTE: RFM Specificity is:\",rf_smote_spec)"
   ]
  },
  {
   "cell_type": "markdown",
   "metadata": {},
   "source": [
    "#### XGBoost"
   ]
  },
  {
   "cell_type": "code",
   "execution_count": 41,
   "metadata": {},
   "outputs": [],
   "source": [
    "import xgboost as xgb\n",
    "from sklearn.preprocessing import LabelEncoder"
   ]
  },
  {
   "cell_type": "code",
   "execution_count": 54,
   "metadata": {},
   "outputs": [
    {
     "name": "stdout",
     "output_type": "stream",
     "text": [
      "Kmeans: XGBoost Sensitivity/Recall is: 1.0\n",
      "Kmeans: XGBoost Specificity is: 0.9791666666666666\n"
     ]
    }
   ],
   "source": [
    "X_kmeans, y_kmeans = df_Kmeans.iloc[:,:-1],df_Kmeans.iloc[:,-1]\n",
    "X_train, X_test, y_train, y_test = train_test_split(X_kmeans, y_kmeans, test_size=0.3, random_state=12)\n",
    "\n",
    "\n",
    "xg_kmeans = xgb.XGBRegressor(objective ='binary:logistic', subsample=1, learning_rate = 0.1,\n",
    "                max_depth = 7, alpha = 10, n_estimators = 10)\n",
    "xg_kmeans.fit(X_train,y_train)\n",
    "\n",
    "preds = xg_kmeans.predict(X_test)\n",
    "\n",
    "cm_kmeans = confusion_matrix(y_test, (preds>0.5))\n",
    "xgb_kmeans_recall = recall_score(y_test, (preds>0.5))\n",
    "xgb_kmeans_spec = cm_kmeans[0,0]/(cm_kmeans[0,0]+cm_kmeans[0,1])\n",
    "\n",
    "print(\"Kmeans: XGBoost Sensitivity/Recall is:\",xgb_kmeans_recall)\n",
    "print(\"Kmeans: XGBoost Specificity is:\",xgb_kmeans_spec)"
   ]
  },
  {
   "cell_type": "code",
   "execution_count": 55,
   "metadata": {},
   "outputs": [
    {
     "name": "stdout",
     "output_type": "stream",
     "text": [
      "SMOTE: XGBoost Sensitivity/Recall is: 0.9733088166401199\n",
      "SMOTE: XGBoost Specificity is: 0.9791666666666666\n"
     ]
    }
   ],
   "source": [
    "X_smote, y_smote = df_SMOTE.iloc[:,:-1],df_SMOTE.iloc[:,-1]\n",
    "X_train, X_test, y_train, y_test = train_test_split(X_smote, y_smote, test_size=0.3, random_state=12)\n",
    "\n",
    "\n",
    "xg_smote = xgb.XGBRegressor(objective ='binary:logistic', subsample=1, learning_rate = 0.1,\n",
    "                max_depth = 7, alpha = 10, n_estimators = 10)\n",
    "xg_smote.fit(X_train,y_train)\n",
    "\n",
    "preds = xg_smote.predict(X_test)\n",
    "\n",
    "cm_smote = confusion_matrix(y_test, (preds>0.5))\n",
    "xgb_smote_recall = recall_score(y_test, (preds>0.5))\n",
    "xgb_smote_spec = cm_kmeans[0,0]/(cm_kmeans[0,0]+cm_kmeans[0,1])\n",
    "\n",
    "print(\"SMOTE: XGBoost Sensitivity/Recall is:\",xgb_smote_recall)\n",
    "print(\"SMOTE: XGBoost Specificity is:\",xgb_smote_spec)"
   ]
  },
  {
   "cell_type": "markdown",
   "metadata": {},
   "source": [
    "#### Neural Network"
   ]
  },
  {
   "cell_type": "code",
   "execution_count": 44,
   "metadata": {},
   "outputs": [],
   "source": [
    "from h2o.estimators.deeplearning import H2ODeepLearningEstimator"
   ]
  },
  {
   "cell_type": "code",
   "execution_count": 45,
   "metadata": {},
   "outputs": [
    {
     "name": "stdout",
     "output_type": "stream",
     "text": [
      "Parse progress: |█████████████████████████████████████████████████████████| 100%\n",
      "kmeans Model Build progress: |████████████████████████████████████████████| 100%\n"
     ]
    }
   ],
   "source": [
    "##### K-mean Cluster Based on Undersampling - Neural Network Dataset\n",
    "df_notfraud_nn = df_nn[df_nn[\"Class\"]==0]\n",
    "df_fraud_nn = df_nn[df_nn[\"Class\"]==1]\n",
    "\n",
    "df_kmeans_notfraud_nn = df_notfraud_nn.drop(['Class'], axis=1)\n",
    "hf_nn = h2o.H2OFrame(df_kmeans_notfraud_nn)\n",
    "cls_nn = H2OKMeansEstimator(k=len(df_fraud_nn), standardize=True)\n",
    "cls_nn.train(x=hf_nn.columns, training_frame=hf_nn)\n",
    "\n",
    "df_centers_nn = pd.DataFrame(cls_nn.centers())\n",
    "df_centers_nn.columns = hf_nn.columns\n",
    "df_centers_nn[\"Class\"] = 0\n",
    "df_kmeans_undersample_nn = pd.concat([df_centers_nn,df_fraud_nn],axis=0)\n",
    "\n",
    "X_Kmeans_under_nn = df_kmeans_undersample_nn.loc[:,df_kmeans_undersample_nn.columns != 'Class']\n",
    "y_Kmeans_under_nn = df_kmeans_undersample_nn.loc[:,df_kmeans_undersample_nn.columns == 'Class']"
   ]
  },
  {
   "cell_type": "code",
   "execution_count": 46,
   "metadata": {},
   "outputs": [],
   "source": [
    "df_X_Kmenas_nn = pd.DataFrame(X_Kmeans_under_nn,columns = df_kmeans_notfraud_nn.columns)\n",
    "df_Y_Kmenas_nn = pd.DataFrame(y_Kmeans_under_nn,columns = [\"Class\"])\n",
    "df_Kmeans_nn = pd.concat([df_X_Kmenas_nn,df_Y_Kmenas_nn],axis=1)"
   ]
  },
  {
   "cell_type": "code",
   "execution_count": 47,
   "metadata": {},
   "outputs": [
    {
     "name": "stderr",
     "output_type": "stream",
     "text": [
      "C:\\Users\\Tiffany Xu\\Anaconda3\\lib\\site-packages\\sklearn\\utils\\deprecation.py:77: DeprecationWarning: Function _ratio_float is deprecated; Use a float for 'ratio' is deprecated from version 0.2. The support will be removed in 0.4. Use a dict, str, or a callable instead.\n",
      "  warnings.warn(msg, category=DeprecationWarning)\n"
     ]
    }
   ],
   "source": [
    "##### SMOTE\n",
    "df_features_nn = df_nn.drop(['Class'], axis=1)\n",
    "df_target_nn = df_nn[\"Class\"]\n",
    "\n",
    "sm = SMOTE(random_state=12, ratio=1.0)\n",
    "x_res_nn,y_res_nn = sm.fit_sample(df_features_nn,df_target_nn)"
   ]
  },
  {
   "cell_type": "code",
   "execution_count": 48,
   "metadata": {},
   "outputs": [],
   "source": [
    "df_X_SMOTE_nn = pd.DataFrame(x_res_nn,columns = df_kmeans_notfraud_nn.columns)\n",
    "df_Y_SMOTE_nn = pd.DataFrame(y_res_nn,columns = [\"Class\"])\n",
    "df_SMOTE_nn = pd.concat([df_X_SMOTE_nn,df_Y_SMOTE_nn],axis=1)"
   ]
  },
  {
   "cell_type": "code",
   "execution_count": 49,
   "metadata": {},
   "outputs": [
    {
     "name": "stdout",
     "output_type": "stream",
     "text": [
      "Parse progress: |█████████████████████████████████████████████████████████| 100%\n",
      "Parse progress: |█████████████████████████████████████████████████████████| 100%\n"
     ]
    }
   ],
   "source": [
    "#### Kmeans H2OFrame\n",
    "hf_Kmeans_nn = h2o.H2OFrame(df_Kmeans_nn)\n",
    "hf_Kmeans_nn[\"Class\"] = hf_Kmeans_nn[\"Class\"].asfactor()\n",
    "\n",
    "train_Kmeans_nn, valid_Kmeans_nn = hf_Kmeans_nn.split_frame(\n",
    "    ratios=[0.7], \n",
    "    seed=12, \n",
    "    destination_frames=['train_Kmeans_nn.hex','valid_Kmeans_nn.hex']\n",
    ")\n",
    "\n",
    "#### SMOTE H2OFrame\n",
    "hf_SMOTE_nn = h2o.H2OFrame(df_SMOTE_nn)\n",
    "hf_SMOTE_nn[\"Class\"] = hf_SMOTE_nn[\"Class\"].asfactor()\n",
    "\n",
    "train_SMOTE_nn, valid_SMOTE_nn = hf_SMOTE_nn.split_frame(\n",
    "    ratios=[0.7], \n",
    "    seed=12, \n",
    "    destination_frames=['train_SMOTE_nn.hex','valid_SMOTE_nn.hex']\n",
    ")\n",
    "\n"
   ]
  },
  {
   "cell_type": "code",
   "execution_count": 50,
   "metadata": {},
   "outputs": [
    {
     "name": "stdout",
     "output_type": "stream",
     "text": [
      "deeplearning Model Build progress: |██████████████████████████████████████| 100%\n",
      "deeplearning prediction progress: |███████████████████████████████████████| 100%\n",
      "Kmeans: Neural Network Sensitivity/Recall is: 0.9452054794520548\n",
      "Kmeans: Neural Network Specificity is: 0.9733333333333334\n"
     ]
    }
   ],
   "source": [
    "predictors = hf_Kmeans_nn.columns\n",
    "del predictors[-1]\n",
    "response = \"Class\"\n",
    "\n",
    "nn_Kmeans = H2ODeepLearningEstimator(\n",
    "    model_id=\"nn_Kmeans\",\n",
    "    hidden=[32,32,32],                  ## small network, runs faster\n",
    "    epochs=1000000,                      ## hopefully converges earlier...\n",
    "    score_validation_samples=10000,      ## sample the validation dataset (faster)\n",
    "    stopping_rounds=2,\n",
    "    stopping_metric=\"misclassification\", ## could be \"MSE\",\"logloss\",\"r2\"\n",
    "    stopping_tolerance=0.01,\n",
    "    seed = 12,\n",
    "    distribution = 'bernoulli')\n",
    "\n",
    "nn_Kmeans.train(x=predictors, y=response, training_frame=train_Kmeans_nn, validation_frame = valid_Kmeans_nn)\n",
    "#nn_Kmeans.confusion_matrix(valid = True)\n",
    "\n",
    "\n",
    "pred = nn_Kmeans.predict(valid_Kmeans_nn)\n",
    "df_kmeans_pred = pred.as_data_frame()\n",
    "kmeans_pred = df_kmeans_pred[\"p1\"]>0.5\n",
    "kmeans_pred = 1*kmeans_pred\n",
    "kmeans_actual = valid_Kmeans[\"Class\"].as_data_frame()\n",
    "#Calculate recall and sensitivity\n",
    "tn, fp, fn, tp = confusion_matrix(kmeans_actual,kmeans_pred).ravel()\n",
    "nn_kmeans_recall = tp/(tp+fn)\n",
    "nn_kmeans_spec = tn / (tn+fp)\n",
    "\n",
    "print(\"Kmeans: Neural Network Sensitivity/Recall is:\",nn_kmeans_recall)\n",
    "print(\"Kmeans: Neural Network Specificity is:\",nn_kmeans_spec)"
   ]
  },
  {
   "cell_type": "code",
   "execution_count": 51,
   "metadata": {
    "scrolled": true
   },
   "outputs": [
    {
     "name": "stdout",
     "output_type": "stream",
     "text": [
      "deeplearning Model Build progress: |██████████████████████████████████████| 100%\n",
      "deeplearning prediction progress: |███████████████████████████████████████| 100%\n",
      "SMOTE: Neural Network Sensitivity/Recall is: 0.9998478321940256\n",
      "SMOTE: Neural Network Specificity is: 0.9917093936685639\n"
     ]
    }
   ],
   "source": [
    "predictors = hf_SMOTE_nn.columns\n",
    "del predictors[-1]\n",
    "response = \"Class\"\n",
    "\n",
    "nn_SMOTE = H2ODeepLearningEstimator(\n",
    "    model_id=\"nn_SMOTE\",\n",
    "    hidden=[32,32,32],                  ## small network, runs faster\n",
    "    epochs=1000000,                      ## hopefully converges earlier...\n",
    "    #score_validation_samples=10000,      ## sample the validation dataset (faster)\n",
    "    stopping_rounds=2,\n",
    "    stopping_metric=\"misclassification\", ## could be \"MSE\",\"logloss\",\"r2\"\n",
    "    stopping_tolerance=0.01,\n",
    "    seed = 12,\n",
    "    distribution = 'bernoulli')\n",
    "\n",
    "nn_SMOTE.train(x=predictors, y=response, training_frame=train_SMOTE_nn, validation_frame = valid_SMOTE_nn)\n",
    "#nn_SMOTE.confusion_matrix(valid= True)\n",
    "\n",
    "\n",
    "pred = nn_SMOTE.predict(valid_SMOTE_nn)\n",
    "df_smote_pred = pred.as_data_frame()\n",
    "smote_pred = df_smote_pred[\"p1\"]>0.5\n",
    "smote_pred = 1*smote_pred\n",
    "smote_actual = valid_SMOTE[\"Class\"].as_data_frame()\n",
    "#Calculate recall and sensitivity\n",
    "tn, fp, fn, tp = confusion_matrix(smote_actual,smote_pred).ravel()\n",
    "nn_smote_recall = tp/(tp+fn)\n",
    "nn_smote_spec = tn / (tn+fp)\n",
    "\n",
    "print(\"SMOTE: Neural Network Sensitivity/Recall is:\",nn_smote_recall)\n",
    "print(\"SMOTE: Neural Network Specificity is:\",nn_smote_spec)"
   ]
  },
  {
   "cell_type": "markdown",
   "metadata": {},
   "source": [
    "#### Model Comparsion"
   ]
  },
  {
   "cell_type": "code",
   "execution_count": 70,
   "metadata": {},
   "outputs": [
    {
     "data": {
      "text/plain": [
       "<matplotlib.legend.Legend at 0x2198ad7b898>"
      ]
     },
     "execution_count": 70,
     "metadata": {},
     "output_type": "execute_result"
    },
    {
     "data": {
      "image/png": "[encoded data removed]",
      "text/plain": [
       "<Figure size 432x288 with 1 Axes>"
      ]
     },
     "metadata": {},
     "output_type": "display_data"
    }
   ],
   "source": [
    "# LR, GBM ,RFM,-XGBoost, NeuralNetwork\n",
    "Recall_Kmeans = [log_kmeans_recall, gbm_kmeans_recall, rf_kmeans_recall,xgb_kmeans_recall,nn_kmeans_recall]\n",
    "Recall_SMOTE = [log_smote_recall, gbm_smote_recall, rf_smote_recall,xgb_smote_recall,nn_smote_recall]\n",
    "df_summary = pd.DataFrame({\"Recall - Kmeans\":Recall_Kmeans,\"Recall - SMOTE\":Recall_SMOTE})\n",
    "df_summary.index = [\"Logistic Regression\",\"GBM\",\"RFM\",\"XGBoost\",\"NeuralNetwork\"]\n",
    "df_summary.plot.bar(rot = 0,alpha=0.75,)\n",
    "plt.grid(zorder=0)\n",
    "plt.legend(loc='center left', bbox_to_anchor=(1.0, 0.5),title = \"Recall Rate Comparsion\")"
   ]
  },
  {
   "cell_type": "code",
   "execution_count": 72,
   "metadata": {},
   "outputs": [
    {
     "data": {
      "text/plain": [
       "<matplotlib.legend.Legend at 0x2198b218ef0>"
      ]
     },
     "execution_count": 72,
     "metadata": {},
     "output_type": "execute_result"
    },
    {
     "data": {
      "image/png": "[encoded data removed]",
      "text/plain": [
       "<Figure size 432x288 with 1 Axes>"
      ]
     },
     "metadata": {},
     "output_type": "display_data"
    }
   ],
   "source": [
    "# LR, GBM ,RFM,-XGBoost, NeuralNetwork\n",
    "Spec_Kmeans = [log_kmeans_spec, gbm_kmeans_spec, rf_kmeans_spec,xgb_kmeans_spec,nn_kmeans_spec]\n",
    "Spec_SMOTE = [log_smote_spec, gbm_smote_spec, rf_smote_spec,xgb_smote_spec,nn_smote_spec]\n",
    "df_summary = pd.DataFrame({\"Specificity Kmeans\":Spec_Kmeans,\"Specificity SMOTE\":Spec_SMOTE})\n",
    "df_summary.index = [\"Logistic Regression\",\"GBM\",\"RFM\",\"XGBoost\",\"NeuralNetwork\"]\n",
    "df_summary.plot.bar(rot = 0,alpha=0.75,)\n",
    "plt.grid(zorder=0)\n",
    "plt.legend(loc='center left', bbox_to_anchor=(1.0, 0.5),title = \"Specificity Rate Comparsion\")"
   ]
  },
  {
   "cell_type": "code",
   "execution_count": 75,
   "metadata": {},
   "outputs": [
    {
     "data": {
      "text/plain": [
       "<matplotlib.legend.Legend at 0x2198b2cedd8>"
      ]
     },
     "execution_count": 75,
     "metadata": {},
     "output_type": "execute_result"
    },
    {
     "data": {
      "image/png": "[encoded data removed]",
      "text/plain": [
       "<Figure size 432x288 with 1 Axes>"
      ]
     },
     "metadata": {},
     "output_type": "display_data"
    }
   ],
   "source": [
    "# LR, GBM ,RFM,-XGBoost, NeuralNetwork\n",
    "Recall_Kmeans = [log_kmeans_recall, gbm_kmeans_recall, rf_kmeans_recall,xgb_kmeans_recall,nn_kmeans_recall]\n",
    "Recall_SMOTE = [log_smote_recall, gbm_smote_recall, rf_smote_recall,xgb_smote_recall,nn_smote_recall]\n",
    "Spec_Kmeans = [log_kmeans_spec, gbm_kmeans_spec, rf_kmeans_spec,xgb_kmeans_spec,nn_kmeans_spec]\n",
    "Spec_SMOTE = [log_smote_spec, gbm_smote_spec, rf_smote_spec,xgb_smote_spec,nn_smote_spec]\n",
    "\n",
    "df_summary = pd.DataFrame({\"Recall - Kmeans\":Recall_Kmeans,\"Recall - SMOTE\":Recall_SMOTE,\n",
    "                           \"Specificity Kmeans\":Spec_Kmeans,\"Specificity SMOTE\":Spec_SMOTE\n",
    "                          })\n",
    "df_summary.index = [\"Logistic Regression\",\"GBM\",\"RFM\",\"XGBoost\",\"NeuralNetwork\"]\n",
    "df_summary.plot.bar(rot = 0,alpha=0.75,)\n",
    "plt.grid(zorder=0)\n",
    "plt.legend(loc='center left', bbox_to_anchor=(1.0, 0.5),title = \"Recall Rate Comparsion\")"
   ]
  },
  {
   "cell_type": "code",
   "execution_count": 76,
   "metadata": {},
   "outputs": [
    {
     "data": {
      "text/html": [
       "<div>\n",
       "<style scoped>\n",
       "    .dataframe tbody tr th:only-of-type {\n",
       "        vertical-align: middle;\n",
       "    }\n",
       "\n",
       "    .dataframe tbody tr th {\n",
       "        vertical-align: top;\n",
       "    }\n",
       "\n",
       "    .dataframe thead th {\n",
       "        text-align: right;\n",
       "    }\n",
       "</style>\n",
       "<table border=\"1\" class=\"dataframe\">\n",
       "  <thead>\n",
       "    <tr style=\"text-align: right;\">\n",
       "      <th></th>\n",
       "      <th>Recall - Kmeans</th>\n",
       "      <th>Recall - SMOTE</th>\n",
       "      <th>Specificity Kmeans</th>\n",
       "      <th>Specificity SMOTE</th>\n",
       "    </tr>\n",
       "  </thead>\n",
       "  <tbody>\n",
       "    <tr>\n",
       "      <th>Logistic Regression</th>\n",
       "      <td>0.940789</td>\n",
       "      <td>0.919224</td>\n",
       "      <td>0.902778</td>\n",
       "      <td>0.970682</td>\n",
       "    </tr>\n",
       "    <tr>\n",
       "      <th>GBM</th>\n",
       "      <td>0.979452</td>\n",
       "      <td>0.995786</td>\n",
       "      <td>0.960000</td>\n",
       "      <td>0.996013</td>\n",
       "    </tr>\n",
       "    <tr>\n",
       "      <th>RFM</th>\n",
       "      <td>0.965753</td>\n",
       "      <td>0.999965</td>\n",
       "      <td>0.946667</td>\n",
       "      <td>0.999671</td>\n",
       "    </tr>\n",
       "    <tr>\n",
       "      <th>XGBoost</th>\n",
       "      <td>1.000000</td>\n",
       "      <td>0.973309</td>\n",
       "      <td>0.979167</td>\n",
       "      <td>0.979167</td>\n",
       "    </tr>\n",
       "    <tr>\n",
       "      <th>NeuralNetwork</th>\n",
       "      <td>0.945205</td>\n",
       "      <td>0.999848</td>\n",
       "      <td>0.973333</td>\n",
       "      <td>0.991709</td>\n",
       "    </tr>\n",
       "  </tbody>\n",
       "</table>\n",
       "</div>"
      ],
      "text/plain": [
       "                     Recall - Kmeans  Recall - SMOTE  Specificity Kmeans  \\\n",
       "Logistic Regression         0.940789        0.919224            0.902778   \n",
       "GBM                         0.979452        0.995786            0.960000   \n",
       "RFM                         0.965753        0.999965            0.946667   \n",
       "XGBoost                     1.000000        0.973309            0.979167   \n",
       "NeuralNetwork               0.945205        0.999848            0.973333   \n",
       "\n",
       "                     Specificity SMOTE  \n",
       "Logistic Regression           0.970682  \n",
       "GBM                           0.996013  \n",
       "RFM                           0.999671  \n",
       "XGBoost                       0.979167  \n",
       "NeuralNetwork                 0.991709  "
      ]
     },
     "execution_count": 76,
     "metadata": {},
     "output_type": "execute_result"
    }
   ],
   "source": [
    "df_summary"
   ]
  },
  {
   "cell_type": "markdown",
   "metadata": {},
   "source": [
    "Comparing Recall Rate, we can see that XGBoost achieves the highest recall rate on undersampled dataset while Gradient Boosting Model, Random Forest Model and Neural Network achieve good rate on oversampled dataset. For Specificity Rate, these four models also perform well on specific datasets - undersampled/oversampled. \n",
    "\n",
    "Since undersampled dataset would definitely cause information loss, I will focus more on the model performing well on SMOTE dataset.\n",
    "We can see that Random Forest Model achieves the highest value for both of Recall Rate and Specificity Rate on SMOTE dataset.\n",
    "\n",
    "Therefore, I will select **Random Forest Model** as the best single model."
   ]
  },
  {
   "cell_type": "code",
   "execution_count": null,
   "metadata": {},
   "outputs": [],
   "source": []
  }
 ],
 "metadata": {
  "kernelspec": {
   "display_name": "Python 3",
   "language": "python",
   "name": "python3"
  },
  "language_info": {
   "codemirror_mode": {
    "name": "ipython",
    "version": 3
   },
   "file_extension": ".py",
   "mimetype": "text/x-python",
   "name": "python",
   "nbconvert_exporter": "python",
   "pygments_lexer": "ipython3",
   "version": "3.6.5"
  }
 },
 "nbformat": 4,
 "nbformat_minor": 2
}
